{
 "cells": [
  {
   "cell_type": "code",
   "execution_count": 238,
   "metadata": {},
   "outputs": [],
   "source": [
    "import os\n",
    "import pandas as pd\n",
    "import yfinance as yf\n",
    "import time\n",
    "from datetime import datetime, timedelta\n",
    "\n",
    "# ファイルパスを指定\n",
    "file_path = 'ai_temp/'\n",
    "\n",
    "# ファイル名を取得\n",
    "file_names = os.listdir(file_path)\n",
    "\n",
    "# CSVファイルのみを取得\n",
    "csv_files = [f for f in file_names if f.endswith('.csv')]"
   ]
  },
  {
   "cell_type": "code",
   "execution_count": 239,
   "metadata": {},
   "outputs": [
    {
     "data": {
      "text/plain": [
       "['2022-12-28.csv',\n",
       " '2022-12-29.csv',\n",
       " '2022-12-30.csv',\n",
       " '2023-01-03.csv',\n",
       " '2023-01-04.csv',\n",
       " '2023-01-05.csv',\n",
       " '2023-01-06.csv',\n",
       " '2023-01-09.csv',\n",
       " '2023-01-10.csv',\n",
       " '2023-01-11.csv',\n",
       " '2023-01-12.csv',\n",
       " '2023-01-13.csv',\n",
       " '2023-01-17.csv',\n",
       " '2023-01-18.csv',\n",
       " '2023-01-19.csv',\n",
       " '2023-01-20.csv',\n",
       " '2023-01-23.csv',\n",
       " '2023-01-24.csv',\n",
       " '2023-01-25.csv',\n",
       " '2023-01-26.csv',\n",
       " '2023-01-27.csv',\n",
       " '2023-01-30.csv',\n",
       " '2023-01-31.csv',\n",
       " '2023-02-01.csv',\n",
       " '2023-02-02.csv',\n",
       " '2023-02-03.csv',\n",
       " '2023-02-06.csv',\n",
       " '2023-02-07.csv',\n",
       " '2023-02-08.csv',\n",
       " '2023-02-09.csv',\n",
       " '2023-02-10.csv',\n",
       " '2023-02-13.csv',\n",
       " '2023-02-14.csv',\n",
       " '2023-02-15.csv',\n",
       " '2023-02-16.csv',\n",
       " '2023-02-17.csv',\n",
       " '2023-02-21.csv',\n",
       " '2023-02-22.csv',\n",
       " '2023-02-23.csv',\n",
       " '2023-02-24.csv',\n",
       " '2023-02-27.csv',\n",
       " '2023-02-28.csv',\n",
       " '2023-03-01.csv',\n",
       " '2023-03-02.csv',\n",
       " '2023-03-03.csv',\n",
       " '2023-03-06.csv',\n",
       " '2023-03-07.csv',\n",
       " '2023-03-08.csv',\n",
       " '2023-03-09.csv',\n",
       " '2023-03-10.csv',\n",
       " '2023-03-13.csv',\n",
       " '2023-03-14.csv',\n",
       " '2023-03-15.csv',\n",
       " '2023-03-16.csv',\n",
       " '2023-03-17.csv',\n",
       " '2023-03-20.csv',\n",
       " '2023-03-21.csv',\n",
       " '2023-03-22.csv',\n",
       " '2023-03-23.csv',\n",
       " '2023-03-24.csv',\n",
       " '2023-03-27.csv',\n",
       " '2023-03-28.csv',\n",
       " '2023-03-29.csv',\n",
       " '2023-03-30.csv',\n",
       " '2023-03-31.csv',\n",
       " '2023-04-03.csv',\n",
       " '2023-04-04.csv',\n",
       " '2023-04-05.csv',\n",
       " '2023-04-06.csv',\n",
       " '2023-04-10.csv',\n",
       " '2023-04-11.csv',\n",
       " '2023-04-12.csv',\n",
       " '2023-04-13.csv',\n",
       " '2023-04-14.csv',\n",
       " '2023-04-17.csv',\n",
       " '2023-04-18.csv',\n",
       " '2023-04-19.csv',\n",
       " '2023-04-20.csv',\n",
       " '2023-04-21.csv',\n",
       " '2023-04-24.csv',\n",
       " '2023-04-25.csv',\n",
       " '2023-04-26.csv',\n",
       " '2023-04-27.csv',\n",
       " '2023-04-28.csv',\n",
       " '2023-05-01.csv',\n",
       " '2023-05-02.csv',\n",
       " '2023-05-03.csv',\n",
       " '2023-05-04.csv',\n",
       " '2023-05-05.csv',\n",
       " '2023-05-08.csv',\n",
       " '2023-05-09.csv',\n",
       " '2023-05-10.csv',\n",
       " '2023-05-11.csv',\n",
       " '2023-05-12.csv',\n",
       " '2023-05-15.csv',\n",
       " '2023-05-16.csv',\n",
       " '2023-05-17.csv',\n",
       " '2023-05-18.csv',\n",
       " '2023-05-19.csv',\n",
       " '2023-05-22.csv',\n",
       " '2023-05-23.csv',\n",
       " '2023-05-24.csv',\n",
       " '2023-05-25.csv',\n",
       " '2023-05-26.csv',\n",
       " '2023-05-30.csv',\n",
       " '2023-05-31.csv',\n",
       " '2023-06-01.csv',\n",
       " '2023-06-02.csv',\n",
       " '2023-06-05.csv',\n",
       " '2023-06-06.csv',\n",
       " '2023-06-07.csv',\n",
       " '2023-06-08.csv',\n",
       " '2023-06-09.csv',\n",
       " '2023-06-12.csv',\n",
       " '2023-06-13.csv',\n",
       " '2023-06-14.csv',\n",
       " '2023-06-15.csv',\n",
       " '2023-06-16.csv',\n",
       " '2023-06-20.csv',\n",
       " '2023-06-21.csv',\n",
       " '2023-06-22.csv',\n",
       " '2023-06-23.csv',\n",
       " '2023-06-26.csv',\n",
       " '2023-06-27.csv',\n",
       " '2023-06-28.csv',\n",
       " '2023-06-29.csv',\n",
       " '2023-06-30.csv',\n",
       " '2023-07-03.csv',\n",
       " '2023-07-05.csv',\n",
       " '2023-07-06.csv',\n",
       " '2023-07-07.csv',\n",
       " '2023-07-10.csv',\n",
       " '2023-07-11.csv',\n",
       " '2023-07-12.csv',\n",
       " '2023-07-13.csv',\n",
       " '2023-07-14.csv',\n",
       " '2023-07-17.csv',\n",
       " '2023-07-18.csv',\n",
       " '2023-07-19.csv',\n",
       " '2023-07-20.csv',\n",
       " '2023-07-21.csv',\n",
       " '2023-07-24.csv',\n",
       " '2023-07-25.csv',\n",
       " '2023-07-26.csv',\n",
       " '2023-07-27.csv',\n",
       " '2023-07-28.csv',\n",
       " '2023-07-31.csv',\n",
       " '2023-08-01.csv',\n",
       " '2023-08-02.csv',\n",
       " '2023-08-03.csv',\n",
       " '2023-08-04.csv',\n",
       " '2023-08-07.csv',\n",
       " '2023-08-08.csv',\n",
       " '2023-08-09.csv',\n",
       " '2023-08-10.csv',\n",
       " '2023-08-11.csv',\n",
       " '2023-08-14.csv',\n",
       " '2023-08-15.csv',\n",
       " '2023-08-16.csv',\n",
       " '2023-08-17.csv',\n",
       " '2023-08-18.csv',\n",
       " '2023-08-21.csv',\n",
       " '2023-08-22.csv',\n",
       " '2023-08-23.csv',\n",
       " '2023-08-24.csv',\n",
       " '2023-08-25.csv',\n",
       " '2023-08-28.csv',\n",
       " '2023-08-29.csv',\n",
       " '2023-08-30.csv',\n",
       " '2023-08-31.csv',\n",
       " '2023-09-01.csv',\n",
       " '2023-09-05.csv',\n",
       " '2023-09-06.csv',\n",
       " '2023-09-07.csv',\n",
       " '2023-09-08.csv',\n",
       " '2023-09-11.csv',\n",
       " '2023-09-12.csv',\n",
       " '2023-09-13.csv',\n",
       " '2023-09-14.csv',\n",
       " '2023-09-15.csv',\n",
       " '2023-09-18.csv',\n",
       " '2023-09-19.csv',\n",
       " '2023-09-20.csv',\n",
       " '2023-09-21.csv',\n",
       " '2023-09-22.csv',\n",
       " '2023-09-25.csv',\n",
       " '2023-09-26.csv',\n",
       " '2023-09-27.csv',\n",
       " '2023-09-28.csv',\n",
       " '2023-09-29.csv',\n",
       " '2023-10-02.csv',\n",
       " '2023-10-03.csv',\n",
       " '2023-10-04.csv',\n",
       " '2023-10-05.csv',\n",
       " '2023-10-06.csv',\n",
       " '2023-10-09.csv',\n",
       " '2023-10-10.csv',\n",
       " '2023-10-11.csv',\n",
       " '2023-10-12.csv']"
      ]
     },
     "execution_count": 239,
     "metadata": {},
     "output_type": "execute_result"
    }
   ],
   "source": [
    "csv_files"
   ]
  },
  {
   "cell_type": "code",
   "execution_count": 241,
   "metadata": {},
   "outputs": [
    {
     "name": "stdout",
     "output_type": "stream",
     "text": [
      "ADTX 2022-12-28 0.9659090344653007\n",
      "ADTX 2022-12-29 1.1881187670067979\n",
      "ADTX 2022-12-30 0.9705882824357067\n",
      "ADTX 2023-01-03 1.4363636537031694\n",
      "ADTX 2023-01-04 1.0068965780323949\n",
      "ADTX 2023-01-05 0.9864864995481324\n",
      "ADTX 2023-01-06 0.8837837672390323\n",
      "ADTX 2023-01-09 0.9923076629638672\n",
      "ADTX 2023-01-10 1.0538461391742413\n",
      "ADTX 2023-01-11 0.9571428298950195\n",
      "ADTX 2023-01-12 0.9928057963640445\n",
      "ADTX 2023-01-13 1.0298507898202809\n",
      "ADTX 2023-01-17 1.0344827586206897\n",
      "ADTX 2023-01-18 0.9266666412353516\n",
      "ADTX 2023-01-19 0.9236111488239275\n",
      "ADTX 2023-01-20 1.0814815097384982\n",
      "ADTX 2023-01-23 1.0689655172413792\n",
      "ADTX 2023-01-24 0.9363057317102728\n",
      "ADTX 2023-01-25 1.0100671527546916\n",
      "ADTX 2023-01-26 0.9864864995481324\n",
      "ADTX 2023-01-27 0.9379310607910156\n",
      "ADTX 2023-01-30 0.9640287759912278\n",
      "ADTX 2023-01-31 1.014925430495004\n",
      "ADTX 2023-02-01 0.9928057963640445\n",
      "ADTX 2023-02-02 1.0\n",
      "ADTX 2023-02-03 1.0376711796363105\n",
      "ADTX 2023-02-06 0.9018405213076596\n",
      "ADTX 2023-02-07 0.9720279323867593\n",
      "ADTX 2023-02-08 1.014598526426977\n",
      "ADTX 2023-02-09 0.9424460964736965\n",
      "ADTX 2023-02-10 0.9692307985745944\n",
      "ADTX 2023-02-13 1.015999984741211\n",
      "ADTX 2023-02-14 1.0779527390540526\n",
      "ADTX 2023-02-15 0.9489051226999481\n",
      "ADTX 2023-02-16 1.0\n",
      "ADTX 2023-02-17 1.0\n",
      "ADTX 2023-02-21 0.975999984741211\n",
      "ADTX 2023-02-22 0.9834710118484178\n",
      "ADTX 2023-02-23 0.9593495941262967\n",
      "ADTX 2023-02-24 1.0350877706657466\n",
      "ADTX 2023-02-27 1.0434782608695652\n",
      "ADTX 2023-02-28 0.9338842838418414\n"
     ]
    }
   ],
   "source": [
    "result_list = []\n",
    "end_limit_day = '2023-03-01'\n",
    "res_df = pd.DataFrame(columns=['name', 'date', 'OPEN', 'CLOSE'])\n",
    "for csv_file in csv_files:\n",
    "    try:\n",
    "        df = pd.read_csv(os.path.join(file_path, csv_file), header=0)\n",
    "        # print(df['name'][0])\n",
    "        # print(csv_file.split('.')[0])\n",
    "\n",
    "        # 株式のシンボルを指定してyfinanceからデータを取得する\n",
    "        ticker = yf.Ticker(df['name'][0])\n",
    "\n",
    "        start_date = csv_file.split('.')[0]\n",
    "        date_str = csv_file.split('.')[0]\n",
    "        date_obj = datetime.strptime(date_str, '%Y-%m-%d')\n",
    "        new_date_obj = date_obj + timedelta(days=1)\n",
    "        end_date = new_date_obj.strftime('%Y-%m-%d')\n",
    "        specific_data = ticker.history(start=start_date ,end=end_date)\n",
    "\n",
    "        # print(float(specific_data['Close'][0]) / float(specific_data['Open'][0]))\n",
    "        result_list.append(float(specific_data['Close'][0]) / float(specific_data['Open'][0]))\n",
    "        res_df.loc[len(res_df)] = [df['name'][0], start_date, float(specific_data['Open'][0]), float(specific_data['Close'][0])]\n",
    "        print(df['name'][0], start_date, float(specific_data['Close'][0]) / float(specific_data['Open'][0]))\n",
    "\n",
    "        if end_limit_day and end_date >= end_limit_day:\n",
    "            break\n",
    "        \n",
    "    except Exception as e:\n",
    "        print(e)\n",
    "        continue\n",
    "\n",
    "    # time.sleep(2)"
   ]
  },
  {
   "cell_type": "code",
   "execution_count": 242,
   "metadata": {},
   "outputs": [],
   "source": [
    "res_df.to_csv('result2.csv', index=False)"
   ]
  },
  {
   "cell_type": "code",
   "execution_count": 234,
   "metadata": {},
   "outputs": [
    {
     "name": "stdout",
     "output_type": "stream",
     "text": [
      "1.128985922992436\n"
     ]
    }
   ],
   "source": [
    "# リスト内の全要素を掛け合わせる\n",
    "result_nums = []\n",
    "result = 1\n",
    "for num in result_list:\n",
    "    result *= num\n",
    "    result_nums.append(result)\n",
    "\n",
    "# 結果を表示する\n",
    "print(result)"
   ]
  },
  {
   "cell_type": "code",
   "execution_count": 200,
   "metadata": {},
   "outputs": [
    {
     "data": {
      "text/html": [
       "<div>\n",
       "<style scoped>\n",
       "    .dataframe tbody tr th:only-of-type {\n",
       "        vertical-align: middle;\n",
       "    }\n",
       "\n",
       "    .dataframe tbody tr th {\n",
       "        vertical-align: top;\n",
       "    }\n",
       "\n",
       "    .dataframe thead th {\n",
       "        text-align: right;\n",
       "    }\n",
       "</style>\n",
       "<table border=\"1\" class=\"dataframe\">\n",
       "  <thead>\n",
       "    <tr style=\"text-align: right;\">\n",
       "      <th></th>\n",
       "      <th>Open</th>\n",
       "      <th>High</th>\n",
       "      <th>Low</th>\n",
       "      <th>Close</th>\n",
       "      <th>Volume</th>\n",
       "      <th>Dividends</th>\n",
       "      <th>Stock Splits</th>\n",
       "    </tr>\n",
       "    <tr>\n",
       "      <th>Date</th>\n",
       "      <th></th>\n",
       "      <th></th>\n",
       "      <th></th>\n",
       "      <th></th>\n",
       "      <th></th>\n",
       "      <th></th>\n",
       "      <th></th>\n",
       "    </tr>\n",
       "  </thead>\n",
       "  <tbody>\n",
       "    <tr>\n",
       "      <th>2023-03-31 00:00:00-04:00</th>\n",
       "      <td>2.57</td>\n",
       "      <td>3.46</td>\n",
       "      <td>2.57</td>\n",
       "      <td>3.3</td>\n",
       "      <td>2843900</td>\n",
       "      <td>0.0</td>\n",
       "      <td>0.0</td>\n",
       "    </tr>\n",
       "  </tbody>\n",
       "</table>\n",
       "</div>"
      ],
      "text/plain": [
       "                           Open  High   Low  Close   Volume  Dividends  \\\n",
       "Date                                                                     \n",
       "2023-03-31 00:00:00-04:00  2.57  3.46  2.57    3.3  2843900        0.0   \n",
       "\n",
       "                           Stock Splits  \n",
       "Date                                     \n",
       "2023-03-31 00:00:00-04:00           0.0  "
      ]
     },
     "execution_count": 200,
     "metadata": {},
     "output_type": "execute_result"
    }
   ],
   "source": [
    "specific_data"
   ]
  },
  {
   "cell_type": "code",
   "execution_count": 207,
   "metadata": {},
   "outputs": [
    {
     "data": {
      "text/plain": [
       "[1.0253164308649139,\n",
       " 0.8780488230372245,\n",
       " 1.4520546781969808,\n",
       " 0.9174311645664506,\n",
       " 0.9805825422504354,\n",
       " 0.9805825422504354,\n",
       " 0.9801980384996437,\n",
       " 1.059999942779541,\n",
       " 1.1009174412262677,\n",
       " 1.1249999751647324,\n",
       " 0.9696969094902602,\n",
       " 1.198412699914453,\n",
       " 0.8807947359703692,\n",
       " 1.2153846929764636,\n",
       " 1.130434805143533,\n",
       " 0.9285714332499719,\n",
       " 1.0357143237274533,\n",
       " 1.0292397375443723,\n",
       " 1.0755813913193184,\n",
       " 0.8650000254313152,\n",
       " 0.9895833430346104,\n",
       " 1.0106382877538516,\n",
       " 0.9789473882342312]"
      ]
     },
     "execution_count": 207,
     "metadata": {},
     "output_type": "execute_result"
    }
   ],
   "source": []
  },
  {
   "cell_type": "code",
   "execution_count": null,
   "metadata": {},
   "outputs": [],
   "source": []
  },
  {
   "cell_type": "code",
   "execution_count": 208,
   "metadata": {},
   "outputs": [
    {
     "name": "stdout",
     "output_type": "stream",
     "text": [
      "1.8816698294111986\n"
     ]
    }
   ],
   "source": []
  },
  {
   "cell_type": "code",
   "execution_count": 25,
   "metadata": {},
   "outputs": [],
   "source": [
    "import csv\n",
    "\n",
    "# CSVファイルに書き込む\n",
    "with open('output.csv', 'w', newline='') as file:\n",
    "    writer = csv.writer(file)\n",
    "    for num in result_nums:\n",
    "        writer.writerow([num])"
   ]
  },
  {
   "cell_type": "code",
   "execution_count": 27,
   "metadata": {},
   "outputs": [],
   "source": [
    "import csv\n",
    "\n",
    "# CSVファイルに書き込む\n",
    "with open('output_2.csv', 'w', newline='') as file:\n",
    "    writer = csv.writer(file)\n",
    "    for num in result_list:\n",
    "        writer.writerow([num])"
   ]
  },
  {
   "cell_type": "code",
   "execution_count": 45,
   "metadata": {},
   "outputs": [
    {
     "name": "stdout",
     "output_type": "stream",
     "text": [
      "1.0430107122579966\n"
     ]
    }
   ],
   "source": [
    "# 株式のシンボルを指定してyfinanceからデータを取得する\n",
    "msft = yf.Ticker(\"SANG\")\n",
    "\n",
    "# 特定の日時の株式データを取得する\n",
    "# specific_date = '2022-01-05'\n",
    "# specific_end_date = '2022-01-04'\n",
    "specific_data = msft.history(start='2022-01-05' ,end='2022-01-06')\n",
    "\n",
    "print(float(specific_data['Close'][0]) / float(specific_data['Open'][0]))"
   ]
  },
  {
   "cell_type": "code",
   "execution_count": 14,
   "metadata": {},
   "outputs": [],
   "source": [
    "base_df = pd.read_csv('../database/normaraze_stock_price/dataset_20231012.csv')"
   ]
  },
  {
   "cell_type": "code",
   "execution_count": 21,
   "metadata": {},
   "outputs": [
    {
     "name": "stdout",
     "output_type": "stream",
     "text": [
      "786\n"
     ]
    }
   ],
   "source": [
    "# 特定の文字列を含む行のインデックスを取得\n",
    "indices = base_df[base_df['name'].str.contains(df['name'][0])].index\n",
    "\n",
    "# 結果を表示\n",
    "print(indices[0])"
   ]
  },
  {
   "cell_type": "code",
   "execution_count": 89,
   "metadata": {},
   "outputs": [],
   "source": [
    "import csv"
   ]
  },
  {
   "cell_type": "code",
   "execution_count": 136,
   "metadata": {},
   "outputs": [],
   "source": [
    "import yfinance as yf"
   ]
  },
  {
   "cell_type": "code",
   "execution_count": 201,
   "metadata": {},
   "outputs": [
    {
     "name": "stdout",
     "output_type": "stream",
     "text": [
      "APA\n"
     ]
    }
   ],
   "source": [
    "money = 1\n",
    "start_date_list = ['2023-09-14', '2023-09-15']\n",
    "ticker_list =  [result_df.iloc[0]['name'], result_df.iloc[1]['name']]\n",
    "\n",
    "print(result_df.iloc[1]['name'])"
   ]
  },
  {
   "cell_type": "code",
   "execution_count": 202,
   "metadata": {},
   "outputs": [
    {
     "name": "stdout",
     "output_type": "stream",
     "text": [
      "                            Open  High    Low  Close  Volume  Dividends  \\\n",
      "Date                                                                      \n",
      "2023-09-14 00:00:00-04:00  1.595  1.62  1.595   1.61    5900        0.0   \n",
      "\n",
      "                           Stock Splits  \n",
      "Date                                     \n",
      "2023-09-14 00:00:00-04:00           0.0  \n",
      "                                Open   High        Low      Close   Volume  \\\n",
      "Date                                                                         \n",
      "2023-09-15 00:00:00-04:00  42.759998  43.25  42.040001  42.459999  9349600   \n",
      "\n",
      "                           Dividends  Stock Splits  \n",
      "Date                                                \n",
      "2023-09-15 00:00:00-04:00        0.0           0.0  \n"
     ]
    }
   ],
   "source": [
    "for ticker, date in zip(ticker_list, start_date_list):\n",
    "    money = caliculate_money(money, date, ticker)"
   ]
  },
  {
   "cell_type": "code",
   "execution_count": 205,
   "metadata": {},
   "outputs": [
    {
     "name": "stdout",
     "output_type": "stream",
     "text": [
      "結果は1.0023225143844883, 増減としては0.23225143844882723%になります\n",
      "\n"
     ]
    }
   ],
   "source": [
    "print(f\"結果は{money}, 増減としては{(money-1.)*100}%になります\")"
   ]
  }
 ],
 "metadata": {
  "kernelspec": {
   "display_name": "Python 3 (ipykernel)",
   "language": "python",
   "name": "python3"
  },
  "orig_nbformat": 4
 },
 "nbformat": 4,
 "nbformat_minor": 2
}
