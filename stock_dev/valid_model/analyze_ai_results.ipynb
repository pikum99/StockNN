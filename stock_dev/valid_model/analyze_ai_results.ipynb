{
 "cells": [
  {
   "cell_type": "code",
   "execution_count": 197,
   "metadata": {},
   "outputs": [],
   "source": [
    "import os\n",
    "import pandas as pd\n",
    "import yfinance as yf\n",
    "import time\n",
    "from datetime import datetime, timedelta\n",
    "\n",
    "# ファイルパスを指定\n",
    "file_path = 'ai_results/'\n",
    "\n",
    "# ファイル名を取得\n",
    "file_names = os.listdir(file_path)\n",
    "\n",
    "# CSVファイルのみを取得\n",
    "csv_files = [f for f in file_names if f.endswith('.csv')]"
   ]
  },
  {
   "cell_type": "code",
   "execution_count": 198,
   "metadata": {},
   "outputs": [
    {
     "data": {
      "text/plain": [
       "474"
      ]
     },
     "execution_count": 198,
     "metadata": {},
     "output_type": "execute_result"
    }
   ],
   "source": [
    "len(csv_files)"
   ]
  },
  {
   "cell_type": "code",
   "execution_count": 252,
   "metadata": {},
   "outputs": [],
   "source": [
    "result_list = []\n",
    "res_df = pd.DataFrame(columns=['epoch', 'train_loss', 'result'])\n",
    "\n",
    "for csv_file in csv_files:\n",
    "    df = pd.read_csv(os.path.join(file_path, csv_file), header=0)\n",
    "    split_list = csv_file.split('_')\n",
    "    res_df.loc[len(res_df)] = [int(split_list[-1].split('.')[0]), split_list[4], df['result'].prod()]\n",
    "    # time.sleep(2)"
   ]
  },
  {
   "cell_type": "code",
   "execution_count": 255,
   "metadata": {},
   "outputs": [],
   "source": [
    "test = res_df.apply(pd.to_numeric)\n",
    "test = res_df.sort_values(by='epoch')"
   ]
  },
  {
   "cell_type": "code",
   "execution_count": 256,
   "metadata": {},
   "outputs": [
    {
     "data": {
      "text/html": [
       "<div>\n",
       "<style scoped>\n",
       "    .dataframe tbody tr th:only-of-type {\n",
       "        vertical-align: middle;\n",
       "    }\n",
       "\n",
       "    .dataframe tbody tr th {\n",
       "        vertical-align: top;\n",
       "    }\n",
       "\n",
       "    .dataframe thead th {\n",
       "        text-align: right;\n",
       "    }\n",
       "</style>\n",
       "<table border=\"1\" class=\"dataframe\">\n",
       "  <thead>\n",
       "    <tr style=\"text-align: right;\">\n",
       "      <th></th>\n",
       "      <th>epoch</th>\n",
       "      <th>train_loss</th>\n",
       "      <th>result</th>\n",
       "    </tr>\n",
       "  </thead>\n",
       "  <tbody>\n",
       "    <tr>\n",
       "      <th>470</th>\n",
       "      <td>26</td>\n",
       "      <td>0.49391</td>\n",
       "      <td>1.259590</td>\n",
       "    </tr>\n",
       "    <tr>\n",
       "      <th>467</th>\n",
       "      <td>27</td>\n",
       "      <td>0.48742</td>\n",
       "      <td>1.259590</td>\n",
       "    </tr>\n",
       "    <tr>\n",
       "      <th>466</th>\n",
       "      <td>28</td>\n",
       "      <td>0.48281</td>\n",
       "      <td>1.441098</td>\n",
       "    </tr>\n",
       "    <tr>\n",
       "      <th>465</th>\n",
       "      <td>29</td>\n",
       "      <td>0.47687</td>\n",
       "      <td>1.084523</td>\n",
       "    </tr>\n",
       "    <tr>\n",
       "      <th>463</th>\n",
       "      <td>30</td>\n",
       "      <td>0.46963</td>\n",
       "      <td>1.556540</td>\n",
       "    </tr>\n",
       "    <tr>\n",
       "      <th>...</th>\n",
       "      <td>...</td>\n",
       "      <td>...</td>\n",
       "      <td>...</td>\n",
       "    </tr>\n",
       "    <tr>\n",
       "      <th>15</th>\n",
       "      <td>495</td>\n",
       "      <td>0.16627</td>\n",
       "      <td>0.834474</td>\n",
       "    </tr>\n",
       "    <tr>\n",
       "      <th>78</th>\n",
       "      <td>496</td>\n",
       "      <td>0.19151</td>\n",
       "      <td>0.940587</td>\n",
       "    </tr>\n",
       "    <tr>\n",
       "      <th>54</th>\n",
       "      <td>497</td>\n",
       "      <td>0.18387</td>\n",
       "      <td>0.543618</td>\n",
       "    </tr>\n",
       "    <tr>\n",
       "      <th>112</th>\n",
       "      <td>498</td>\n",
       "      <td>0.20104</td>\n",
       "      <td>1.294559</td>\n",
       "    </tr>\n",
       "    <tr>\n",
       "      <th>47</th>\n",
       "      <td>499</td>\n",
       "      <td>0.18180</td>\n",
       "      <td>0.904884</td>\n",
       "    </tr>\n",
       "  </tbody>\n",
       "</table>\n",
       "<p>474 rows × 3 columns</p>\n",
       "</div>"
      ],
      "text/plain": [
       "     epoch train_loss    result\n",
       "470     26    0.49391  1.259590\n",
       "467     27    0.48742  1.259590\n",
       "466     28    0.48281  1.441098\n",
       "465     29    0.47687  1.084523\n",
       "463     30    0.46963  1.556540\n",
       "..     ...        ...       ...\n",
       "15     495    0.16627  0.834474\n",
       "78     496    0.19151  0.940587\n",
       "54     497    0.18387  0.543618\n",
       "112    498    0.20104  1.294559\n",
       "47     499    0.18180  0.904884\n",
       "\n",
       "[474 rows x 3 columns]"
      ]
     },
     "execution_count": 256,
     "metadata": {},
     "output_type": "execute_result"
    }
   ],
   "source": [
    "test"
   ]
  },
  {
   "cell_type": "code",
   "execution_count": 257,
   "metadata": {},
   "outputs": [
    {
     "data": {
      "image/png": "[encoded data removed]",
      "text/plain": [
       "<Figure size 432x288 with 1 Axes>"
      ]
     },
     "metadata": {
      "needs_background": "light"
     },
     "output_type": "display_data"
    }
   ],
   "source": [
    "import matplotlib.pyplot as plt\n",
    "\n",
    "test.plot(x='epoch', y='result')\n",
    "# グラフを表示する\n",
    "plt.show()"
   ]
  },
  {
   "cell_type": "code",
   "execution_count": 230,
   "metadata": {},
   "outputs": [
    {
     "data": {
      "text/html": [
       "<div>\n",
       "<style scoped>\n",
       "    .dataframe tbody tr th:only-of-type {\n",
       "        vertical-align: middle;\n",
       "    }\n",
       "\n",
       "    .dataframe tbody tr th {\n",
       "        vertical-align: top;\n",
       "    }\n",
       "\n",
       "    .dataframe thead th {\n",
       "        text-align: right;\n",
       "    }\n",
       "</style>\n",
       "<table border=\"1\" class=\"dataframe\">\n",
       "  <thead>\n",
       "    <tr style=\"text-align: right;\">\n",
       "      <th></th>\n",
       "      <th>epoch</th>\n",
       "      <th>train_loss</th>\n",
       "      <th>result</th>\n",
       "    </tr>\n",
       "  </thead>\n",
       "  <tbody>\n",
       "    <tr>\n",
       "      <th>272</th>\n",
       "      <td>100</td>\n",
       "      <td>0.26985</td>\n",
       "      <td>2.287073</td>\n",
       "    </tr>\n",
       "    <tr>\n",
       "      <th>298</th>\n",
       "      <td>101</td>\n",
       "      <td>0.27925</td>\n",
       "      <td>1.699209</td>\n",
       "    </tr>\n",
       "    <tr>\n",
       "      <th>335</th>\n",
       "      <td>102</td>\n",
       "      <td>0.29847</td>\n",
       "      <td>1.815169</td>\n",
       "    </tr>\n",
       "    <tr>\n",
       "      <th>330</th>\n",
       "      <td>103</td>\n",
       "      <td>0.29525</td>\n",
       "      <td>0.895314</td>\n",
       "    </tr>\n",
       "    <tr>\n",
       "      <th>352</th>\n",
       "      <td>104</td>\n",
       "      <td>0.30806</td>\n",
       "      <td>0.595470</td>\n",
       "    </tr>\n",
       "    <tr>\n",
       "      <th>...</th>\n",
       "      <td>...</td>\n",
       "      <td>...</td>\n",
       "      <td>...</td>\n",
       "    </tr>\n",
       "    <tr>\n",
       "      <th>274</th>\n",
       "      <td>95</td>\n",
       "      <td>0.27027</td>\n",
       "      <td>0.703377</td>\n",
       "    </tr>\n",
       "    <tr>\n",
       "      <th>308</th>\n",
       "      <td>96</td>\n",
       "      <td>0.28184</td>\n",
       "      <td>0.932061</td>\n",
       "    </tr>\n",
       "    <tr>\n",
       "      <th>314</th>\n",
       "      <td>97</td>\n",
       "      <td>0.28600</td>\n",
       "      <td>3.294862</td>\n",
       "    </tr>\n",
       "    <tr>\n",
       "      <th>301</th>\n",
       "      <td>98</td>\n",
       "      <td>0.28003</td>\n",
       "      <td>2.438063</td>\n",
       "    </tr>\n",
       "    <tr>\n",
       "      <th>261</th>\n",
       "      <td>99</td>\n",
       "      <td>0.26548</td>\n",
       "      <td>2.368691</td>\n",
       "    </tr>\n",
       "  </tbody>\n",
       "</table>\n",
       "<p>474 rows × 3 columns</p>\n",
       "</div>"
      ],
      "text/plain": [
       "    epoch train_loss    result\n",
       "272   100    0.26985  2.287073\n",
       "298   101    0.27925  1.699209\n",
       "335   102    0.29847  1.815169\n",
       "330   103    0.29525  0.895314\n",
       "352   104    0.30806  0.595470\n",
       "..    ...        ...       ...\n",
       "274    95    0.27027  0.703377\n",
       "308    96    0.28184  0.932061\n",
       "314    97    0.28600  3.294862\n",
       "301    98    0.28003  2.438063\n",
       "261    99    0.26548  2.368691\n",
       "\n",
       "[474 rows x 3 columns]"
      ]
     },
     "execution_count": 230,
     "metadata": {},
     "output_type": "execute_result"
    }
   ],
   "source": [
    "test"
   ]
  },
  {
   "cell_type": "code",
   "execution_count": 259,
   "metadata": {},
   "outputs": [],
   "source": [
    "import matplotlib.pyplot as plt\n",
    "# データフレームの中身を数値に変換する\n",
    "df = res_df.apply(pd.to_numeric)"
   ]
  },
  {
   "cell_type": "code",
   "execution_count": 260,
   "metadata": {},
   "outputs": [],
   "source": [
    "from matplotlib.colors import Normalize"
   ]
  },
  {
   "cell_type": "code",
   "execution_count": 261,
   "metadata": {},
   "outputs": [
    {
     "data": {
      "image/png": "[encoded data removed]",
      "text/plain": [
       "<Figure size 432x288 with 2 Axes>"
      ]
     },
     "metadata": {
      "needs_background": "light"
     },
     "output_type": "display_data"
    }
   ],
   "source": [
    "df\n",
    "# 'A'列が1より大きい行を抽出する\n",
    "df_filtered = df.query('50 > epoch')\n",
    "\n",
    "df_filtered.plot(kind='scatter', x='train_loss', y='result', c='epoch', cmap='jet')\n",
    "# グラフのレイアウトを調整する\n",
    "plt.rcParams['figure.subplot.bottom'] = 0.15\n",
    "\n",
    "\n",
    "\n",
    "# グラフを表示する\n",
    "plt.show()"
   ]
  },
  {
   "cell_type": "code",
   "execution_count": 227,
   "metadata": {},
   "outputs": [
    {
     "data": {
      "text/html": [
       "<div>\n",
       "<style scoped>\n",
       "    .dataframe tbody tr th:only-of-type {\n",
       "        vertical-align: middle;\n",
       "    }\n",
       "\n",
       "    .dataframe tbody tr th {\n",
       "        vertical-align: top;\n",
       "    }\n",
       "\n",
       "    .dataframe thead th {\n",
       "        text-align: right;\n",
       "    }\n",
       "</style>\n",
       "<table border=\"1\" class=\"dataframe\">\n",
       "  <thead>\n",
       "    <tr style=\"text-align: right;\">\n",
       "      <th></th>\n",
       "      <th>epoch</th>\n",
       "      <th>train_loss</th>\n",
       "      <th>result</th>\n",
       "    </tr>\n",
       "  </thead>\n",
       "  <tbody>\n",
       "    <tr>\n",
       "      <th>261</th>\n",
       "      <td>99</td>\n",
       "      <td>0.26548</td>\n",
       "      <td>2.368691</td>\n",
       "    </tr>\n",
       "    <tr>\n",
       "      <th>274</th>\n",
       "      <td>95</td>\n",
       "      <td>0.27027</td>\n",
       "      <td>0.703377</td>\n",
       "    </tr>\n",
       "    <tr>\n",
       "      <th>288</th>\n",
       "      <td>93</td>\n",
       "      <td>0.27662</td>\n",
       "      <td>2.383193</td>\n",
       "    </tr>\n",
       "    <tr>\n",
       "      <th>301</th>\n",
       "      <td>98</td>\n",
       "      <td>0.28003</td>\n",
       "      <td>2.438063</td>\n",
       "    </tr>\n",
       "    <tr>\n",
       "      <th>308</th>\n",
       "      <td>96</td>\n",
       "      <td>0.28184</td>\n",
       "      <td>0.932061</td>\n",
       "    </tr>\n",
       "    <tr>\n",
       "      <th>...</th>\n",
       "      <td>...</td>\n",
       "      <td>...</td>\n",
       "      <td>...</td>\n",
       "    </tr>\n",
       "    <tr>\n",
       "      <th>463</th>\n",
       "      <td>30</td>\n",
       "      <td>0.46963</td>\n",
       "      <td>1.556540</td>\n",
       "    </tr>\n",
       "    <tr>\n",
       "      <th>465</th>\n",
       "      <td>29</td>\n",
       "      <td>0.47687</td>\n",
       "      <td>1.084523</td>\n",
       "    </tr>\n",
       "    <tr>\n",
       "      <th>466</th>\n",
       "      <td>28</td>\n",
       "      <td>0.48281</td>\n",
       "      <td>1.441098</td>\n",
       "    </tr>\n",
       "    <tr>\n",
       "      <th>467</th>\n",
       "      <td>27</td>\n",
       "      <td>0.48742</td>\n",
       "      <td>1.259590</td>\n",
       "    </tr>\n",
       "    <tr>\n",
       "      <th>470</th>\n",
       "      <td>26</td>\n",
       "      <td>0.49391</td>\n",
       "      <td>1.259590</td>\n",
       "    </tr>\n",
       "  </tbody>\n",
       "</table>\n",
       "<p>74 rows × 3 columns</p>\n",
       "</div>"
      ],
      "text/plain": [
       "     epoch  train_loss    result\n",
       "261     99     0.26548  2.368691\n",
       "274     95     0.27027  0.703377\n",
       "288     93     0.27662  2.383193\n",
       "301     98     0.28003  2.438063\n",
       "308     96     0.28184  0.932061\n",
       "..     ...         ...       ...\n",
       "463     30     0.46963  1.556540\n",
       "465     29     0.47687  1.084523\n",
       "466     28     0.48281  1.441098\n",
       "467     27     0.48742  1.259590\n",
       "470     26     0.49391  1.259590\n",
       "\n",
       "[74 rows x 3 columns]"
      ]
     },
     "execution_count": 227,
     "metadata": {},
     "output_type": "execute_result"
    }
   ],
   "source": [
    "df_filtered"
   ]
  },
  {
   "cell_type": "code",
   "execution_count": 212,
   "metadata": {},
   "outputs": [
    {
     "data": {
      "image/png": "[encoded data removed]",
      "text/plain": [
       "<Figure size 432x288 with 2 Axes>"
      ]
     },
     "metadata": {
      "needs_background": "light"
     },
     "output_type": "display_data"
    }
   ],
   "source": [
    "# 散布図を描く\n",
    "df.plot(kind='scatter', x='train_loss', y='result', c='epoch', cmap='jet')\n",
    "# グラフのレイアウトを調整する\n",
    "plt.rcParams['figure.subplot.bottom'] = 0.15\n",
    "\n",
    "plt.title('epoch 0~500')\n",
    "# グラフを表示する\n",
    "plt.show()"
   ]
  },
  {
   "cell_type": "code",
   "execution_count": null,
   "metadata": {},
   "outputs": [],
   "source": []
  },
  {
   "cell_type": "code",
   "execution_count": null,
   "metadata": {},
   "outputs": [],
   "source": []
  },
  {
   "cell_type": "code",
   "execution_count": 208,
   "metadata": {},
   "outputs": [
    {
     "name": "stdout",
     "output_type": "stream",
     "text": [
      "1.8816698294111986\n"
     ]
    }
   ],
   "source": [
    "# リスト内の全要素を掛け合わせる\n",
    "result_nums = []\n",
    "result = 1\n",
    "for num in result_list:\n",
    "    result *= num\n",
    "    result_nums.append(result)\n",
    "\n",
    "# 結果を表示する\n",
    "print(result)"
   ]
  },
  {
   "cell_type": "code",
   "execution_count": 25,
   "metadata": {},
   "outputs": [],
   "source": [
    "import csv\n",
    "\n",
    "# CSVファイルに書き込む\n",
    "with open('output.csv', 'w', newline='') as file:\n",
    "    writer = csv.writer(file)\n",
    "    for num in result_nums:\n",
    "        writer.writerow([num])"
   ]
  },
  {
   "cell_type": "code",
   "execution_count": 27,
   "metadata": {},
   "outputs": [],
   "source": [
    "import csv\n",
    "\n",
    "# CSVファイルに書き込む\n",
    "with open('output_2.csv', 'w', newline='') as file:\n",
    "    writer = csv.writer(file)\n",
    "    for num in result_list:\n",
    "        writer.writerow([num])"
   ]
  },
  {
   "cell_type": "code",
   "execution_count": 45,
   "metadata": {},
   "outputs": [
    {
     "name": "stdout",
     "output_type": "stream",
     "text": [
      "1.0430107122579966\n"
     ]
    }
   ],
   "source": [
    "# 株式のシンボルを指定してyfinanceからデータを取得する\n",
    "msft = yf.Ticker(\"SANG\")\n",
    "\n",
    "# 特定の日時の株式データを取得する\n",
    "# specific_date = '2022-01-05'\n",
    "# specific_end_date = '2022-01-04'\n",
    "specific_data = msft.history(start='2022-01-05' ,end='2022-01-06')\n",
    "\n",
    "print(float(specific_data['Close'][0]) / float(specific_data['Open'][0]))"
   ]
  },
  {
   "cell_type": "code",
   "execution_count": 14,
   "metadata": {},
   "outputs": [],
   "source": [
    "base_df = pd.read_csv('../database/normaraze_stock_price/dataset_20231012.csv')"
   ]
  },
  {
   "cell_type": "code",
   "execution_count": 21,
   "metadata": {},
   "outputs": [
    {
     "name": "stdout",
     "output_type": "stream",
     "text": [
      "786\n"
     ]
    }
   ],
   "source": [
    "# 特定の文字列を含む行のインデックスを取得\n",
    "indices = base_df[base_df['name'].str.contains(df['name'][0])].index\n",
    "\n",
    "# 結果を表示\n",
    "print(indices[0])"
   ]
  },
  {
   "cell_type": "code",
   "execution_count": 89,
   "metadata": {},
   "outputs": [],
   "source": [
    "import csv"
   ]
  },
  {
   "cell_type": "code",
   "execution_count": 136,
   "metadata": {},
   "outputs": [],
   "source": [
    "import yfinance as yf"
   ]
  },
  {
   "cell_type": "code",
   "execution_count": 201,
   "metadata": {},
   "outputs": [
    {
     "name": "stdout",
     "output_type": "stream",
     "text": [
      "APA\n"
     ]
    }
   ],
   "source": [
    "money = 1\n",
    "start_date_list = ['2023-09-14', '2023-09-15']\n",
    "ticker_list =  [result_df.iloc[0]['name'], result_df.iloc[1]['name']]\n",
    "\n",
    "print(result_df.iloc[1]['name'])"
   ]
  },
  {
   "cell_type": "code",
   "execution_count": 202,
   "metadata": {},
   "outputs": [
    {
     "name": "stdout",
     "output_type": "stream",
     "text": [
      "                            Open  High    Low  Close  Volume  Dividends  \\\n",
      "Date                                                                      \n",
      "2023-09-14 00:00:00-04:00  1.595  1.62  1.595   1.61    5900        0.0   \n",
      "\n",
      "                           Stock Splits  \n",
      "Date                                     \n",
      "2023-09-14 00:00:00-04:00           0.0  \n",
      "                                Open   High        Low      Close   Volume  \\\n",
      "Date                                                                         \n",
      "2023-09-15 00:00:00-04:00  42.759998  43.25  42.040001  42.459999  9349600   \n",
      "\n",
      "                           Dividends  Stock Splits  \n",
      "Date                                                \n",
      "2023-09-15 00:00:00-04:00        0.0           0.0  \n"
     ]
    }
   ],
   "source": [
    "for ticker, date in zip(ticker_list, start_date_list):\n",
    "    money = caliculate_money(money, date, ticker)"
   ]
  },
  {
   "cell_type": "code",
   "execution_count": 205,
   "metadata": {},
   "outputs": [
    {
     "name": "stdout",
     "output_type": "stream",
     "text": [
      "結果は1.0023225143844883, 増減としては0.23225143844882723%になります\n",
      "\n"
     ]
    }
   ],
   "source": [
    "print(f\"結果は{money}, 増減としては{(money-1.)*100}%になります\")"
   ]
  }
 ],
 "metadata": {
  "kernelspec": {
   "display_name": "Python 3 (ipykernel)",
   "language": "python",
   "name": "python3"
  },
  "orig_nbformat": 4
 },
 "nbformat": 4,
 "nbformat_minor": 2
}
