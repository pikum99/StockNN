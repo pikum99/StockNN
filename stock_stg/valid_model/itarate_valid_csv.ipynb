{
 "cells": [
  {
   "cell_type": "code",
   "execution_count": 9,
   "metadata": {},
   "outputs": [],
   "source": [
    "import os\n",
    "import pandas as pd\n",
    "import yfinance as yf\n",
    "import time\n",
    "from datetime import datetime, timedelta\n",
    "import csv\n",
    "from tqdm import tqdm\n",
    "\n",
    "# ファイルパスを指定\n",
    "ai_path = 'al_predicts/'\n",
    "\n",
    "# ファイル名を取得\n",
    "ai_names = os.listdir(ai_path)"
   ]
  },
  {
   "cell_type": "code",
   "execution_count": 10,
   "metadata": {},
   "outputs": [
    {
     "name": "stderr",
     "output_type": "stream",
     "text": [
      "  0%|                                                                                           | 0/90 [00:00<?, ?it/s]CBIO: No price data found, symbol may be delisted (1d 2023-10-21 -> 2023-10-22)\n",
      "  1%|▉                                                                                  | 1/90 [00:23<35:30, 23.94s/it]"
     ]
    },
    {
     "name": "stdout",
     "output_type": "stream",
     "text": [
      "index 0 is out of bounds for axis 0 with size 0\n"
     ]
    },
    {
     "name": "stderr",
     "output_type": "stream",
     "text": [
      "CBIO: No price data found, symbol may be delisted (1d 2023-10-21 -> 2023-10-22)\n",
      "  2%|█▊                                                                                 | 2/90 [00:47<35:00, 23.87s/it]"
     ]
    },
    {
     "name": "stdout",
     "output_type": "stream",
     "text": [
      "index 0 is out of bounds for axis 0 with size 0\n"
     ]
    },
    {
     "name": "stderr",
     "output_type": "stream",
     "text": [
      "CBIO: No price data found, symbol may be delisted (1d 2023-10-21 -> 2023-10-22)\n",
      "  3%|██▊                                                                                | 3/90 [01:11<34:28, 23.77s/it]"
     ]
    },
    {
     "name": "stdout",
     "output_type": "stream",
     "text": [
      "index 0 is out of bounds for axis 0 with size 0\n"
     ]
    },
    {
     "name": "stderr",
     "output_type": "stream",
     "text": [
      "CBIO: No price data found, symbol may be delisted (1d 2023-10-21 -> 2023-10-22)\n",
      "  4%|███▋                                                                               | 4/90 [01:34<33:55, 23.66s/it]"
     ]
    },
    {
     "name": "stdout",
     "output_type": "stream",
     "text": [
      "index 0 is out of bounds for axis 0 with size 0\n"
     ]
    },
    {
     "name": "stderr",
     "output_type": "stream",
     "text": [
      "CBIO: No price data found, symbol may be delisted (1d 2023-10-21 -> 2023-10-22)\n",
      "  6%|████▌                                                                              | 5/90 [01:58<33:35, 23.72s/it]"
     ]
    },
    {
     "name": "stdout",
     "output_type": "stream",
     "text": [
      "index 0 is out of bounds for axis 0 with size 0\n"
     ]
    },
    {
     "name": "stderr",
     "output_type": "stream",
     "text": [
      "XRTX: No price data found, symbol may be delisted (1d 2023-10-21 -> 2023-10-22)\n",
      "  7%|█████▌                                                                             | 6/90 [02:22<33:14, 23.74s/it]"
     ]
    },
    {
     "name": "stdout",
     "output_type": "stream",
     "text": [
      "index 0 is out of bounds for axis 0 with size 0\n"
     ]
    },
    {
     "name": "stderr",
     "output_type": "stream",
     "text": [
      "XRTX: No price data found, symbol may be delisted (1d 2023-10-21 -> 2023-10-22)\n",
      "  8%|██████▍                                                                            | 7/90 [02:46<32:53, 23.77s/it]"
     ]
    },
    {
     "name": "stdout",
     "output_type": "stream",
     "text": [
      "index 0 is out of bounds for axis 0 with size 0\n"
     ]
    },
    {
     "name": "stderr",
     "output_type": "stream",
     "text": [
      "CBIO: No price data found, symbol may be delisted (1d 2023-10-21 -> 2023-10-22)\n",
      "  9%|███████▍                                                                           | 8/90 [03:10<32:30, 23.79s/it]"
     ]
    },
    {
     "name": "stdout",
     "output_type": "stream",
     "text": [
      "index 0 is out of bounds for axis 0 with size 0\n"
     ]
    },
    {
     "name": "stderr",
     "output_type": "stream",
     "text": [
      "XRTX: No price data found, symbol may be delisted (1d 2023-10-21 -> 2023-10-22)\n",
      " 10%|████████▎                                                                          | 9/90 [03:33<32:03, 23.74s/it]"
     ]
    },
    {
     "name": "stdout",
     "output_type": "stream",
     "text": [
      "index 0 is out of bounds for axis 0 with size 0\n"
     ]
    },
    {
     "name": "stderr",
     "output_type": "stream",
     "text": [
      "AONC: No price data found, symbol may be delisted (1d 2023-10-21 -> 2023-10-22)\n",
      " 11%|█████████                                                                         | 10/90 [03:57<31:39, 23.74s/it]"
     ]
    },
    {
     "name": "stdout",
     "output_type": "stream",
     "text": [
      "index 0 is out of bounds for axis 0 with size 0\n"
     ]
    },
    {
     "name": "stderr",
     "output_type": "stream",
     "text": [
      "XRTX: No price data found, symbol may be delisted (1d 2023-10-21 -> 2023-10-22)\n",
      " 12%|██████████                                                                        | 11/90 [04:20<31:07, 23.63s/it]"
     ]
    },
    {
     "name": "stdout",
     "output_type": "stream",
     "text": [
      "index 0 is out of bounds for axis 0 with size 0\n"
     ]
    },
    {
     "name": "stderr",
     "output_type": "stream",
     "text": [
      "AONC: No price data found, symbol may be delisted (1d 2023-10-21 -> 2023-10-22)\n",
      " 13%|██████████▉                                                                       | 12/90 [04:44<30:49, 23.71s/it]"
     ]
    },
    {
     "name": "stdout",
     "output_type": "stream",
     "text": [
      "index 0 is out of bounds for axis 0 with size 0\n"
     ]
    },
    {
     "name": "stderr",
     "output_type": "stream",
     "text": [
      "XRTX: No price data found, symbol may be delisted (1d 2023-10-21 -> 2023-10-22)\n",
      " 14%|███████████▊                                                                      | 13/90 [05:08<30:16, 23.59s/it]"
     ]
    },
    {
     "name": "stdout",
     "output_type": "stream",
     "text": [
      "index 0 is out of bounds for axis 0 with size 0\n"
     ]
    },
    {
     "name": "stderr",
     "output_type": "stream",
     "text": [
      "XRTX: No price data found, symbol may be delisted (1d 2023-10-21 -> 2023-10-22)\n",
      " 16%|████████████▊                                                                     | 14/90 [05:31<29:54, 23.61s/it]"
     ]
    },
    {
     "name": "stdout",
     "output_type": "stream",
     "text": [
      "index 0 is out of bounds for axis 0 with size 0\n"
     ]
    },
    {
     "name": "stderr",
     "output_type": "stream",
     "text": [
      "AONC: No price data found, symbol may be delisted (1d 2023-10-21 -> 2023-10-22)\n",
      " 17%|█████████████▋                                                                    | 15/90 [05:55<29:21, 23.49s/it]"
     ]
    },
    {
     "name": "stdout",
     "output_type": "stream",
     "text": [
      "index 0 is out of bounds for axis 0 with size 0\n"
     ]
    },
    {
     "name": "stderr",
     "output_type": "stream",
     "text": [
      "AONC: No price data found, symbol may be delisted (1d 2023-10-21 -> 2023-10-22)\n",
      " 18%|██████████████▌                                                                   | 16/90 [06:18<29:01, 23.53s/it]"
     ]
    },
    {
     "name": "stdout",
     "output_type": "stream",
     "text": [
      "index 0 is out of bounds for axis 0 with size 0\n"
     ]
    },
    {
     "name": "stderr",
     "output_type": "stream",
     "text": [
      "CBIO: No price data found, symbol may be delisted (1d 2023-10-21 -> 2023-10-22)\n",
      " 19%|███████████████▍                                                                  | 17/90 [06:42<28:53, 23.74s/it]"
     ]
    },
    {
     "name": "stdout",
     "output_type": "stream",
     "text": [
      "index 0 is out of bounds for axis 0 with size 0\n"
     ]
    },
    {
     "name": "stderr",
     "output_type": "stream",
     "text": [
      "AONC: No price data found, symbol may be delisted (1d 2023-10-21 -> 2023-10-22)\n",
      " 20%|████████████████▍                                                                 | 18/90 [07:05<28:11, 23.49s/it]"
     ]
    },
    {
     "name": "stdout",
     "output_type": "stream",
     "text": [
      "index 0 is out of bounds for axis 0 with size 0\n"
     ]
    },
    {
     "name": "stderr",
     "output_type": "stream",
     "text": [
      "CBIO: No price data found, symbol may be delisted (1d 2023-10-21 -> 2023-10-22)\n",
      " 21%|█████████████████▎                                                                | 19/90 [07:29<28:01, 23.68s/it]"
     ]
    },
    {
     "name": "stdout",
     "output_type": "stream",
     "text": [
      "index 0 is out of bounds for axis 0 with size 0\n"
     ]
    },
    {
     "name": "stderr",
     "output_type": "stream",
     "text": [
      "AONC: No price data found, symbol may be delisted (1d 2023-10-21 -> 2023-10-22)\n",
      " 22%|██████████████████▏                                                               | 20/90 [07:53<27:31, 23.59s/it]"
     ]
    },
    {
     "name": "stdout",
     "output_type": "stream",
     "text": [
      "index 0 is out of bounds for axis 0 with size 0\n"
     ]
    },
    {
     "name": "stderr",
     "output_type": "stream",
     "text": [
      "XRTX: No price data found, symbol may be delisted (1d 2023-10-21 -> 2023-10-22)\n",
      " 23%|███████████████████▏                                                              | 21/90 [08:16<27:05, 23.56s/it]"
     ]
    },
    {
     "name": "stdout",
     "output_type": "stream",
     "text": [
      "index 0 is out of bounds for axis 0 with size 0\n"
     ]
    },
    {
     "name": "stderr",
     "output_type": "stream",
     "text": [
      "AONC: No price data found, symbol may be delisted (1d 2023-10-21 -> 2023-10-22)\n",
      " 24%|████████████████████                                                              | 22/90 [08:40<26:42, 23.57s/it]"
     ]
    },
    {
     "name": "stdout",
     "output_type": "stream",
     "text": [
      "index 0 is out of bounds for axis 0 with size 0\n"
     ]
    },
    {
     "name": "stderr",
     "output_type": "stream",
     "text": [
      "XRTX: No price data found, symbol may be delisted (1d 2023-10-21 -> 2023-10-22)\n",
      " 26%|████████████████████▉                                                             | 23/90 [09:03<26:09, 23.42s/it]"
     ]
    },
    {
     "name": "stdout",
     "output_type": "stream",
     "text": [
      "index 0 is out of bounds for axis 0 with size 0\n"
     ]
    },
    {
     "name": "stderr",
     "output_type": "stream",
     "text": [
      "CBIO: No price data found, symbol may be delisted (1d 2023-10-21 -> 2023-10-22)\n",
      " 27%|█████████████████████▊                                                            | 24/90 [09:26<25:45, 23.41s/it]"
     ]
    },
    {
     "name": "stdout",
     "output_type": "stream",
     "text": [
      "index 0 is out of bounds for axis 0 with size 0\n"
     ]
    },
    {
     "name": "stderr",
     "output_type": "stream",
     "text": [
      "AONC: No price data found, symbol may be delisted (1d 2023-10-21 -> 2023-10-22)\n",
      " 28%|██████████████████████▊                                                           | 25/90 [09:50<25:24, 23.45s/it]"
     ]
    },
    {
     "name": "stdout",
     "output_type": "stream",
     "text": [
      "index 0 is out of bounds for axis 0 with size 0\n"
     ]
    },
    {
     "name": "stderr",
     "output_type": "stream",
     "text": [
      "XRTX: No price data found, symbol may be delisted (1d 2023-10-21 -> 2023-10-22)\n",
      " 29%|███████████████████████▋                                                          | 26/90 [10:13<24:57, 23.40s/it]"
     ]
    },
    {
     "name": "stdout",
     "output_type": "stream",
     "text": [
      "index 0 is out of bounds for axis 0 with size 0\n"
     ]
    },
    {
     "name": "stderr",
     "output_type": "stream",
     "text": [
      "XRTX: No price data found, symbol may be delisted (1d 2023-10-21 -> 2023-10-22)\n",
      " 30%|████████████████████████▌                                                         | 27/90 [10:37<24:39, 23.48s/it]"
     ]
    },
    {
     "name": "stdout",
     "output_type": "stream",
     "text": [
      "index 0 is out of bounds for axis 0 with size 0\n"
     ]
    },
    {
     "name": "stderr",
     "output_type": "stream",
     "text": [
      "CBIO: No price data found, symbol may be delisted (1d 2023-10-21 -> 2023-10-22)\n",
      " 31%|█████████████████████████▌                                                        | 28/90 [11:00<24:17, 23.51s/it]"
     ]
    },
    {
     "name": "stdout",
     "output_type": "stream",
     "text": [
      "index 0 is out of bounds for axis 0 with size 0\n"
     ]
    },
    {
     "name": "stderr",
     "output_type": "stream",
     "text": [
      "PFIN: No price data found, symbol may be delisted (1d 2023-10-21 -> 2023-10-22)\n",
      " 32%|██████████████████████████▍                                                       | 29/90 [11:24<23:54, 23.52s/it]"
     ]
    },
    {
     "name": "stdout",
     "output_type": "stream",
     "text": [
      "index 0 is out of bounds for axis 0 with size 0\n"
     ]
    },
    {
     "name": "stderr",
     "output_type": "stream",
     "text": [
      "AONC: No price data found, symbol may be delisted (1d 2023-10-21 -> 2023-10-22)\n",
      " 33%|███████████████████████████▎                                                      | 30/90 [11:47<23:27, 23.47s/it]"
     ]
    },
    {
     "name": "stdout",
     "output_type": "stream",
     "text": [
      "index 0 is out of bounds for axis 0 with size 0\n"
     ]
    },
    {
     "name": "stderr",
     "output_type": "stream",
     "text": [
      "XRTX: No price data found, symbol may be delisted (1d 2023-10-21 -> 2023-10-22)\n",
      " 34%|████████████████████████████▏                                                     | 31/90 [12:10<22:57, 23.34s/it]"
     ]
    },
    {
     "name": "stdout",
     "output_type": "stream",
     "text": [
      "index 0 is out of bounds for axis 0 with size 0\n"
     ]
    },
    {
     "name": "stderr",
     "output_type": "stream",
     "text": [
      "CBIO: No price data found, symbol may be delisted (1d 2023-10-21 -> 2023-10-22)\n",
      " 36%|█████████████████████████████▏                                                    | 32/90 [12:34<22:43, 23.52s/it]"
     ]
    },
    {
     "name": "stdout",
     "output_type": "stream",
     "text": [
      "index 0 is out of bounds for axis 0 with size 0\n"
     ]
    },
    {
     "name": "stderr",
     "output_type": "stream",
     "text": [
      "CBIO: No price data found, symbol may be delisted (1d 2023-10-21 -> 2023-10-22)\n",
      " 37%|██████████████████████████████                                                    | 33/90 [12:58<22:16, 23.44s/it]"
     ]
    },
    {
     "name": "stdout",
     "output_type": "stream",
     "text": [
      "index 0 is out of bounds for axis 0 with size 0\n"
     ]
    },
    {
     "name": "stderr",
     "output_type": "stream",
     "text": [
      "CBIO: No price data found, symbol may be delisted (1d 2023-10-21 -> 2023-10-22)\n",
      " 38%|██████████████████████████████▉                                                   | 34/90 [13:21<21:54, 23.48s/it]"
     ]
    },
    {
     "name": "stdout",
     "output_type": "stream",
     "text": [
      "index 0 is out of bounds for axis 0 with size 0\n"
     ]
    },
    {
     "name": "stderr",
     "output_type": "stream",
     "text": [
      "XRTX: No price data found, symbol may be delisted (1d 2023-10-21 -> 2023-10-22)\n",
      " 39%|███████████████████████████████▉                                                  | 35/90 [13:45<21:34, 23.54s/it]"
     ]
    },
    {
     "name": "stdout",
     "output_type": "stream",
     "text": [
      "index 0 is out of bounds for axis 0 with size 0\n"
     ]
    },
    {
     "name": "stderr",
     "output_type": "stream",
     "text": [
      "AONC: No price data found, symbol may be delisted (1d 2023-10-21 -> 2023-10-22)\n",
      " 40%|████████████████████████████████▊                                                 | 36/90 [14:07<20:55, 23.25s/it]"
     ]
    },
    {
     "name": "stdout",
     "output_type": "stream",
     "text": [
      "index 0 is out of bounds for axis 0 with size 0\n"
     ]
    },
    {
     "name": "stderr",
     "output_type": "stream",
     "text": [
      "PFIN: No price data found, symbol may be delisted (1d 2023-10-21 -> 2023-10-22)\n",
      " 41%|█████████████████████████████████▋                                                | 37/90 [14:31<20:35, 23.31s/it]"
     ]
    },
    {
     "name": "stdout",
     "output_type": "stream",
     "text": [
      "index 0 is out of bounds for axis 0 with size 0\n"
     ]
    },
    {
     "name": "stderr",
     "output_type": "stream",
     "text": [
      "AADI: No price data found, symbol may be delisted (1d 2023-10-21 -> 2023-10-22)\n",
      " 42%|██████████████████████████████████▌                                               | 38/90 [14:54<20:08, 23.25s/it]"
     ]
    },
    {
     "name": "stdout",
     "output_type": "stream",
     "text": [
      "index 0 is out of bounds for axis 0 with size 0\n"
     ]
    },
    {
     "name": "stderr",
     "output_type": "stream",
     "text": [
      "AADI: No price data found, symbol may be delisted (1d 2023-10-21 -> 2023-10-22)\n",
      " 43%|███████████████████████████████████▌                                              | 39/90 [15:17<19:42, 23.19s/it]"
     ]
    },
    {
     "name": "stdout",
     "output_type": "stream",
     "text": [
      "index 0 is out of bounds for axis 0 with size 0\n"
     ]
    },
    {
     "name": "stderr",
     "output_type": "stream",
     "text": [
      "PFIN: No price data found, symbol may be delisted (1d 2023-10-21 -> 2023-10-22)\n",
      " 44%|████████████████████████████████████▍                                             | 40/90 [15:40<19:20, 23.20s/it]"
     ]
    },
    {
     "name": "stdout",
     "output_type": "stream",
     "text": [
      "index 0 is out of bounds for axis 0 with size 0\n"
     ]
    },
    {
     "name": "stderr",
     "output_type": "stream",
     "text": [
      "AAME: No price data found, symbol may be delisted (1d 2023-10-21 -> 2023-10-22)\n",
      " 46%|█████████████████████████████████████▎                                            | 41/90 [16:03<18:53, 23.13s/it]"
     ]
    },
    {
     "name": "stdout",
     "output_type": "stream",
     "text": [
      "index 0 is out of bounds for axis 0 with size 0\n"
     ]
    },
    {
     "name": "stderr",
     "output_type": "stream",
     "text": [
      "AAME: No price data found, symbol may be delisted (1d 2023-10-21 -> 2023-10-22)\n",
      " 47%|██████████████████████████████████████▎                                           | 42/90 [16:27<18:41, 23.36s/it]"
     ]
    },
    {
     "name": "stdout",
     "output_type": "stream",
     "text": [
      "index 0 is out of bounds for axis 0 with size 0\n"
     ]
    },
    {
     "name": "stderr",
     "output_type": "stream",
     "text": [
      "AADI: No price data found, symbol may be delisted (1d 2023-10-21 -> 2023-10-22)\n",
      " 48%|███████████████████████████████████████▏                                          | 43/90 [16:51<18:28, 23.58s/it]"
     ]
    },
    {
     "name": "stdout",
     "output_type": "stream",
     "text": [
      "index 0 is out of bounds for axis 0 with size 0\n"
     ]
    },
    {
     "name": "stderr",
     "output_type": "stream",
     "text": [
      "PFIN: No price data found, symbol may be delisted (1d 2023-10-21 -> 2023-10-22)\n",
      " 49%|████████████████████████████████████████                                          | 44/90 [17:15<18:06, 23.61s/it]"
     ]
    },
    {
     "name": "stdout",
     "output_type": "stream",
     "text": [
      "index 0 is out of bounds for axis 0 with size 0\n"
     ]
    },
    {
     "name": "stderr",
     "output_type": "stream",
     "text": [
      "AADI: No price data found, symbol may be delisted (1d 2023-10-21 -> 2023-10-22)\n",
      " 50%|█████████████████████████████████████████                                         | 45/90 [17:38<17:42, 23.62s/it]"
     ]
    },
    {
     "name": "stdout",
     "output_type": "stream",
     "text": [
      "index 0 is out of bounds for axis 0 with size 0\n"
     ]
    },
    {
     "name": "stderr",
     "output_type": "stream",
     "text": [
      "AADI: No price data found, symbol may be delisted (1d 2023-10-21 -> 2023-10-22)\n",
      " 51%|█████████████████████████████████████████▉                                        | 46/90 [18:02<17:18, 23.60s/it]"
     ]
    },
    {
     "name": "stdout",
     "output_type": "stream",
     "text": [
      "index 0 is out of bounds for axis 0 with size 0\n"
     ]
    },
    {
     "name": "stderr",
     "output_type": "stream",
     "text": [
      "CBIO: No price data found, symbol may be delisted (1d 2023-10-21 -> 2023-10-22)\n",
      " 52%|██████████████████████████████████████████▊                                       | 47/90 [18:26<16:55, 23.62s/it]"
     ]
    },
    {
     "name": "stdout",
     "output_type": "stream",
     "text": [
      "index 0 is out of bounds for axis 0 with size 0\n"
     ]
    },
    {
     "name": "stderr",
     "output_type": "stream",
     "text": [
      "AADI: No price data found, symbol may be delisted (1d 2023-10-21 -> 2023-10-22)\n",
      " 53%|███████████████████████████████████████████▋                                      | 48/90 [18:49<16:32, 23.62s/it]"
     ]
    },
    {
     "name": "stdout",
     "output_type": "stream",
     "text": [
      "index 0 is out of bounds for axis 0 with size 0\n"
     ]
    },
    {
     "name": "stderr",
     "output_type": "stream",
     "text": [
      "VBIV: No price data found, symbol may be delisted (1d 2023-10-21 -> 2023-10-22)\n",
      " 54%|████████████████████████████████████████████▋                                     | 49/90 [19:13<16:09, 23.66s/it]"
     ]
    },
    {
     "name": "stdout",
     "output_type": "stream",
     "text": [
      "index 0 is out of bounds for axis 0 with size 0\n"
     ]
    },
    {
     "name": "stderr",
     "output_type": "stream",
     "text": [
      "AADI: No price data found, symbol may be delisted (1d 2023-10-21 -> 2023-10-22)\n",
      " 56%|█████████████████████████████████████████████▌                                    | 50/90 [19:38<15:56, 23.91s/it]"
     ]
    },
    {
     "name": "stdout",
     "output_type": "stream",
     "text": [
      "index 0 is out of bounds for axis 0 with size 0\n"
     ]
    },
    {
     "name": "stderr",
     "output_type": "stream",
     "text": [
      "AADI: No price data found, symbol may be delisted (1d 2023-10-21 -> 2023-10-22)\n",
      " 57%|██████████████████████████████████████████████▍                                   | 51/90 [20:02<15:34, 23.97s/it]"
     ]
    },
    {
     "name": "stdout",
     "output_type": "stream",
     "text": [
      "index 0 is out of bounds for axis 0 with size 0\n"
     ]
    },
    {
     "name": "stderr",
     "output_type": "stream",
     "text": [
      "AADI: No price data found, symbol may be delisted (1d 2023-10-21 -> 2023-10-22)\n",
      " 58%|███████████████████████████████████████████████▍                                  | 52/90 [20:25<15:05, 23.82s/it]"
     ]
    },
    {
     "name": "stdout",
     "output_type": "stream",
     "text": [
      "index 0 is out of bounds for axis 0 with size 0\n"
     ]
    },
    {
     "name": "stderr",
     "output_type": "stream",
     "text": [
      "AADI: No price data found, symbol may be delisted (1d 2023-10-21 -> 2023-10-22)\n",
      " 59%|████████████████████████████████████████████████▎                                 | 53/90 [20:49<14:44, 23.90s/it]"
     ]
    },
    {
     "name": "stdout",
     "output_type": "stream",
     "text": [
      "index 0 is out of bounds for axis 0 with size 0\n"
     ]
    },
    {
     "name": "stderr",
     "output_type": "stream",
     "text": [
      "AADI: No price data found, symbol may be delisted (1d 2023-10-21 -> 2023-10-22)\n",
      " 60%|█████████████████████████████████████████████████▏                                | 54/90 [21:13<14:17, 23.82s/it]"
     ]
    },
    {
     "name": "stdout",
     "output_type": "stream",
     "text": [
      "index 0 is out of bounds for axis 0 with size 0\n"
     ]
    },
    {
     "name": "stderr",
     "output_type": "stream",
     "text": [
      "AADI: No price data found, symbol may be delisted (1d 2023-10-21 -> 2023-10-22)\n",
      " 61%|██████████████████████████████████████████████████                                | 55/90 [21:37<13:53, 23.82s/it]"
     ]
    },
    {
     "name": "stdout",
     "output_type": "stream",
     "text": [
      "index 0 is out of bounds for axis 0 with size 0\n"
     ]
    },
    {
     "name": "stderr",
     "output_type": "stream",
     "text": [
      "AADI: No price data found, symbol may be delisted (1d 2023-10-21 -> 2023-10-22)\n",
      " 62%|███████████████████████████████████████████████████                               | 56/90 [22:00<13:29, 23.80s/it]"
     ]
    },
    {
     "name": "stdout",
     "output_type": "stream",
     "text": [
      "index 0 is out of bounds for axis 0 with size 0\n"
     ]
    },
    {
     "name": "stderr",
     "output_type": "stream",
     "text": [
      "AADI: No price data found, symbol may be delisted (1d 2023-10-21 -> 2023-10-22)\n",
      " 63%|███████████████████████████████████████████████████▉                              | 57/90 [22:24<13:06, 23.82s/it]"
     ]
    },
    {
     "name": "stdout",
     "output_type": "stream",
     "text": [
      "index 0 is out of bounds for axis 0 with size 0\n"
     ]
    },
    {
     "name": "stderr",
     "output_type": "stream",
     "text": [
      "AADI: No price data found, symbol may be delisted (1d 2023-10-21 -> 2023-10-22)\n",
      " 64%|████████████████████████████████████████████████████▊                             | 58/90 [22:48<12:45, 23.92s/it]"
     ]
    },
    {
     "name": "stdout",
     "output_type": "stream",
     "text": [
      "index 0 is out of bounds for axis 0 with size 0\n"
     ]
    },
    {
     "name": "stderr",
     "output_type": "stream",
     "text": [
      "AADI: No price data found, symbol may be delisted (1d 2023-10-21 -> 2023-10-22)\n",
      " 66%|█████████████████████████████████████████████████████▊                            | 59/90 [23:12<12:21, 23.92s/it]"
     ]
    },
    {
     "name": "stdout",
     "output_type": "stream",
     "text": [
      "index 0 is out of bounds for axis 0 with size 0\n"
     ]
    },
    {
     "name": "stderr",
     "output_type": "stream",
     "text": [
      "AADI: No price data found, symbol may be delisted (1d 2023-10-21 -> 2023-10-22)\n",
      " 67%|██████████████████████████████████████████████████████▋                           | 60/90 [23:37<12:01, 24.05s/it]"
     ]
    },
    {
     "name": "stdout",
     "output_type": "stream",
     "text": [
      "index 0 is out of bounds for axis 0 with size 0\n"
     ]
    },
    {
     "name": "stderr",
     "output_type": "stream",
     "text": [
      "ABEO: No price data found, symbol may be delisted (1d 2023-10-21 -> 2023-10-22)\n",
      " 68%|███████████████████████████████████████████████████████▌                          | 61/90 [24:01<11:36, 24.02s/it]"
     ]
    },
    {
     "name": "stdout",
     "output_type": "stream",
     "text": [
      "index 0 is out of bounds for axis 0 with size 0\n"
     ]
    },
    {
     "name": "stderr",
     "output_type": "stream",
     "text": [
      "MCOM: No price data found, symbol may be delisted (1d 2023-10-21 -> 2023-10-22)\n",
      " 69%|████████████████████████████████████████████████████████▍                         | 62/90 [24:24<11:08, 23.86s/it]"
     ]
    },
    {
     "name": "stdout",
     "output_type": "stream",
     "text": [
      "index 0 is out of bounds for axis 0 with size 0\n"
     ]
    },
    {
     "name": "stderr",
     "output_type": "stream",
     "text": [
      "ABEO: No price data found, symbol may be delisted (1d 2023-10-21 -> 2023-10-22)\n",
      " 70%|█████████████████████████████████████████████████████████▍                        | 63/90 [24:49<10:53, 24.19s/it]"
     ]
    },
    {
     "name": "stdout",
     "output_type": "stream",
     "text": [
      "index 0 is out of bounds for axis 0 with size 0\n"
     ]
    },
    {
     "name": "stderr",
     "output_type": "stream",
     "text": [
      "PACW: No price data found, symbol may be delisted (1d 2023-10-21 -> 2023-10-22)\n",
      " 71%|██████████████████████████████████████████████████████████▎                       | 64/90 [25:13<10:23, 23.98s/it]"
     ]
    },
    {
     "name": "stdout",
     "output_type": "stream",
     "text": [
      "index 0 is out of bounds for axis 0 with size 0\n"
     ]
    },
    {
     "name": "stderr",
     "output_type": "stream",
     "text": [
      "ABEO: No price data found, symbol may be delisted (1d 2023-10-21 -> 2023-10-22)\n",
      " 72%|███████████████████████████████████████████████████████████▏                      | 65/90 [25:37<10:02, 24.08s/it]"
     ]
    },
    {
     "name": "stdout",
     "output_type": "stream",
     "text": [
      "index 0 is out of bounds for axis 0 with size 0\n"
     ]
    },
    {
     "name": "stderr",
     "output_type": "stream",
     "text": [
      "ABEO: No price data found, symbol may be delisted (1d 2023-10-21 -> 2023-10-22)\n",
      " 73%|████████████████████████████████████████████████████████████▏                     | 66/90 [26:00<09:31, 23.81s/it]"
     ]
    },
    {
     "name": "stdout",
     "output_type": "stream",
     "text": [
      "index 0 is out of bounds for axis 0 with size 0\n"
     ]
    },
    {
     "name": "stderr",
     "output_type": "stream",
     "text": [
      "ABEO: No price data found, symbol may be delisted (1d 2023-10-21 -> 2023-10-22)\n",
      " 74%|█████████████████████████████████████████████████████████████                     | 67/90 [26:23<09:04, 23.66s/it]"
     ]
    },
    {
     "name": "stdout",
     "output_type": "stream",
     "text": [
      "index 0 is out of bounds for axis 0 with size 0\n"
     ]
    },
    {
     "name": "stderr",
     "output_type": "stream",
     "text": [
      "ABEO: No price data found, symbol may be delisted (1d 2023-10-21 -> 2023-10-22)\n",
      " 76%|█████████████████████████████████████████████████████████████▉                    | 68/90 [26:47<08:41, 23.71s/it]"
     ]
    },
    {
     "name": "stdout",
     "output_type": "stream",
     "text": [
      "index 0 is out of bounds for axis 0 with size 0\n"
     ]
    },
    {
     "name": "stderr",
     "output_type": "stream",
     "text": [
      "ABEO: No price data found, symbol may be delisted (1d 2023-10-21 -> 2023-10-22)\n",
      " 77%|██████████████████████████████████████████████████████████████▊                   | 69/90 [27:10<08:14, 23.54s/it]"
     ]
    },
    {
     "name": "stdout",
     "output_type": "stream",
     "text": [
      "index 0 is out of bounds for axis 0 with size 0\n"
     ]
    },
    {
     "name": "stderr",
     "output_type": "stream",
     "text": [
      "ABEO: No price data found, symbol may be delisted (1d 2023-10-21 -> 2023-10-22)\n",
      " 78%|███████████████████████████████████████████████████████████████▊                  | 70/90 [27:35<07:54, 23.74s/it]"
     ]
    },
    {
     "name": "stdout",
     "output_type": "stream",
     "text": [
      "index 0 is out of bounds for axis 0 with size 0\n"
     ]
    },
    {
     "name": "stderr",
     "output_type": "stream",
     "text": [
      "ABEO: No price data found, symbol may be delisted (1d 2023-10-21 -> 2023-10-22)\n",
      " 79%|████████████████████████████████████████████████████████████████▋                 | 71/90 [27:59<07:32, 23.83s/it]"
     ]
    },
    {
     "name": "stdout",
     "output_type": "stream",
     "text": [
      "index 0 is out of bounds for axis 0 with size 0\n"
     ]
    },
    {
     "name": "stderr",
     "output_type": "stream",
     "text": [
      "CFRX: No price data found, symbol may be delisted (1d 2023-10-21 -> 2023-10-22)\n",
      " 80%|█████████████████████████████████████████████████████████████████▌                | 72/90 [28:22<07:05, 23.63s/it]"
     ]
    },
    {
     "name": "stdout",
     "output_type": "stream",
     "text": [
      "index 0 is out of bounds for axis 0 with size 0\n"
     ]
    },
    {
     "name": "stderr",
     "output_type": "stream",
     "text": [
      "AKLI: No price data found, symbol may be delisted (1d 2023-10-21 -> 2023-10-22)\n",
      " 81%|██████████████████████████████████████████████████████████████████▌               | 73/90 [28:46<06:42, 23.67s/it]"
     ]
    },
    {
     "name": "stdout",
     "output_type": "stream",
     "text": [
      "index 0 is out of bounds for axis 0 with size 0\n"
     ]
    },
    {
     "name": "stderr",
     "output_type": "stream",
     "text": [
      "AGRX: No price data found, symbol may be delisted (1d 2023-10-21 -> 2023-10-22)\n",
      " 82%|███████████████████████████████████████████████████████████████████▍              | 74/90 [29:09<06:18, 23.67s/it]"
     ]
    },
    {
     "name": "stdout",
     "output_type": "stream",
     "text": [
      "index 0 is out of bounds for axis 0 with size 0\n"
     ]
    },
    {
     "name": "stderr",
     "output_type": "stream",
     "text": [
      "AADI: No price data found, symbol may be delisted (1d 2023-10-21 -> 2023-10-22)\n",
      " 83%|████████████████████████████████████████████████████████████████████▎             | 75/90 [29:33<05:55, 23.70s/it]"
     ]
    },
    {
     "name": "stdout",
     "output_type": "stream",
     "text": [
      "index 0 is out of bounds for axis 0 with size 0\n"
     ]
    },
    {
     "name": "stderr",
     "output_type": "stream",
     "text": [
      "AADI: No price data found, symbol may be delisted (1d 2023-10-21 -> 2023-10-22)\n",
      " 84%|█████████████████████████████████████████████████████████████████████▏            | 76/90 [29:57<05:32, 23.73s/it]"
     ]
    },
    {
     "name": "stdout",
     "output_type": "stream",
     "text": [
      "index 0 is out of bounds for axis 0 with size 0\n"
     ]
    },
    {
     "name": "stderr",
     "output_type": "stream",
     "text": [
      "AADI: No price data found, symbol may be delisted (1d 2023-10-21 -> 2023-10-22)\n",
      " 86%|██████████████████████████████████████████████████████████████████████▏           | 77/90 [30:20<05:07, 23.63s/it]"
     ]
    },
    {
     "name": "stdout",
     "output_type": "stream",
     "text": [
      "index 0 is out of bounds for axis 0 with size 0\n"
     ]
    },
    {
     "name": "stderr",
     "output_type": "stream",
     "text": [
      "ABCB: No price data found, symbol may be delisted (1d 2023-10-21 -> 2023-10-22)\n",
      " 87%|███████████████████████████████████████████████████████████████████████           | 78/90 [30:45<04:46, 23.89s/it]"
     ]
    },
    {
     "name": "stdout",
     "output_type": "stream",
     "text": [
      "index 0 is out of bounds for axis 0 with size 0\n",
      "index 0 is out of bounds for axis 0 with size 0\n",
      "index 0 is out of bounds for axis 0 with size 0\n",
      "index 0 is out of bounds for axis 0 with size 0\n",
      "index 0 is out of bounds for axis 0 with size 0\n",
      "index 0 is out of bounds for axis 0 with size 0\n",
      "index 0 is out of bounds for axis 0 with size 0\n",
      "index 0 is out of bounds for axis 0 with size 0\n",
      "index 0 is out of bounds for axis 0 with size 0\n",
      "index 0 is out of bounds for axis 0 with size 0\n",
      "index 0 is out of bounds for axis 0 with size 0\n",
      "index 0 is out of bounds for axis 0 with size 0\n",
      "index 0 is out of bounds for axis 0 with size 0\n",
      "index 0 is out of bounds for axis 0 with size 0\n",
      "index 0 is out of bounds for axis 0 with size 0\n",
      "index 0 is out of bounds for axis 0 with size 0\n",
      "index 0 is out of bounds for axis 0 with size 0\n",
      "index 0 is out of bounds for axis 0 with size 0\n",
      "index 0 is out of bounds for axis 0 with size 0\n",
      "index 0 is out of bounds for axis 0 with size 0\n"
     ]
    },
    {
     "name": "stderr",
     "output_type": "stream",
     "text": [
      "AADI: No price data found, symbol may be delisted (1d 2023-10-21 -> 2023-10-22)\n",
      " 89%|████████████████████████████████████████████████████████████████████████▉         | 80/90 [31:09<03:04, 18.46s/it]"
     ]
    },
    {
     "name": "stdout",
     "output_type": "stream",
     "text": [
      "index 0 is out of bounds for axis 0 with size 0\n",
      "index 0 is out of bounds for axis 0 with size 0\n",
      "index 0 is out of bounds for axis 0 with size 0\n",
      "index 0 is out of bounds for axis 0 with size 0\n",
      "index 0 is out of bounds for axis 0 with size 0\n",
      "index 0 is out of bounds for axis 0 with size 0\n",
      "index 0 is out of bounds for axis 0 with size 0\n",
      "index 0 is out of bounds for axis 0 with size 0\n",
      "index 0 is out of bounds for axis 0 with size 0\n",
      "index 0 is out of bounds for axis 0 with size 0\n",
      "index 0 is out of bounds for axis 0 with size 0\n",
      "index 0 is out of bounds for axis 0 with size 0\n",
      "index 0 is out of bounds for axis 0 with size 0\n",
      "index 0 is out of bounds for axis 0 with size 0\n",
      "index 0 is out of bounds for axis 0 with size 0\n",
      "index 0 is out of bounds for axis 0 with size 0\n",
      "index 0 is out of bounds for axis 0 with size 0\n",
      "index 0 is out of bounds for axis 0 with size 0\n",
      "index 0 is out of bounds for axis 0 with size 0\n",
      "index 0 is out of bounds for axis 0 with size 0\n"
     ]
    },
    {
     "name": "stderr",
     "output_type": "stream",
     "text": [
      "AAL: No price data found, symbol may be delisted (1d 2023-10-21 -> 2023-10-22)\n",
      " 94%|█████████████████████████████████████████████████████████████████████████████▍    | 85/90 [31:33<00:42,  8.59s/it]"
     ]
    },
    {
     "name": "stdout",
     "output_type": "stream",
     "text": [
      "index 0 is out of bounds for axis 0 with size 0\n",
      "index 0 is out of bounds for axis 0 with size 0\n",
      "index 0 is out of bounds for axis 0 with size 0\n",
      "index 0 is out of bounds for axis 0 with size 0\n",
      "index 0 is out of bounds for axis 0 with size 0\n",
      "index 0 is out of bounds for axis 0 with size 0\n",
      "index 0 is out of bounds for axis 0 with size 0\n",
      "index 0 is out of bounds for axis 0 with size 0\n",
      "index 0 is out of bounds for axis 0 with size 0\n",
      "index 0 is out of bounds for axis 0 with size 0\n",
      "index 0 is out of bounds for axis 0 with size 0\n",
      "index 0 is out of bounds for axis 0 with size 0\n",
      "index 0 is out of bounds for axis 0 with size 0\n",
      "index 0 is out of bounds for axis 0 with size 0\n",
      "index 0 is out of bounds for axis 0 with size 0\n",
      "index 0 is out of bounds for axis 0 with size 0\n",
      "index 0 is out of bounds for axis 0 with size 0\n",
      "index 0 is out of bounds for axis 0 with size 0\n",
      "index 0 is out of bounds for axis 0 with size 0\n",
      "index 0 is out of bounds for axis 0 with size 0\n",
      "index 0 is out of bounds for axis 0 with size 0\n",
      "index 0 is out of bounds for axis 0 with size 0\n",
      "index 0 is out of bounds for axis 0 with size 0\n",
      "index 0 is out of bounds for axis 0 with size 0\n",
      "index 0 is out of bounds for axis 0 with size 0\n",
      "index 0 is out of bounds for axis 0 with size 0\n",
      "index 0 is out of bounds for axis 0 with size 0\n",
      "index 0 is out of bounds for axis 0 with size 0\n",
      "index 0 is out of bounds for axis 0 with size 0\n",
      "index 0 is out of bounds for axis 0 with size 0\n",
      "index 0 is out of bounds for axis 0 with size 0\n",
      "index 0 is out of bounds for axis 0 with size 0\n",
      "index 0 is out of bounds for axis 0 with size 0\n",
      "index 0 is out of bounds for axis 0 with size 0\n",
      "index 0 is out of bounds for axis 0 with size 0\n",
      "index 0 is out of bounds for axis 0 with size 0\n",
      "index 0 is out of bounds for axis 0 with size 0\n",
      "index 0 is out of bounds for axis 0 with size 0\n",
      "index 0 is out of bounds for axis 0 with size 0\n",
      "index 0 is out of bounds for axis 0 with size 0\n",
      "index 0 is out of bounds for axis 0 with size 0\n",
      "index 0 is out of bounds for axis 0 with size 0\n",
      "index 0 is out of bounds for axis 0 with size 0\n",
      "index 0 is out of bounds for axis 0 with size 0\n",
      "index 0 is out of bounds for axis 0 with size 0\n",
      "index 0 is out of bounds for axis 0 with size 0\n",
      "index 0 is out of bounds for axis 0 with size 0\n",
      "index 0 is out of bounds for axis 0 with size 0\n",
      "index 0 is out of bounds for axis 0 with size 0\n",
      "index 0 is out of bounds for axis 0 with size 0\n",
      "index 0 is out of bounds for axis 0 with size 0\n",
      "index 0 is out of bounds for axis 0 with size 0\n",
      "index 0 is out of bounds for axis 0 with size 0\n",
      "index 0 is out of bounds for axis 0 with size 0\n",
      "index 0 is out of bounds for axis 0 with size 0\n",
      "index 0 is out of bounds for axis 0 with size 0\n",
      "index 0 is out of bounds for axis 0 with size 0\n",
      "index 0 is out of bounds for axis 0 with size 0\n",
      "index 0 is out of bounds for axis 0 with size 0\n",
      "index 0 is out of bounds for axis 0 with size 0\n",
      "index 0 is out of bounds for axis 0 with size 0\n",
      "index 0 is out of bounds for axis 0 with size 0\n",
      "index 0 is out of bounds for axis 0 with size 0\n",
      "index 0 is out of bounds for axis 0 with size 0\n",
      "index 0 is out of bounds for axis 0 with size 0\n",
      "index 0 is out of bounds for axis 0 with size 0\n",
      "index 0 is out of bounds for axis 0 with size 0\n",
      "index 0 is out of bounds for axis 0 with size 0\n",
      "index 0 is out of bounds for axis 0 with size 0\n",
      "index 0 is out of bounds for axis 0 with size 0\n",
      "index 0 is out of bounds for axis 0 with size 0\n",
      "index 0 is out of bounds for axis 0 with size 0\n",
      "index 0 is out of bounds for axis 0 with size 0\n",
      "index 0 is out of bounds for axis 0 with size 0\n",
      "index 0 is out of bounds for axis 0 with size 0\n",
      "index 0 is out of bounds for axis 0 with size 0\n",
      "index 0 is out of bounds for axis 0 with size 0\n",
      "index 0 is out of bounds for axis 0 with size 0\n",
      "index 0 is out of bounds for axis 0 with size 0\n",
      "index 0 is out of bounds for axis 0 with size 0\n",
      "index 0 is out of bounds for axis 0 with size 0\n",
      "index 0 is out of bounds for axis 0 with size 0\n",
      "index 0 is out of bounds for axis 0 with size 0\n",
      "index 0 is out of bounds for axis 0 with size 0\n",
      "index 0 is out of bounds for axis 0 with size 0\n",
      "index 0 is out of bounds for axis 0 with size 0\n",
      "index 0 is out of bounds for axis 0 with size 0\n",
      "index 0 is out of bounds for axis 0 with size 0\n",
      "index 0 is out of bounds for axis 0 with size 0\n",
      "index 0 is out of bounds for axis 0 with size 0\n",
      "index 0 is out of bounds for axis 0 with size 0\n",
      "index 0 is out of bounds for axis 0 with size 0\n",
      "index 0 is out of bounds for axis 0 with size 0\n",
      "index 0 is out of bounds for axis 0 with size 0\n",
      "index 0 is out of bounds for axis 0 with size 0\n"
     ]
    },
    {
     "name": "stderr",
     "output_type": "stream",
     "text": [
      " 98%|████████████████████████████████████████████████████████████████████████████████▏ | 88/90 [31:33<00:10,  5.20s/it]"
     ]
    },
    {
     "name": "stdout",
     "output_type": "stream",
     "text": [
      "index 0 is out of bounds for axis 0 with size 0\n",
      "index 0 is out of bounds for axis 0 with size 0\n",
      "index 0 is out of bounds for axis 0 with size 0\n",
      "index 0 is out of bounds for axis 0 with size 0\n",
      "index 0 is out of bounds for axis 0 with size 0\n",
      "index 0 is out of bounds for axis 0 with size 0\n",
      "index 0 is out of bounds for axis 0 with size 0\n",
      "index 0 is out of bounds for axis 0 with size 0\n",
      "index 0 is out of bounds for axis 0 with size 0\n",
      "index 0 is out of bounds for axis 0 with size 0\n",
      "index 0 is out of bounds for axis 0 with size 0\n",
      "index 0 is out of bounds for axis 0 with size 0\n",
      "index 0 is out of bounds for axis 0 with size 0\n",
      "index 0 is out of bounds for axis 0 with size 0\n",
      "index 0 is out of bounds for axis 0 with size 0\n",
      "index 0 is out of bounds for axis 0 with size 0\n",
      "index 0 is out of bounds for axis 0 with size 0\n",
      "index 0 is out of bounds for axis 0 with size 0\n",
      "index 0 is out of bounds for axis 0 with size 0\n",
      "index 0 is out of bounds for axis 0 with size 0\n"
     ]
    },
    {
     "name": "stderr",
     "output_type": "stream",
     "text": [
      " 98%|████████████████████████████████████████████████████████████████████████████████▏ | 88/90 [31:44<00:10,  5.20s/it]AAPL: No price data found, symbol may be delisted (1d 2023-10-21 -> 2023-10-22)\n",
      " 99%|█████████████████████████████████████████████████████████████████████████████████ | 89/90 [31:58<00:08,  8.32s/it]"
     ]
    },
    {
     "name": "stdout",
     "output_type": "stream",
     "text": [
      "index 0 is out of bounds for axis 0 with size 0\n"
     ]
    },
    {
     "name": "stderr",
     "output_type": "stream",
     "text": [
      "ABEO: No price data found, symbol may be delisted (1d 2023-10-21 -> 2023-10-22)\n",
      "100%|██████████████████████████████████████████████████████████████████████████████████| 90/90 [32:21<00:00, 21.57s/it]"
     ]
    },
    {
     "name": "stdout",
     "output_type": "stream",
     "text": [
      "index 0 is out of bounds for axis 0 with size 0\n"
     ]
    },
    {
     "name": "stderr",
     "output_type": "stream",
     "text": [
      "\n"
     ]
    }
   ],
   "source": [
    "end_limit_day = '2023-11-01'\n",
    "\n",
    "for ai_name in tqdm(ai_names):\n",
    "    file_path = f'al_predicts/{ai_name}'\n",
    "    # ファイル名を取得\n",
    "    file_names = os.listdir(file_path)\n",
    "    csv_files = [f for f in file_names if f.endswith('.csv')]\n",
    "\n",
    "    # result_list = []\n",
    "    res_df = pd.DataFrame(columns=['name', 'date', 'result'])\n",
    "\n",
    "    for csv_file in csv_files:\n",
    "        try:\n",
    "            df = pd.read_csv(os.path.join(file_path, csv_file), header=0)\n",
    "            # print(df['name'][0])\n",
    "            # print(csv_file.split('.')[0])\n",
    "\n",
    "            # 株式のシンボルを指定してyfinanceからデータを取得する\n",
    "            ticker = yf.Ticker(df['name'][0])\n",
    "\n",
    "            start_date = csv_file.split('.')[0]\n",
    "            date_str = csv_file.split('.')[0]\n",
    "            date_obj = datetime.strptime(date_str, '%Y-%m-%d')\n",
    "            new_date_obj = date_obj + timedelta(days=1)\n",
    "            end_date = new_date_obj.strftime('%Y-%m-%d')\n",
    "            specific_data = ticker.history(start=start_date ,end=end_date)\n",
    "\n",
    "            # print(float(specific_data['Close'][0]) / float(specific_data['Open'][0]))\n",
    "            res_df.loc[len(res_df)] = [df['name'][0], start_date, float(specific_data['Close'][0]) / float(specific_data['Open'][0])]\n",
    "            # result_list.append(df['name'][0], start_date, float(specific_data['Close'][0]) / float(specific_data['Open'][0]))\n",
    "            # print(df['name'][0], start_date, float(specific_data['Close'][0]) / float(specific_data['Open'][0]))\n",
    "\n",
    "            if end_limit_day and end_date >= end_limit_day:\n",
    "                break\n",
    "            \n",
    "        except Exception as e:\n",
    "            print(e)\n",
    "            continue\n",
    "        time.sleep(1)\n",
    "    res_df.to_csv(f'ai_results/{ai_name}.csv', index=False)"
   ]
  },
  {
   "cell_type": "code",
   "execution_count": 7,
   "metadata": {},
   "outputs": [
    {
     "data": {
      "text/plain": [
       "['2022-12-28.csv',\n",
       " '2022-12-29.csv',\n",
       " '2022-12-30.csv',\n",
       " '2023-01-03.csv',\n",
       " '2023-01-04.csv',\n",
       " '2023-01-05.csv',\n",
       " '2023-01-06.csv',\n",
       " '2023-01-09.csv',\n",
       " '2023-01-10.csv',\n",
       " '2023-01-11.csv',\n",
       " '2023-01-12.csv',\n",
       " '2023-01-13.csv',\n",
       " '2023-01-17.csv',\n",
       " '2023-01-18.csv',\n",
       " '2023-01-19.csv',\n",
       " '2023-01-20.csv',\n",
       " '2023-01-23.csv',\n",
       " '2023-01-24.csv',\n",
       " '2023-01-25.csv',\n",
       " '2023-01-26.csv',\n",
       " '2023-01-27.csv',\n",
       " '2023-01-30.csv',\n",
       " '2023-01-31.csv',\n",
       " '2023-02-01.csv',\n",
       " '2023-02-02.csv',\n",
       " '2023-02-03.csv',\n",
       " '2023-02-06.csv',\n",
       " '2023-02-07.csv',\n",
       " '2023-02-08.csv',\n",
       " '2023-02-09.csv',\n",
       " '2023-02-10.csv',\n",
       " '2023-02-13.csv',\n",
       " '2023-02-14.csv',\n",
       " '2023-02-15.csv',\n",
       " '2023-02-16.csv',\n",
       " '2023-02-17.csv',\n",
       " '2023-02-21.csv',\n",
       " '2023-02-22.csv',\n",
       " '2023-02-23.csv',\n",
       " '2023-02-24.csv',\n",
       " '2023-02-27.csv',\n",
       " '2023-02-28.csv',\n",
       " '2023-03-01.csv',\n",
       " '2023-03-02.csv',\n",
       " '2023-03-03.csv',\n",
       " '2023-03-06.csv',\n",
       " '2023-03-07.csv',\n",
       " '2023-03-08.csv',\n",
       " '2023-03-09.csv',\n",
       " '2023-03-10.csv',\n",
       " '2023-03-13.csv',\n",
       " '2023-03-14.csv',\n",
       " '2023-03-15.csv',\n",
       " '2023-03-16.csv',\n",
       " '2023-03-17.csv',\n",
       " '2023-03-20.csv',\n",
       " '2023-03-21.csv',\n",
       " '2023-03-22.csv',\n",
       " '2023-03-23.csv',\n",
       " '2023-03-24.csv',\n",
       " '2023-03-27.csv',\n",
       " '2023-03-28.csv',\n",
       " '2023-03-29.csv',\n",
       " '2023-03-30.csv',\n",
       " '2023-03-31.csv',\n",
       " '2023-04-03.csv',\n",
       " '2023-04-04.csv',\n",
       " '2023-04-05.csv',\n",
       " '2023-04-06.csv',\n",
       " '2023-04-10.csv',\n",
       " '2023-04-11.csv',\n",
       " '2023-04-12.csv',\n",
       " '2023-04-13.csv',\n",
       " '2023-04-14.csv',\n",
       " '2023-04-17.csv',\n",
       " '2023-04-18.csv',\n",
       " '2023-04-19.csv',\n",
       " '2023-04-20.csv',\n",
       " '2023-04-21.csv',\n",
       " '2023-04-24.csv',\n",
       " '2023-04-25.csv',\n",
       " '2023-04-26.csv',\n",
       " '2023-04-27.csv',\n",
       " '2023-04-28.csv',\n",
       " '2023-05-01.csv',\n",
       " '2023-05-02.csv',\n",
       " '2023-05-03.csv',\n",
       " '2023-05-04.csv',\n",
       " '2023-05-05.csv',\n",
       " '2023-05-08.csv',\n",
       " '2023-05-09.csv',\n",
       " '2023-05-10.csv',\n",
       " '2023-05-11.csv',\n",
       " '2023-05-12.csv',\n",
       " '2023-05-15.csv',\n",
       " '2023-05-16.csv',\n",
       " '2023-05-17.csv',\n",
       " '2023-05-18.csv',\n",
       " '2023-05-19.csv',\n",
       " '2023-05-22.csv',\n",
       " '2023-05-23.csv',\n",
       " '2023-05-24.csv',\n",
       " '2023-05-25.csv',\n",
       " '2023-05-26.csv',\n",
       " '2023-05-30.csv',\n",
       " '2023-05-31.csv',\n",
       " '2023-06-01.csv',\n",
       " '2023-06-02.csv',\n",
       " '2023-06-05.csv',\n",
       " '2023-06-06.csv',\n",
       " '2023-06-07.csv',\n",
       " '2023-06-08.csv',\n",
       " '2023-06-09.csv',\n",
       " '2023-06-12.csv',\n",
       " '2023-06-13.csv',\n",
       " '2023-06-14.csv',\n",
       " '2023-06-15.csv',\n",
       " '2023-06-16.csv',\n",
       " '2023-06-20.csv',\n",
       " '2023-06-21.csv',\n",
       " '2023-06-22.csv',\n",
       " '2023-06-23.csv',\n",
       " '2023-06-26.csv',\n",
       " '2023-06-27.csv',\n",
       " '2023-06-28.csv',\n",
       " '2023-06-29.csv',\n",
       " '2023-06-30.csv',\n",
       " '2023-07-03.csv',\n",
       " '2023-07-05.csv',\n",
       " '2023-07-06.csv',\n",
       " '2023-07-07.csv',\n",
       " '2023-07-10.csv',\n",
       " '2023-07-11.csv',\n",
       " '2023-07-12.csv',\n",
       " '2023-07-13.csv',\n",
       " '2023-07-14.csv',\n",
       " '2023-07-17.csv',\n",
       " '2023-07-18.csv',\n",
       " '2023-07-19.csv',\n",
       " '2023-07-20.csv',\n",
       " '2023-07-21.csv',\n",
       " '2023-07-24.csv',\n",
       " '2023-07-25.csv',\n",
       " '2023-07-26.csv',\n",
       " '2023-07-27.csv',\n",
       " '2023-07-28.csv',\n",
       " '2023-07-31.csv',\n",
       " '2023-08-01.csv',\n",
       " '2023-08-02.csv',\n",
       " '2023-08-03.csv',\n",
       " '2023-08-04.csv',\n",
       " '2023-08-07.csv',\n",
       " '2023-08-08.csv',\n",
       " '2023-08-09.csv',\n",
       " '2023-08-10.csv',\n",
       " '2023-08-11.csv',\n",
       " '2023-08-14.csv',\n",
       " '2023-08-15.csv',\n",
       " '2023-08-16.csv',\n",
       " '2023-08-17.csv',\n",
       " '2023-08-18.csv',\n",
       " '2023-08-21.csv',\n",
       " '2023-08-22.csv',\n",
       " '2023-08-23.csv',\n",
       " '2023-08-24.csv',\n",
       " '2023-08-25.csv',\n",
       " '2023-08-28.csv',\n",
       " '2023-08-29.csv',\n",
       " '2023-08-30.csv',\n",
       " '2023-08-31.csv',\n",
       " '2023-09-01.csv',\n",
       " '2023-09-05.csv',\n",
       " '2023-09-06.csv',\n",
       " '2023-09-07.csv',\n",
       " '2023-09-08.csv',\n",
       " '2023-09-11.csv',\n",
       " '2023-09-12.csv',\n",
       " '2023-09-13.csv',\n",
       " '2023-09-14.csv',\n",
       " '2023-09-15.csv',\n",
       " '2023-09-18.csv',\n",
       " '2023-09-19.csv',\n",
       " '2023-09-20.csv',\n",
       " '2023-09-21.csv',\n",
       " '2023-09-22.csv',\n",
       " '2023-09-25.csv',\n",
       " '2023-09-26.csv',\n",
       " '2023-09-27.csv',\n",
       " '2023-09-28.csv',\n",
       " '2023-09-29.csv',\n",
       " '2023-10-02.csv',\n",
       " '2023-10-03.csv',\n",
       " '2023-10-04.csv',\n",
       " '2023-10-05.csv',\n",
       " '2023-10-06.csv',\n",
       " '2023-10-09.csv',\n",
       " '2023-10-10.csv',\n",
       " '2023-10-11.csv',\n",
       " '2023-10-12.csv']"
      ]
     },
     "execution_count": 7,
     "metadata": {},
     "output_type": "execute_result"
    }
   ],
   "source": []
  },
  {
   "cell_type": "code",
   "execution_count": 206,
   "metadata": {},
   "outputs": [
    {
     "name": "stdout",
     "output_type": "stream",
     "text": [
      "ACIC 2022-12-28 1.0253164308649139\n",
      "ACIC 2022-12-29 0.8780488230372245\n",
      "ACIC 2022-12-30 1.4520546781969808\n",
      "ACIC 2023-01-03 0.9174311645664506\n",
      "ACIC 2023-01-04 0.9805825422504354\n",
      "ACIC 2023-01-05 0.9805825422504354\n",
      "ACIC 2023-01-06 0.9801980384996437\n",
      "ACIC 2023-01-09 1.059999942779541\n",
      "ACIC 2023-01-10 1.1009174412262677\n",
      "ACIC 2023-01-11 1.1249999751647324\n",
      "ACIC 2023-01-12 0.9696969094902602\n",
      "ACIC 2023-01-13 1.198412699914453\n",
      "ACIC 2023-01-17 0.8807947359703692\n",
      "ACIC 2023-01-18 1.2153846929764636\n",
      "ACIC 2023-01-19 1.130434805143533\n",
      "ACIC 2023-01-20 0.9285714332499719\n",
      "ACIC 2023-01-23 1.0357143237274533\n",
      "ACIC 2023-01-24 1.0292397375443723\n",
      "ACIC 2023-01-25 1.0755813913193184\n",
      "ALTI 2023-01-26 0.8650000254313152\n",
      "ACIC 2023-01-27 0.9895833430346104\n",
      "ACIC 2023-01-30 1.0106382877538516\n",
      "ACIC 2023-01-31 0.9789473882342312\n"
     ]
    }
   ],
   "source": [
    "\n",
    "\n",
    "    # time.sleep(2)"
   ]
  },
  {
   "cell_type": "code",
   "execution_count": null,
   "metadata": {},
   "outputs": [],
   "source": []
  },
  {
   "cell_type": "code",
   "execution_count": 200,
   "metadata": {},
   "outputs": [
    {
     "data": {
      "text/html": [
       "<div>\n",
       "<style scoped>\n",
       "    .dataframe tbody tr th:only-of-type {\n",
       "        vertical-align: middle;\n",
       "    }\n",
       "\n",
       "    .dataframe tbody tr th {\n",
       "        vertical-align: top;\n",
       "    }\n",
       "\n",
       "    .dataframe thead th {\n",
       "        text-align: right;\n",
       "    }\n",
       "</style>\n",
       "<table border=\"1\" class=\"dataframe\">\n",
       "  <thead>\n",
       "    <tr style=\"text-align: right;\">\n",
       "      <th></th>\n",
       "      <th>Open</th>\n",
       "      <th>High</th>\n",
       "      <th>Low</th>\n",
       "      <th>Close</th>\n",
       "      <th>Volume</th>\n",
       "      <th>Dividends</th>\n",
       "      <th>Stock Splits</th>\n",
       "    </tr>\n",
       "    <tr>\n",
       "      <th>Date</th>\n",
       "      <th></th>\n",
       "      <th></th>\n",
       "      <th></th>\n",
       "      <th></th>\n",
       "      <th></th>\n",
       "      <th></th>\n",
       "      <th></th>\n",
       "    </tr>\n",
       "  </thead>\n",
       "  <tbody>\n",
       "    <tr>\n",
       "      <th>2023-03-31 00:00:00-04:00</th>\n",
       "      <td>2.57</td>\n",
       "      <td>3.46</td>\n",
       "      <td>2.57</td>\n",
       "      <td>3.3</td>\n",
       "      <td>2843900</td>\n",
       "      <td>0.0</td>\n",
       "      <td>0.0</td>\n",
       "    </tr>\n",
       "  </tbody>\n",
       "</table>\n",
       "</div>"
      ],
      "text/plain": [
       "                           Open  High   Low  Close   Volume  Dividends  \\\n",
       "Date                                                                     \n",
       "2023-03-31 00:00:00-04:00  2.57  3.46  2.57    3.3  2843900        0.0   \n",
       "\n",
       "                           Stock Splits  \n",
       "Date                                     \n",
       "2023-03-31 00:00:00-04:00           0.0  "
      ]
     },
     "execution_count": 200,
     "metadata": {},
     "output_type": "execute_result"
    }
   ],
   "source": [
    "specific_data"
   ]
  },
  {
   "cell_type": "code",
   "execution_count": 207,
   "metadata": {},
   "outputs": [
    {
     "data": {
      "text/plain": [
       "[1.0253164308649139,\n",
       " 0.8780488230372245,\n",
       " 1.4520546781969808,\n",
       " 0.9174311645664506,\n",
       " 0.9805825422504354,\n",
       " 0.9805825422504354,\n",
       " 0.9801980384996437,\n",
       " 1.059999942779541,\n",
       " 1.1009174412262677,\n",
       " 1.1249999751647324,\n",
       " 0.9696969094902602,\n",
       " 1.198412699914453,\n",
       " 0.8807947359703692,\n",
       " 1.2153846929764636,\n",
       " 1.130434805143533,\n",
       " 0.9285714332499719,\n",
       " 1.0357143237274533,\n",
       " 1.0292397375443723,\n",
       " 1.0755813913193184,\n",
       " 0.8650000254313152,\n",
       " 0.9895833430346104,\n",
       " 1.0106382877538516,\n",
       " 0.9789473882342312]"
      ]
     },
     "execution_count": 207,
     "metadata": {},
     "output_type": "execute_result"
    }
   ],
   "source": [
    "result_list"
   ]
  },
  {
   "cell_type": "code",
   "execution_count": null,
   "metadata": {},
   "outputs": [],
   "source": []
  },
  {
   "cell_type": "code",
   "execution_count": 208,
   "metadata": {},
   "outputs": [
    {
     "name": "stdout",
     "output_type": "stream",
     "text": [
      "1.8816698294111986\n"
     ]
    }
   ],
   "source": [
    "# リスト内の全要素を掛け合わせる\n",
    "result_nums = []\n",
    "result = 1\n",
    "for num in result_list:\n",
    "    result *= num\n",
    "    result_nums.append(result)\n",
    "\n",
    "# 結果を表示する\n",
    "print(result)"
   ]
  },
  {
   "cell_type": "code",
   "execution_count": 25,
   "metadata": {},
   "outputs": [],
   "source": [
    "import csv\n",
    "\n",
    "# CSVファイルに書き込む\n",
    "with open('output.csv', 'w', newline='') as file:\n",
    "    writer = csv.writer(file)\n",
    "    for num in result_nums:\n",
    "        writer.writerow([num])"
   ]
  },
  {
   "cell_type": "code",
   "execution_count": 27,
   "metadata": {},
   "outputs": [],
   "source": [
    "import csv\n",
    "\n",
    "# CSVファイルに書き込む\n",
    "with open('output_2.csv', 'w', newline='') as file:\n",
    "    writer = csv.writer(file)\n",
    "    for num in result_list:\n",
    "        writer.writerow([num])"
   ]
  },
  {
   "cell_type": "code",
   "execution_count": 45,
   "metadata": {},
   "outputs": [
    {
     "name": "stdout",
     "output_type": "stream",
     "text": [
      "1.0430107122579966\n"
     ]
    }
   ],
   "source": [
    "# 株式のシンボルを指定してyfinanceからデータを取得する\n",
    "msft = yf.Ticker(\"SANG\")\n",
    "\n",
    "# 特定の日時の株式データを取得する\n",
    "# specific_date = '2022-01-05'\n",
    "# specific_end_date = '2022-01-04'\n",
    "specific_data = msft.history(start='2022-01-05' ,end='2022-01-06')\n",
    "\n",
    "print(float(specific_data['Close'][0]) / float(specific_data['Open'][0]))"
   ]
  },
  {
   "cell_type": "code",
   "execution_count": 14,
   "metadata": {},
   "outputs": [],
   "source": [
    "base_df = pd.read_csv('../database/normaraze_stock_price/dataset_20231012.csv')"
   ]
  },
  {
   "cell_type": "code",
   "execution_count": 21,
   "metadata": {},
   "outputs": [
    {
     "name": "stdout",
     "output_type": "stream",
     "text": [
      "786\n"
     ]
    }
   ],
   "source": [
    "# 特定の文字列を含む行のインデックスを取得\n",
    "indices = base_df[base_df['name'].str.contains(df['name'][0])].index\n",
    "\n",
    "# 結果を表示\n",
    "print(indices[0])"
   ]
  },
  {
   "cell_type": "code",
   "execution_count": 89,
   "metadata": {},
   "outputs": [],
   "source": [
    "import csv"
   ]
  },
  {
   "cell_type": "code",
   "execution_count": 136,
   "metadata": {},
   "outputs": [],
   "source": [
    "import yfinance as yf"
   ]
  },
  {
   "cell_type": "code",
   "execution_count": 201,
   "metadata": {},
   "outputs": [
    {
     "name": "stdout",
     "output_type": "stream",
     "text": [
      "APA\n"
     ]
    }
   ],
   "source": [
    "money = 1\n",
    "start_date_list = ['2023-09-14', '2023-09-15']\n",
    "ticker_list =  [result_df.iloc[0]['name'], result_df.iloc[1]['name']]\n",
    "\n",
    "print(result_df.iloc[1]['name'])"
   ]
  },
  {
   "cell_type": "code",
   "execution_count": 202,
   "metadata": {},
   "outputs": [
    {
     "name": "stdout",
     "output_type": "stream",
     "text": [
      "                            Open  High    Low  Close  Volume  Dividends  \\\n",
      "Date                                                                      \n",
      "2023-09-14 00:00:00-04:00  1.595  1.62  1.595   1.61    5900        0.0   \n",
      "\n",
      "                           Stock Splits  \n",
      "Date                                     \n",
      "2023-09-14 00:00:00-04:00           0.0  \n",
      "                                Open   High        Low      Close   Volume  \\\n",
      "Date                                                                         \n",
      "2023-09-15 00:00:00-04:00  42.759998  43.25  42.040001  42.459999  9349600   \n",
      "\n",
      "                           Dividends  Stock Splits  \n",
      "Date                                                \n",
      "2023-09-15 00:00:00-04:00        0.0           0.0  \n"
     ]
    }
   ],
   "source": [
    "for ticker, date in zip(ticker_list, start_date_list):\n",
    "    money = caliculate_money(money, date, ticker)"
   ]
  },
  {
   "cell_type": "code",
   "execution_count": 205,
   "metadata": {},
   "outputs": [
    {
     "name": "stdout",
     "output_type": "stream",
     "text": [
      "結果は1.0023225143844883, 増減としては0.23225143844882723%になります\n",
      "\n"
     ]
    }
   ],
   "source": [
    "print(f\"結果は{money}, 増減としては{(money-1.)*100}%になります\")"
   ]
  }
 ],
 "metadata": {
  "kernelspec": {
   "display_name": "Python 3 (ipykernel)",
   "language": "python",
   "name": "python3"
  },
  "orig_nbformat": 4
 },
 "nbformat": 4,
 "nbformat_minor": 2
}
