{
 "cells": [
  {
   "cell_type": "code",
   "execution_count": 13,
   "metadata": {},
   "outputs": [],
   "source": [
    "import os\n",
    "import pandas as pd\n",
    "import yfinance as yf\n",
    "import time\n",
    "from datetime import datetime, timedelta\n",
    "\n",
    "# ファイルパスを指定\n",
    "file_path = 'ai_results/'\n",
    "\n",
    "# ファイル名を取得\n",
    "file_names = os.listdir(file_path)\n",
    "\n",
    "# CSVファイルのみを取得\n",
    "csv_files = [f for f in file_names if f.endswith('.csv')]"
   ]
  },
  {
   "cell_type": "code",
   "execution_count": 14,
   "metadata": {},
   "outputs": [
    {
     "data": {
      "text/plain": [
       "90"
      ]
     },
     "execution_count": 14,
     "metadata": {},
     "output_type": "execute_result"
    }
   ],
   "source": [
    "len(csv_files)"
   ]
  },
  {
   "cell_type": "code",
   "execution_count": 15,
   "metadata": {},
   "outputs": [],
   "source": [
    "result_list = []\n",
    "res_df = pd.DataFrame(columns=['epoch', 'train_loss', 'result'])\n",
    "\n",
    "for csv_file in csv_files:\n",
    "    df = pd.read_csv(os.path.join(file_path, csv_file), header=0)\n",
    "    split_list = csv_file.split('_')\n",
    "    res_df.loc[len(res_df)] = [int(split_list[-1].split('.')[0]), split_list[4], df['result'].prod()]\n",
    "    # time.sleep(2)"
   ]
  },
  {
   "cell_type": "code",
   "execution_count": 16,
   "metadata": {},
   "outputs": [],
   "source": [
    "test = res_df.apply(pd.to_numeric)\n",
    "test = res_df.sort_values(by='epoch')"
   ]
  },
  {
   "cell_type": "code",
   "execution_count": 17,
   "metadata": {},
   "outputs": [
    {
     "data": {
      "text/html": [
       "<div>\n",
       "<style scoped>\n",
       "    .dataframe tbody tr th:only-of-type {\n",
       "        vertical-align: middle;\n",
       "    }\n",
       "\n",
       "    .dataframe tbody tr th {\n",
       "        vertical-align: top;\n",
       "    }\n",
       "\n",
       "    .dataframe thead th {\n",
       "        text-align: right;\n",
       "    }\n",
       "</style>\n",
       "<table border=\"1\" class=\"dataframe\">\n",
       "  <thead>\n",
       "    <tr style=\"text-align: right;\">\n",
       "      <th></th>\n",
       "      <th>epoch</th>\n",
       "      <th>train_loss</th>\n",
       "      <th>result</th>\n",
       "    </tr>\n",
       "  </thead>\n",
       "  <tbody>\n",
       "    <tr>\n",
       "      <th>89</th>\n",
       "      <td>0</td>\n",
       "      <td>0.69407</td>\n",
       "      <td>1.011857</td>\n",
       "    </tr>\n",
       "    <tr>\n",
       "      <th>84</th>\n",
       "      <td>0</td>\n",
       "      <td>0.69336</td>\n",
       "      <td>1.000000</td>\n",
       "    </tr>\n",
       "    <tr>\n",
       "      <th>79</th>\n",
       "      <td>1</td>\n",
       "      <td>0.69330</td>\n",
       "      <td>0.737502</td>\n",
       "    </tr>\n",
       "    <tr>\n",
       "      <th>86</th>\n",
       "      <td>1</td>\n",
       "      <td>0.69343</td>\n",
       "      <td>1.000000</td>\n",
       "    </tr>\n",
       "    <tr>\n",
       "      <th>83</th>\n",
       "      <td>2</td>\n",
       "      <td>0.69334</td>\n",
       "      <td>1.000000</td>\n",
       "    </tr>\n",
       "    <tr>\n",
       "      <th>...</th>\n",
       "      <td>...</td>\n",
       "      <td>...</td>\n",
       "      <td>...</td>\n",
       "    </tr>\n",
       "    <tr>\n",
       "      <th>0</th>\n",
       "      <td>75</td>\n",
       "      <td>0.24870</td>\n",
       "      <td>0.478589</td>\n",
       "    </tr>\n",
       "    <tr>\n",
       "      <th>7</th>\n",
       "      <td>76</td>\n",
       "      <td>0.28418</td>\n",
       "      <td>0.762323</td>\n",
       "    </tr>\n",
       "    <tr>\n",
       "      <th>3</th>\n",
       "      <td>77</td>\n",
       "      <td>0.26896</td>\n",
       "      <td>0.402534</td>\n",
       "    </tr>\n",
       "    <tr>\n",
       "      <th>2</th>\n",
       "      <td>78</td>\n",
       "      <td>0.26788</td>\n",
       "      <td>0.393065</td>\n",
       "    </tr>\n",
       "    <tr>\n",
       "      <th>27</th>\n",
       "      <td>79</td>\n",
       "      <td>0.31570</td>\n",
       "      <td>0.735458</td>\n",
       "    </tr>\n",
       "  </tbody>\n",
       "</table>\n",
       "<p>90 rows × 3 columns</p>\n",
       "</div>"
      ],
      "text/plain": [
       "    epoch train_loss    result\n",
       "89      0    0.69407  1.011857\n",
       "84      0    0.69336  1.000000\n",
       "79      1    0.69330  0.737502\n",
       "86      1    0.69343  1.000000\n",
       "83      2    0.69334  1.000000\n",
       "..    ...        ...       ...\n",
       "0      75    0.24870  0.478589\n",
       "7      76    0.28418  0.762323\n",
       "3      77    0.26896  0.402534\n",
       "2      78    0.26788  0.393065\n",
       "27     79    0.31570  0.735458\n",
       "\n",
       "[90 rows x 3 columns]"
      ]
     },
     "execution_count": 17,
     "metadata": {},
     "output_type": "execute_result"
    }
   ],
   "source": [
    "test"
   ]
  },
  {
   "cell_type": "code",
   "execution_count": 18,
   "metadata": {},
   "outputs": [
    {
     "data": {
      "image/png": "[encoded data removed]",
      "text/plain": [
       "<Figure size 432x288 with 1 Axes>"
      ]
     },
     "metadata": {
      "needs_background": "light"
     },
     "output_type": "display_data"
    }
   ],
   "source": [
    "import matplotlib.pyplot as plt\n",
    "\n",
    "test.plot(x='epoch', y='result')\n",
    "# グラフを表示する\n",
    "plt.show()"
   ]
  },
  {
   "cell_type": "code",
   "execution_count": 19,
   "metadata": {},
   "outputs": [
    {
     "data": {
      "text/html": [
       "<div>\n",
       "<style scoped>\n",
       "    .dataframe tbody tr th:only-of-type {\n",
       "        vertical-align: middle;\n",
       "    }\n",
       "\n",
       "    .dataframe tbody tr th {\n",
       "        vertical-align: top;\n",
       "    }\n",
       "\n",
       "    .dataframe thead th {\n",
       "        text-align: right;\n",
       "    }\n",
       "</style>\n",
       "<table border=\"1\" class=\"dataframe\">\n",
       "  <thead>\n",
       "    <tr style=\"text-align: right;\">\n",
       "      <th></th>\n",
       "      <th>epoch</th>\n",
       "      <th>train_loss</th>\n",
       "      <th>result</th>\n",
       "    </tr>\n",
       "  </thead>\n",
       "  <tbody>\n",
       "    <tr>\n",
       "      <th>89</th>\n",
       "      <td>0</td>\n",
       "      <td>0.69407</td>\n",
       "      <td>1.011857</td>\n",
       "    </tr>\n",
       "    <tr>\n",
       "      <th>84</th>\n",
       "      <td>0</td>\n",
       "      <td>0.69336</td>\n",
       "      <td>1.000000</td>\n",
       "    </tr>\n",
       "    <tr>\n",
       "      <th>79</th>\n",
       "      <td>1</td>\n",
       "      <td>0.69330</td>\n",
       "      <td>0.737502</td>\n",
       "    </tr>\n",
       "    <tr>\n",
       "      <th>86</th>\n",
       "      <td>1</td>\n",
       "      <td>0.69343</td>\n",
       "      <td>1.000000</td>\n",
       "    </tr>\n",
       "    <tr>\n",
       "      <th>83</th>\n",
       "      <td>2</td>\n",
       "      <td>0.69334</td>\n",
       "      <td>1.000000</td>\n",
       "    </tr>\n",
       "    <tr>\n",
       "      <th>...</th>\n",
       "      <td>...</td>\n",
       "      <td>...</td>\n",
       "      <td>...</td>\n",
       "    </tr>\n",
       "    <tr>\n",
       "      <th>0</th>\n",
       "      <td>75</td>\n",
       "      <td>0.24870</td>\n",
       "      <td>0.478589</td>\n",
       "    </tr>\n",
       "    <tr>\n",
       "      <th>7</th>\n",
       "      <td>76</td>\n",
       "      <td>0.28418</td>\n",
       "      <td>0.762323</td>\n",
       "    </tr>\n",
       "    <tr>\n",
       "      <th>3</th>\n",
       "      <td>77</td>\n",
       "      <td>0.26896</td>\n",
       "      <td>0.402534</td>\n",
       "    </tr>\n",
       "    <tr>\n",
       "      <th>2</th>\n",
       "      <td>78</td>\n",
       "      <td>0.26788</td>\n",
       "      <td>0.393065</td>\n",
       "    </tr>\n",
       "    <tr>\n",
       "      <th>27</th>\n",
       "      <td>79</td>\n",
       "      <td>0.31570</td>\n",
       "      <td>0.735458</td>\n",
       "    </tr>\n",
       "  </tbody>\n",
       "</table>\n",
       "<p>90 rows × 3 columns</p>\n",
       "</div>"
      ],
      "text/plain": [
       "    epoch train_loss    result\n",
       "89      0    0.69407  1.011857\n",
       "84      0    0.69336  1.000000\n",
       "79      1    0.69330  0.737502\n",
       "86      1    0.69343  1.000000\n",
       "83      2    0.69334  1.000000\n",
       "..    ...        ...       ...\n",
       "0      75    0.24870  0.478589\n",
       "7      76    0.28418  0.762323\n",
       "3      77    0.26896  0.402534\n",
       "2      78    0.26788  0.393065\n",
       "27     79    0.31570  0.735458\n",
       "\n",
       "[90 rows x 3 columns]"
      ]
     },
     "execution_count": 19,
     "metadata": {},
     "output_type": "execute_result"
    }
   ],
   "source": [
    "test"
   ]
  },
  {
   "cell_type": "code",
   "execution_count": 20,
   "metadata": {},
   "outputs": [],
   "source": [
    "import matplotlib.pyplot as plt\n",
    "# データフレームの中身を数値に変換する\n",
    "df = res_df.apply(pd.to_numeric)"
   ]
  },
  {
   "cell_type": "code",
   "execution_count": 21,
   "metadata": {},
   "outputs": [],
   "source": [
    "from matplotlib.colors import Normalize"
   ]
  },
  {
   "cell_type": "code",
   "execution_count": 22,
   "metadata": {},
   "outputs": [
    {
     "data": {
      "image/png": "[encoded data removed]",
      "text/plain": [
       "<Figure size 432x288 with 2 Axes>"
      ]
     },
     "metadata": {
      "needs_background": "light"
     },
     "output_type": "display_data"
    }
   ],
   "source": [
    "df\n",
    "# 'A'列が1より大きい行を抽出する\n",
    "df_filtered = df.query('50 > epoch')\n",
    "\n",
    "df_filtered.plot(kind='scatter', x='train_loss', y='result', c='epoch', cmap='jet')\n",
    "# グラフのレイアウトを調整する\n",
    "plt.rcParams['figure.subplot.bottom'] = 0.15\n",
    "\n",
    "\n",
    "\n",
    "# グラフを表示する\n",
    "plt.show()"
   ]
  },
  {
   "cell_type": "code",
   "execution_count": 11,
   "metadata": {},
   "outputs": [
    {
     "data": {
      "text/html": [
       "<div>\n",
       "<style scoped>\n",
       "    .dataframe tbody tr th:only-of-type {\n",
       "        vertical-align: middle;\n",
       "    }\n",
       "\n",
       "    .dataframe tbody tr th {\n",
       "        vertical-align: top;\n",
       "    }\n",
       "\n",
       "    .dataframe thead th {\n",
       "        text-align: right;\n",
       "    }\n",
       "</style>\n",
       "<table border=\"1\" class=\"dataframe\">\n",
       "  <thead>\n",
       "    <tr style=\"text-align: right;\">\n",
       "      <th></th>\n",
       "      <th>epoch</th>\n",
       "      <th>train_loss</th>\n",
       "      <th>result</th>\n",
       "    </tr>\n",
       "  </thead>\n",
       "  <tbody>\n",
       "    <tr>\n",
       "      <th>15</th>\n",
       "      <td>48</td>\n",
       "      <td>0.30090</td>\n",
       "      <td>0.974513</td>\n",
       "    </tr>\n",
       "    <tr>\n",
       "      <th>24</th>\n",
       "      <td>47</td>\n",
       "      <td>0.31394</td>\n",
       "      <td>1.858335</td>\n",
       "    </tr>\n",
       "    <tr>\n",
       "      <th>26</th>\n",
       "      <td>49</td>\n",
       "      <td>0.31564</td>\n",
       "      <td>0.731416</td>\n",
       "    </tr>\n",
       "    <tr>\n",
       "      <th>28</th>\n",
       "      <td>46</td>\n",
       "      <td>0.32146</td>\n",
       "      <td>0.741803</td>\n",
       "    </tr>\n",
       "    <tr>\n",
       "      <th>29</th>\n",
       "      <td>45</td>\n",
       "      <td>0.32309</td>\n",
       "      <td>1.171151</td>\n",
       "    </tr>\n",
       "    <tr>\n",
       "      <th>30</th>\n",
       "      <td>44</td>\n",
       "      <td>0.32310</td>\n",
       "      <td>0.876163</td>\n",
       "    </tr>\n",
       "    <tr>\n",
       "      <th>35</th>\n",
       "      <td>43</td>\n",
       "      <td>0.34288</td>\n",
       "      <td>1.020730</td>\n",
       "    </tr>\n",
       "    <tr>\n",
       "      <th>36</th>\n",
       "      <td>42</td>\n",
       "      <td>0.34458</td>\n",
       "      <td>0.685535</td>\n",
       "    </tr>\n",
       "    <tr>\n",
       "      <th>37</th>\n",
       "      <td>41</td>\n",
       "      <td>0.34941</td>\n",
       "      <td>0.649193</td>\n",
       "    </tr>\n",
       "    <tr>\n",
       "      <th>38</th>\n",
       "      <td>40</td>\n",
       "      <td>0.36093</td>\n",
       "      <td>0.794108</td>\n",
       "    </tr>\n",
       "    <tr>\n",
       "      <th>39</th>\n",
       "      <td>39</td>\n",
       "      <td>0.37074</td>\n",
       "      <td>0.556158</td>\n",
       "    </tr>\n",
       "    <tr>\n",
       "      <th>40</th>\n",
       "      <td>38</td>\n",
       "      <td>0.38487</td>\n",
       "      <td>0.605778</td>\n",
       "    </tr>\n",
       "    <tr>\n",
       "      <th>41</th>\n",
       "      <td>37</td>\n",
       "      <td>0.38649</td>\n",
       "      <td>0.645833</td>\n",
       "    </tr>\n",
       "    <tr>\n",
       "      <th>42</th>\n",
       "      <td>35</td>\n",
       "      <td>0.39461</td>\n",
       "      <td>0.602954</td>\n",
       "    </tr>\n",
       "    <tr>\n",
       "      <th>43</th>\n",
       "      <td>36</td>\n",
       "      <td>0.39769</td>\n",
       "      <td>0.793697</td>\n",
       "    </tr>\n",
       "    <tr>\n",
       "      <th>44</th>\n",
       "      <td>34</td>\n",
       "      <td>0.40824</td>\n",
       "      <td>0.737502</td>\n",
       "    </tr>\n",
       "    <tr>\n",
       "      <th>45</th>\n",
       "      <td>33</td>\n",
       "      <td>0.41565</td>\n",
       "      <td>0.737502</td>\n",
       "    </tr>\n",
       "    <tr>\n",
       "      <th>47</th>\n",
       "      <td>31</td>\n",
       "      <td>0.42301</td>\n",
       "      <td>0.737502</td>\n",
       "    </tr>\n",
       "    <tr>\n",
       "      <th>48</th>\n",
       "      <td>32</td>\n",
       "      <td>0.42572</td>\n",
       "      <td>0.631433</td>\n",
       "    </tr>\n",
       "    <tr>\n",
       "      <th>49</th>\n",
       "      <td>30</td>\n",
       "      <td>0.42966</td>\n",
       "      <td>0.737502</td>\n",
       "    </tr>\n",
       "    <tr>\n",
       "      <th>50</th>\n",
       "      <td>29</td>\n",
       "      <td>0.43330</td>\n",
       "      <td>0.737502</td>\n",
       "    </tr>\n",
       "    <tr>\n",
       "      <th>51</th>\n",
       "      <td>28</td>\n",
       "      <td>0.44168</td>\n",
       "      <td>0.737502</td>\n",
       "    </tr>\n",
       "    <tr>\n",
       "      <th>52</th>\n",
       "      <td>27</td>\n",
       "      <td>0.44710</td>\n",
       "      <td>0.737502</td>\n",
       "    </tr>\n",
       "    <tr>\n",
       "      <th>53</th>\n",
       "      <td>26</td>\n",
       "      <td>0.45056</td>\n",
       "      <td>0.737502</td>\n",
       "    </tr>\n",
       "    <tr>\n",
       "      <th>54</th>\n",
       "      <td>24</td>\n",
       "      <td>0.45698</td>\n",
       "      <td>0.737502</td>\n",
       "    </tr>\n",
       "    <tr>\n",
       "      <th>55</th>\n",
       "      <td>25</td>\n",
       "      <td>0.46240</td>\n",
       "      <td>0.737502</td>\n",
       "    </tr>\n",
       "    <tr>\n",
       "      <th>56</th>\n",
       "      <td>23</td>\n",
       "      <td>0.46959</td>\n",
       "      <td>0.737502</td>\n",
       "    </tr>\n",
       "    <tr>\n",
       "      <th>57</th>\n",
       "      <td>22</td>\n",
       "      <td>0.47496</td>\n",
       "      <td>0.737502</td>\n",
       "    </tr>\n",
       "  </tbody>\n",
       "</table>\n",
       "</div>"
      ],
      "text/plain": [
       "    epoch  train_loss    result\n",
       "15     48     0.30090  0.974513\n",
       "24     47     0.31394  1.858335\n",
       "26     49     0.31564  0.731416\n",
       "28     46     0.32146  0.741803\n",
       "29     45     0.32309  1.171151\n",
       "30     44     0.32310  0.876163\n",
       "35     43     0.34288  1.020730\n",
       "36     42     0.34458  0.685535\n",
       "37     41     0.34941  0.649193\n",
       "38     40     0.36093  0.794108\n",
       "39     39     0.37074  0.556158\n",
       "40     38     0.38487  0.605778\n",
       "41     37     0.38649  0.645833\n",
       "42     35     0.39461  0.602954\n",
       "43     36     0.39769  0.793697\n",
       "44     34     0.40824  0.737502\n",
       "45     33     0.41565  0.737502\n",
       "47     31     0.42301  0.737502\n",
       "48     32     0.42572  0.631433\n",
       "49     30     0.42966  0.737502\n",
       "50     29     0.43330  0.737502\n",
       "51     28     0.44168  0.737502\n",
       "52     27     0.44710  0.737502\n",
       "53     26     0.45056  0.737502\n",
       "54     24     0.45698  0.737502\n",
       "55     25     0.46240  0.737502\n",
       "56     23     0.46959  0.737502\n",
       "57     22     0.47496  0.737502"
      ]
     },
     "execution_count": 11,
     "metadata": {},
     "output_type": "execute_result"
    }
   ],
   "source": [
    "df_filtered"
   ]
  },
  {
   "cell_type": "code",
   "execution_count": 12,
   "metadata": {},
   "outputs": [
    {
     "data": {
      "image/png": "[encoded data removed]",
      "text/plain": [
       "<Figure size 432x288 with 2 Axes>"
      ]
     },
     "metadata": {
      "needs_background": "light"
     },
     "output_type": "display_data"
    }
   ],
   "source": [
    "# 散布図を描く\n",
    "df.plot(kind='scatter', x='train_loss', y='result', c='epoch', cmap='jet')\n",
    "# グラフのレイアウトを調整する\n",
    "plt.rcParams['figure.subplot.bottom'] = 0.15\n",
    "\n",
    "plt.title('epoch 0~500')\n",
    "# グラフを表示する\n",
    "plt.show()"
   ]
  },
  {
   "cell_type": "code",
   "execution_count": null,
   "metadata": {},
   "outputs": [],
   "source": []
  },
  {
   "cell_type": "code",
   "execution_count": null,
   "metadata": {},
   "outputs": [],
   "source": []
  },
  {
   "cell_type": "code",
   "execution_count": 208,
   "metadata": {},
   "outputs": [
    {
     "name": "stdout",
     "output_type": "stream",
     "text": [
      "1.8816698294111986\n"
     ]
    }
   ],
   "source": [
    "# リスト内の全要素を掛け合わせる\n",
    "result_nums = []\n",
    "result = 1\n",
    "for num in result_list:\n",
    "    result *= num\n",
    "    result_nums.append(result)\n",
    "\n",
    "# 結果を表示する\n",
    "print(result)"
   ]
  },
  {
   "cell_type": "code",
   "execution_count": 25,
   "metadata": {},
   "outputs": [],
   "source": [
    "import csv\n",
    "\n",
    "# CSVファイルに書き込む\n",
    "with open('output.csv', 'w', newline='') as file:\n",
    "    writer = csv.writer(file)\n",
    "    for num in result_nums:\n",
    "        writer.writerow([num])"
   ]
  },
  {
   "cell_type": "code",
   "execution_count": 27,
   "metadata": {},
   "outputs": [],
   "source": [
    "import csv\n",
    "\n",
    "# CSVファイルに書き込む\n",
    "with open('output_2.csv', 'w', newline='') as file:\n",
    "    writer = csv.writer(file)\n",
    "    for num in result_list:\n",
    "        writer.writerow([num])"
   ]
  },
  {
   "cell_type": "code",
   "execution_count": 45,
   "metadata": {},
   "outputs": [
    {
     "name": "stdout",
     "output_type": "stream",
     "text": [
      "1.0430107122579966\n"
     ]
    }
   ],
   "source": [
    "# 株式のシンボルを指定してyfinanceからデータを取得する\n",
    "msft = yf.Ticker(\"SANG\")\n",
    "\n",
    "# 特定の日時の株式データを取得する\n",
    "# specific_date = '2022-01-05'\n",
    "# specific_end_date = '2022-01-04'\n",
    "specific_data = msft.history(start='2022-01-05' ,end='2022-01-06')\n",
    "\n",
    "print(float(specific_data['Close'][0]) / float(specific_data['Open'][0]))"
   ]
  },
  {
   "cell_type": "code",
   "execution_count": 14,
   "metadata": {},
   "outputs": [],
   "source": [
    "base_df = pd.read_csv('../database/normaraze_stock_price/dataset_20231012.csv')"
   ]
  },
  {
   "cell_type": "code",
   "execution_count": 21,
   "metadata": {},
   "outputs": [
    {
     "name": "stdout",
     "output_type": "stream",
     "text": [
      "786\n"
     ]
    }
   ],
   "source": [
    "# 特定の文字列を含む行のインデックスを取得\n",
    "indices = base_df[base_df['name'].str.contains(df['name'][0])].index\n",
    "\n",
    "# 結果を表示\n",
    "print(indices[0])"
   ]
  },
  {
   "cell_type": "code",
   "execution_count": 89,
   "metadata": {},
   "outputs": [],
   "source": [
    "import csv"
   ]
  },
  {
   "cell_type": "code",
   "execution_count": 136,
   "metadata": {},
   "outputs": [],
   "source": [
    "import yfinance as yf"
   ]
  },
  {
   "cell_type": "code",
   "execution_count": 201,
   "metadata": {},
   "outputs": [
    {
     "name": "stdout",
     "output_type": "stream",
     "text": [
      "APA\n"
     ]
    }
   ],
   "source": [
    "money = 1\n",
    "start_date_list = ['2023-09-14', '2023-09-15']\n",
    "ticker_list =  [result_df.iloc[0]['name'], result_df.iloc[1]['name']]\n",
    "\n",
    "print(result_df.iloc[1]['name'])"
   ]
  },
  {
   "cell_type": "code",
   "execution_count": 202,
   "metadata": {},
   "outputs": [
    {
     "name": "stdout",
     "output_type": "stream",
     "text": [
      "                            Open  High    Low  Close  Volume  Dividends  \\\n",
      "Date                                                                      \n",
      "2023-09-14 00:00:00-04:00  1.595  1.62  1.595   1.61    5900        0.0   \n",
      "\n",
      "                           Stock Splits  \n",
      "Date                                     \n",
      "2023-09-14 00:00:00-04:00           0.0  \n",
      "                                Open   High        Low      Close   Volume  \\\n",
      "Date                                                                         \n",
      "2023-09-15 00:00:00-04:00  42.759998  43.25  42.040001  42.459999  9349600   \n",
      "\n",
      "                           Dividends  Stock Splits  \n",
      "Date                                                \n",
      "2023-09-15 00:00:00-04:00        0.0           0.0  \n"
     ]
    }
   ],
   "source": [
    "for ticker, date in zip(ticker_list, start_date_list):\n",
    "    money = caliculate_money(money, date, ticker)"
   ]
  },
  {
   "cell_type": "code",
   "execution_count": 205,
   "metadata": {},
   "outputs": [
    {
     "name": "stdout",
     "output_type": "stream",
     "text": [
      "結果は1.0023225143844883, 増減としては0.23225143844882723%になります\n",
      "\n"
     ]
    }
   ],
   "source": [
    "print(f\"結果は{money}, 増減としては{(money-1.)*100}%になります\")"
   ]
  }
 ],
 "metadata": {
  "kernelspec": {
   "display_name": "Python 3 (ipykernel)",
   "language": "python",
   "name": "python3"
  },
  "orig_nbformat": 4
 },
 "nbformat": 4,
 "nbformat_minor": 2
}
