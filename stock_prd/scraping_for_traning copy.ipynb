{
 "cells": [
  {
   "cell_type": "code",
   "execution_count": 1,
   "metadata": {},
   "outputs": [],
   "source": [
    "import yfinance as yf\n",
    "import matplotlib.pyplot as plt\n",
    "from scipy.optimize import curve_fit\n",
    "import numpy as np\n",
    "import seaborn as sns\n",
    "import pandas as pd\n",
    "import sys\n",
    "import time\n",
    "import stockpy as st\n",
    "from datetime import datetime\n",
    "from tqdm import tqdm"
   ]
  },
  {
   "cell_type": "code",
   "execution_count": 4,
   "metadata": {},
   "outputs": [],
   "source": [
    "name_sheet_df = pd.read_csv('./america_stock_name_sheet_v2.csv', header=None, names=['name'])"
   ]
  },
  {
   "cell_type": "code",
   "execution_count": 10,
   "metadata": {},
   "outputs": [
    {
     "name": "stderr",
     "output_type": "stream",
     "text": [
      "  0%|                                                                                           | 0/30 [00:00<?, ?it/s]"
     ]
    },
    {
     "name": "stdout",
     "output_type": "stream",
     "text": [
      "[*********************100%%**********************]  100 of 100 completed"
     ]
    },
    {
     "name": "stderr",
     "output_type": "stream",
     "text": [
      "\n",
      "1 Failed download:\n",
      "['ACGN']: Exception('%ticker%: No data found, symbol may be delisted')\n"
     ]
    },
    {
     "name": "stdout",
     "output_type": "stream",
     "text": [
      "\n"
     ]
    },
    {
     "name": "stderr",
     "output_type": "stream",
     "text": [
      "  3%|██▊                                                                                | 1/30 [00:06<03:02,  6.29s/it]"
     ]
    },
    {
     "name": "stdout",
     "output_type": "stream",
     "text": [
      "[*********************100%%**********************]  100 of 100 completed"
     ]
    },
    {
     "name": "stderr",
     "output_type": "stream",
     "text": [
      "\n",
      "1 Failed download:\n",
      "['AMRS']: Exception('%ticker%: No data found, symbol may be delisted')\n"
     ]
    },
    {
     "name": "stdout",
     "output_type": "stream",
     "text": [
      "\n"
     ]
    },
    {
     "name": "stderr",
     "output_type": "stream",
     "text": [
      "  7%|█████▌                                                                             | 2/30 [00:12<02:53,  6.18s/it]"
     ]
    },
    {
     "name": "stdout",
     "output_type": "stream",
     "text": [
      "[*********************100%%**********************]  100 of 100 completed"
     ]
    },
    {
     "name": "stderr",
     "output_type": "stream",
     "text": [
      "\n",
      "2 Failed downloads:\n",
      "['ARBG', 'ARCK']: Exception('%ticker%: No data found, symbol may be delisted')\n"
     ]
    },
    {
     "name": "stdout",
     "output_type": "stream",
     "text": [
      "\n"
     ]
    },
    {
     "name": "stderr",
     "output_type": "stream",
     "text": [
      " 10%|████████▎                                                                          | 3/30 [00:18<02:48,  6.23s/it]"
     ]
    },
    {
     "name": "stdout",
     "output_type": "stream",
     "text": [
      "[*********************100%%**********************]  100 of 100 completed"
     ]
    },
    {
     "name": "stderr",
     "output_type": "stream",
     "text": [
      "\n",
      "1 Failed download:\n",
      "['BMTC']: Exception('%ticker%: No data found, symbol may be delisted')\n"
     ]
    },
    {
     "name": "stdout",
     "output_type": "stream",
     "text": [
      "\n"
     ]
    },
    {
     "name": "stderr",
     "output_type": "stream",
     "text": [
      " 13%|███████████                                                                        | 4/30 [00:24<02:40,  6.19s/it]"
     ]
    },
    {
     "name": "stdout",
     "output_type": "stream",
     "text": [
      "[*********************100%%**********************]  100 of 100 completed"
     ]
    },
    {
     "name": "stderr",
     "output_type": "stream",
     "text": [
      "\n",
      "2 Failed downloads:\n",
      "['BWC', 'BRPM']: Exception('%ticker%: No data found, symbol may be delisted')\n"
     ]
    },
    {
     "name": "stdout",
     "output_type": "stream",
     "text": [
      "\n"
     ]
    },
    {
     "name": "stderr",
     "output_type": "stream",
     "text": [
      " 17%|█████████████▊                                                                     | 5/30 [00:31<02:35,  6.22s/it]"
     ]
    },
    {
     "name": "stdout",
     "output_type": "stream",
     "text": [
      "[*********************100%%**********************]  100 of 100 completed"
     ]
    },
    {
     "name": "stderr",
     "output_type": "stream",
     "text": [
      "\n",
      "2 Failed downloads:\n",
      "['CEGVV', 'CLAQ']: Exception('%ticker%: No data found, symbol may be delisted')\n"
     ]
    },
    {
     "name": "stdout",
     "output_type": "stream",
     "text": [
      "\n"
     ]
    },
    {
     "name": "stderr",
     "output_type": "stream",
     "text": [
      " 20%|████████████████▌                                                                  | 6/30 [00:37<02:29,  6.24s/it]"
     ]
    },
    {
     "name": "stdout",
     "output_type": "stream",
     "text": [
      "[*********************100%%**********************]  100 of 100 completed\n"
     ]
    },
    {
     "name": "stderr",
     "output_type": "stream",
     "text": [
      " 23%|███████████████████▎                                                               | 7/30 [00:43<02:23,  6.23s/it]"
     ]
    },
    {
     "name": "stdout",
     "output_type": "stream",
     "text": [
      "[*********************100%%**********************]  100 of 100 completed"
     ]
    },
    {
     "name": "stderr",
     "output_type": "stream",
     "text": [
      "\n",
      "2 Failed downloads:\n",
      "['DNAB', 'DCRD']: Exception('%ticker%: No data found, symbol may be delisted')\n"
     ]
    },
    {
     "name": "stdout",
     "output_type": "stream",
     "text": [
      "\n"
     ]
    },
    {
     "name": "stderr",
     "output_type": "stream",
     "text": [
      " 27%|██████████████████████▏                                                            | 8/30 [00:50<02:22,  6.48s/it]"
     ]
    },
    {
     "name": "stdout",
     "output_type": "stream",
     "text": [
      "[*********************100%%**********************]  100 of 100 completed\n"
     ]
    },
    {
     "name": "stderr",
     "output_type": "stream",
     "text": [
      " 30%|████████████████████████▉                                                          | 9/30 [00:56<02:13,  6.35s/it]"
     ]
    },
    {
     "name": "stdout",
     "output_type": "stream",
     "text": [
      "[*********************100%%**********************]  100 of 100 completed"
     ]
    },
    {
     "name": "stderr",
     "output_type": "stream",
     "text": [
      "\n",
      "1 Failed download:\n",
      "['FCCY']: Exception('%ticker%: No data found, symbol may be delisted')\n"
     ]
    },
    {
     "name": "stdout",
     "output_type": "stream",
     "text": [
      "\n"
     ]
    },
    {
     "name": "stderr",
     "output_type": "stream",
     "text": [
      " 33%|███████████████████████████▎                                                      | 10/30 [01:02<02:06,  6.35s/it]"
     ]
    },
    {
     "name": "stdout",
     "output_type": "stream",
     "text": [
      "[*********************100%%**********************]  100 of 100 completed\n"
     ]
    },
    {
     "name": "stderr",
     "output_type": "stream",
     "text": [
      "\n",
      "1 Failed download:\n",
      "['FLDM']: Exception('%ticker%: No data found, symbol may be delisted')\n",
      " 37%|██████████████████████████████                                                    | 11/30 [01:09<02:00,  6.32s/it]"
     ]
    },
    {
     "name": "stdout",
     "output_type": "stream",
     "text": [
      "[*********************100%%**********************]  100 of 100 completed"
     ]
    },
    {
     "name": "stderr",
     "output_type": "stream",
     "text": [
      "\n",
      "2 Failed downloads:\n",
      "['GGPI', 'HAPP']: Exception('%ticker%: No data found, symbol may be delisted')\n"
     ]
    },
    {
     "name": "stdout",
     "output_type": "stream",
     "text": [
      "\n"
     ]
    },
    {
     "name": "stderr",
     "output_type": "stream",
     "text": [
      " 40%|████████████████████████████████▊                                                 | 12/30 [01:15<01:55,  6.43s/it]"
     ]
    },
    {
     "name": "stdout",
     "output_type": "stream",
     "text": [
      "[*********************100%%**********************]  100 of 100 completed\n"
     ]
    },
    {
     "name": "stderr",
     "output_type": "stream",
     "text": [
      " 43%|███████████████████████████████████▌                                              | 13/30 [01:22<01:48,  6.39s/it]"
     ]
    },
    {
     "name": "stdout",
     "output_type": "stream",
     "text": [
      "[*********************100%%**********************]  100 of 100 completed"
     ]
    },
    {
     "name": "stderr",
     "output_type": "stream",
     "text": [
      "\n",
      "1 Failed download:\n",
      "['IMRA']: Exception('%ticker%: No data found, symbol may be delisted')\n"
     ]
    },
    {
     "name": "stdout",
     "output_type": "stream",
     "text": [
      "\n"
     ]
    },
    {
     "name": "stderr",
     "output_type": "stream",
     "text": [
      " 47%|██████████████████████████████████████▎                                           | 14/30 [01:28<01:41,  6.36s/it]"
     ]
    },
    {
     "name": "stdout",
     "output_type": "stream",
     "text": [
      "[*********************100%%**********************]  100 of 100 completed"
     ]
    },
    {
     "name": "stderr",
     "output_type": "stream",
     "text": [
      "\n",
      "2 Failed downloads:\n",
      "['KAII', 'JYAC']: Exception('%ticker%: No data found, symbol may be delisted')\n"
     ]
    },
    {
     "name": "stdout",
     "output_type": "stream",
     "text": [
      "\n"
     ]
    },
    {
     "name": "stderr",
     "output_type": "stream",
     "text": [
      " 50%|█████████████████████████████████████████                                         | 15/30 [01:35<01:37,  6.52s/it]"
     ]
    },
    {
     "name": "stdout",
     "output_type": "stream",
     "text": [
      "[*********************100%%**********************]  100 of 100 completed"
     ]
    },
    {
     "name": "stderr",
     "output_type": "stream",
     "text": [
      "\n",
      "1 Failed download:\n",
      "['LJAQ']: Exception('%ticker%: No data found, symbol may be delisted')\n"
     ]
    },
    {
     "name": "stdout",
     "output_type": "stream",
     "text": [
      "\n"
     ]
    },
    {
     "name": "stderr",
     "output_type": "stream",
     "text": [
      " 53%|███████████████████████████████████████████▋                                      | 16/30 [01:41<01:31,  6.52s/it]"
     ]
    },
    {
     "name": "stdout",
     "output_type": "stream",
     "text": [
      "[*********************100%%**********************]  100 of 100 completed"
     ]
    },
    {
     "name": "stderr",
     "output_type": "stream",
     "text": [
      "\n",
      "1 Failed download:\n",
      "['MCFE']: Exception('%ticker%: No data found, symbol may be delisted')\n"
     ]
    },
    {
     "name": "stdout",
     "output_type": "stream",
     "text": [
      "\n"
     ]
    },
    {
     "name": "stderr",
     "output_type": "stream",
     "text": [
      " 57%|██████████████████████████████████████████████▍                                   | 17/30 [01:48<01:23,  6.40s/it]"
     ]
    },
    {
     "name": "stdout",
     "output_type": "stream",
     "text": [
      "[*********************100%%**********************]  100 of 100 completed"
     ]
    },
    {
     "name": "stderr",
     "output_type": "stream",
     "text": [
      "\n",
      "1 Failed download:\n"
     ]
    },
    {
     "name": "stdout",
     "output_type": "stream",
     "text": [
      "\n"
     ]
    },
    {
     "name": "stderr",
     "output_type": "stream",
     "text": [
      "['MSPR']: Exception('%ticker%: No data found, symbol may be delisted')\n",
      " 60%|█████████████████████████████████████████████████▏                                | 18/30 [01:54<01:15,  6.27s/it]"
     ]
    },
    {
     "name": "stdout",
     "output_type": "stream",
     "text": [
      "[*********************100%%**********************]  100 of 100 completed\n"
     ]
    },
    {
     "name": "stderr",
     "output_type": "stream",
     "text": [
      " 63%|███████████████████████████████████████████████████▉                              | 19/30 [02:00<01:08,  6.21s/it]"
     ]
    },
    {
     "name": "stdout",
     "output_type": "stream",
     "text": [
      "[*********************100%%**********************]  100 of 100 completed\n"
     ]
    },
    {
     "name": "stderr",
     "output_type": "stream",
     "text": [
      " 67%|██████████████████████████████████████████████████████▋                           | 20/30 [02:06<01:01,  6.13s/it]"
     ]
    },
    {
     "name": "stdout",
     "output_type": "stream",
     "text": [
      "[*********************100%%**********************]  100 of 100 completed"
     ]
    },
    {
     "name": "stderr",
     "output_type": "stream",
     "text": [
      "\n",
      "3 Failed downloads:\n",
      "['PHAS', 'PDCE', 'PME']: Exception('%ticker%: No data found, symbol may be delisted')\n"
     ]
    },
    {
     "name": "stdout",
     "output_type": "stream",
     "text": [
      "\n"
     ]
    },
    {
     "name": "stderr",
     "output_type": "stream",
     "text": [
      " 70%|█████████████████████████████████████████████████████████▍                        | 21/30 [02:12<00:55,  6.16s/it]"
     ]
    },
    {
     "name": "stdout",
     "output_type": "stream",
     "text": [
      "[*********************100%%**********************]  100 of 100 completed\n"
     ]
    },
    {
     "name": "stderr",
     "output_type": "stream",
     "text": [
      " 73%|████████████████████████████████████████████████████████████▏                     | 22/30 [02:18<00:48,  6.09s/it]"
     ]
    },
    {
     "name": "stdout",
     "output_type": "stream",
     "text": [
      "[*********************100%%**********************]  100 of 100 completed"
     ]
    },
    {
     "name": "stderr",
     "output_type": "stream",
     "text": [
      "\n",
      "3 Failed downloads:\n",
      "['RBNC', 'RCHG', 'REUN']: Exception('%ticker%: No data found, symbol may be delisted')\n"
     ]
    },
    {
     "name": "stdout",
     "output_type": "stream",
     "text": [
      "\n"
     ]
    },
    {
     "name": "stderr",
     "output_type": "stream",
     "text": [
      " 77%|██████████████████████████████████████████████████████████████▊                   | 23/30 [02:24<00:43,  6.17s/it]"
     ]
    },
    {
     "name": "stdout",
     "output_type": "stream",
     "text": [
      "[*********************100%%**********************]  100 of 100 completed\n"
     ]
    },
    {
     "name": "stderr",
     "output_type": "stream",
     "text": [
      " 80%|█████████████████████████████████████████████████████████████████▌                | 24/30 [02:30<00:37,  6.19s/it]"
     ]
    },
    {
     "name": "stdout",
     "output_type": "stream",
     "text": [
      "[*********************100%%**********************]  100 of 100 completed"
     ]
    },
    {
     "name": "stderr",
     "output_type": "stream",
     "text": [
      "\n",
      "1 Failed download:\n",
      "['SLCT']: Exception('%ticker%: No data found, symbol may be delisted')\n"
     ]
    },
    {
     "name": "stdout",
     "output_type": "stream",
     "text": [
      "\n"
     ]
    },
    {
     "name": "stderr",
     "output_type": "stream",
     "text": [
      " 83%|████████████████████████████████████████████████████████████████████▎             | 25/30 [02:37<00:31,  6.24s/it]"
     ]
    },
    {
     "name": "stdout",
     "output_type": "stream",
     "text": [
      "[*********************100%%**********************]  100 of 100 completed\n"
     ]
    },
    {
     "name": "stderr",
     "output_type": "stream",
     "text": [
      " 87%|███████████████████████████████████████████████████████████████████████           | 26/30 [02:43<00:24,  6.24s/it]"
     ]
    },
    {
     "name": "stdout",
     "output_type": "stream",
     "text": [
      "[*********************100%%**********************]  100 of 100 completed\n"
     ]
    },
    {
     "name": "stderr",
     "output_type": "stream",
     "text": [
      "\n",
      "1 Failed download:\n",
      "['TIOA']: Exception('%ticker%: No data found, symbol may be delisted')\n",
      " 90%|█████████████████████████████████████████████████████████████████████████▊        | 27/30 [02:49<00:18,  6.23s/it]"
     ]
    },
    {
     "name": "stdout",
     "output_type": "stream",
     "text": [
      "[*********************100%%**********************]  100 of 100 completed\n"
     ]
    },
    {
     "name": "stderr",
     "output_type": "stream",
     "text": [
      " 93%|████████████████████████████████████████████████████████████████████████████▌     | 28/30 [02:55<00:12,  6.26s/it]"
     ]
    },
    {
     "name": "stdout",
     "output_type": "stream",
     "text": [
      "[*********************100%%**********************]  100 of 100 completed"
     ]
    },
    {
     "name": "stderr",
     "output_type": "stream",
     "text": [
      "\n",
      "1 Failed download:\n",
      "['WTRH']: Exception('%ticker%: No data found, symbol may be delisted')\n"
     ]
    },
    {
     "name": "stdout",
     "output_type": "stream",
     "text": [
      "\n"
     ]
    },
    {
     "name": "stderr",
     "output_type": "stream",
     "text": [
      " 97%|███████████████████████████████████████████████████████████████████████████████▎  | 29/30 [03:02<00:06,  6.34s/it]"
     ]
    },
    {
     "name": "stdout",
     "output_type": "stream",
     "text": [
      "[*********************100%%**********************]  52 of 52 completed\n"
     ]
    },
    {
     "name": "stderr",
     "output_type": "stream",
     "text": [
      "100%|██████████████████████████████████████████████████████████████████████████████████| 30/30 [03:07<00:00,  6.24s/it]\n"
     ]
    }
   ],
   "source": [
    "df = pd.DataFrame()\n",
    "date_time = datetime.now().strftime(\"%Y%m%d\")\n",
    "name_sheet_list = list(name_sheet_df['name'])\n",
    "\n",
    "chunk_size = 100  # リストを分割するサイズ\n",
    "for i in tqdm(range(0, len(name_sheet_list), chunk_size)):\n",
    "    chunk = name_sheet_list[i:i+chunk_size]  # リストを分割\n",
    "    df2 = yf.download(chunk, period=\"1y\")['Adj Close']\n",
    "    # 2つのDataFrameを縦方向に結合する\n",
    "    df = pd.concat([df, df2], axis=1)\n",
    "    time.sleep(3)\n",
    "df.to_csv(f'./dataset_{date_time}.csv')"
   ]
  },
  {
   "cell_type": "code",
   "execution_count": 9,
   "metadata": {},
   "outputs": [
    {
     "data": {
      "text/html": [
       "<div>\n",
       "<style scoped>\n",
       "    .dataframe tbody tr th:only-of-type {\n",
       "        vertical-align: middle;\n",
       "    }\n",
       "\n",
       "    .dataframe tbody tr th {\n",
       "        vertical-align: top;\n",
       "    }\n",
       "\n",
       "    .dataframe thead th {\n",
       "        text-align: right;\n",
       "    }\n",
       "</style>\n",
       "<table border=\"1\" class=\"dataframe\">\n",
       "  <thead>\n",
       "    <tr style=\"text-align: right;\">\n",
       "      <th></th>\n",
       "      <th>AACI</th>\n",
       "      <th>AADI</th>\n",
       "      <th>AAL</th>\n",
       "      <th>AAME</th>\n",
       "      <th>AAOI</th>\n",
       "      <th>AAON</th>\n",
       "      <th>AAPL</th>\n",
       "      <th>ABCB</th>\n",
       "      <th>ABCL</th>\n",
       "      <th>ABEO</th>\n",
       "      <th>...</th>\n",
       "      <th>ZNTL</th>\n",
       "      <th>ZS</th>\n",
       "      <th>ZTEK</th>\n",
       "      <th>ZUMZ</th>\n",
       "      <th>ZURA</th>\n",
       "      <th>ZVRA</th>\n",
       "      <th>ZVSA</th>\n",
       "      <th>ZYME</th>\n",
       "      <th>ZYNE</th>\n",
       "      <th>ZYXI</th>\n",
       "    </tr>\n",
       "    <tr>\n",
       "      <th>Date</th>\n",
       "      <th></th>\n",
       "      <th></th>\n",
       "      <th></th>\n",
       "      <th></th>\n",
       "      <th></th>\n",
       "      <th></th>\n",
       "      <th></th>\n",
       "      <th></th>\n",
       "      <th></th>\n",
       "      <th></th>\n",
       "      <th></th>\n",
       "      <th></th>\n",
       "      <th></th>\n",
       "      <th></th>\n",
       "      <th></th>\n",
       "      <th></th>\n",
       "      <th></th>\n",
       "      <th></th>\n",
       "      <th></th>\n",
       "      <th></th>\n",
       "      <th></th>\n",
       "    </tr>\n",
       "  </thead>\n",
       "  <tbody>\n",
       "    <tr>\n",
       "      <th>2023-07-31</th>\n",
       "      <td>10.57</td>\n",
       "      <td>5.33</td>\n",
       "      <td>16.75</td>\n",
       "      <td>1.809667</td>\n",
       "      <td>6.75</td>\n",
       "      <td>70.087311</td>\n",
       "      <td>196.185074</td>\n",
       "      <td>43.474133</td>\n",
       "      <td>7.73</td>\n",
       "      <td>3.42</td>\n",
       "      <td>...</td>\n",
       "      <td>26.709999</td>\n",
       "      <td>160.380005</td>\n",
       "      <td>1.59</td>\n",
       "      <td>18.860001</td>\n",
       "      <td>6.88</td>\n",
       "      <td>4.88</td>\n",
       "      <td>0.173000</td>\n",
       "      <td>7.46</td>\n",
       "      <td>0.3650</td>\n",
       "      <td>9.76</td>\n",
       "    </tr>\n",
       "    <tr>\n",
       "      <th>2023-08-01</th>\n",
       "      <td>10.50</td>\n",
       "      <td>5.25</td>\n",
       "      <td>16.23</td>\n",
       "      <td>1.750333</td>\n",
       "      <td>7.03</td>\n",
       "      <td>70.899643</td>\n",
       "      <td>195.346207</td>\n",
       "      <td>43.474133</td>\n",
       "      <td>7.27</td>\n",
       "      <td>3.31</td>\n",
       "      <td>...</td>\n",
       "      <td>26.250000</td>\n",
       "      <td>162.800003</td>\n",
       "      <td>1.63</td>\n",
       "      <td>18.780001</td>\n",
       "      <td>6.88</td>\n",
       "      <td>4.90</td>\n",
       "      <td>0.170000</td>\n",
       "      <td>7.45</td>\n",
       "      <td>0.3550</td>\n",
       "      <td>8.62</td>\n",
       "    </tr>\n",
       "    <tr>\n",
       "      <th>2023-08-02</th>\n",
       "      <td>10.56</td>\n",
       "      <td>5.26</td>\n",
       "      <td>15.95</td>\n",
       "      <td>1.740444</td>\n",
       "      <td>7.39</td>\n",
       "      <td>70.939590</td>\n",
       "      <td>192.320297</td>\n",
       "      <td>43.603607</td>\n",
       "      <td>6.94</td>\n",
       "      <td>3.20</td>\n",
       "      <td>...</td>\n",
       "      <td>26.110001</td>\n",
       "      <td>150.539993</td>\n",
       "      <td>1.63</td>\n",
       "      <td>18.780001</td>\n",
       "      <td>6.53</td>\n",
       "      <td>4.81</td>\n",
       "      <td>0.170000</td>\n",
       "      <td>7.32</td>\n",
       "      <td>0.3688</td>\n",
       "      <td>8.29</td>\n",
       "    </tr>\n",
       "    <tr>\n",
       "      <th>2023-08-03</th>\n",
       "      <td>10.57</td>\n",
       "      <td>5.66</td>\n",
       "      <td>15.98</td>\n",
       "      <td>1.789889</td>\n",
       "      <td>6.59</td>\n",
       "      <td>69.334900</td>\n",
       "      <td>190.912201</td>\n",
       "      <td>44.181274</td>\n",
       "      <td>6.97</td>\n",
       "      <td>3.17</td>\n",
       "      <td>...</td>\n",
       "      <td>26.129999</td>\n",
       "      <td>150.770004</td>\n",
       "      <td>1.60</td>\n",
       "      <td>19.030001</td>\n",
       "      <td>6.37</td>\n",
       "      <td>4.84</td>\n",
       "      <td>0.160000</td>\n",
       "      <td>7.32</td>\n",
       "      <td>0.3520</td>\n",
       "      <td>8.50</td>\n",
       "    </tr>\n",
       "    <tr>\n",
       "      <th>2023-08-04</th>\n",
       "      <td>10.50</td>\n",
       "      <td>5.73</td>\n",
       "      <td>15.84</td>\n",
       "      <td>1.898667</td>\n",
       "      <td>11.01</td>\n",
       "      <td>65.253242</td>\n",
       "      <td>181.744583</td>\n",
       "      <td>44.370506</td>\n",
       "      <td>6.04</td>\n",
       "      <td>3.14</td>\n",
       "      <td>...</td>\n",
       "      <td>26.280001</td>\n",
       "      <td>146.160004</td>\n",
       "      <td>1.59</td>\n",
       "      <td>18.719999</td>\n",
       "      <td>6.22</td>\n",
       "      <td>4.82</td>\n",
       "      <td>0.170000</td>\n",
       "      <td>7.39</td>\n",
       "      <td>0.3530</td>\n",
       "      <td>8.33</td>\n",
       "    </tr>\n",
       "    <tr>\n",
       "      <th>...</th>\n",
       "      <td>...</td>\n",
       "      <td>...</td>\n",
       "      <td>...</td>\n",
       "      <td>...</td>\n",
       "      <td>...</td>\n",
       "      <td>...</td>\n",
       "      <td>...</td>\n",
       "      <td>...</td>\n",
       "      <td>...</td>\n",
       "      <td>...</td>\n",
       "      <td>...</td>\n",
       "      <td>...</td>\n",
       "      <td>...</td>\n",
       "      <td>...</td>\n",
       "      <td>...</td>\n",
       "      <td>...</td>\n",
       "      <td>...</td>\n",
       "      <td>...</td>\n",
       "      <td>...</td>\n",
       "      <td>...</td>\n",
       "      <td>...</td>\n",
       "    </tr>\n",
       "    <tr>\n",
       "      <th>2023-10-24</th>\n",
       "      <td>10.69</td>\n",
       "      <td>4.29</td>\n",
       "      <td>11.21</td>\n",
       "      <td>1.940000</td>\n",
       "      <td>7.44</td>\n",
       "      <td>53.209999</td>\n",
       "      <td>173.440002</td>\n",
       "      <td>35.450001</td>\n",
       "      <td>4.45</td>\n",
       "      <td>4.00</td>\n",
       "      <td>...</td>\n",
       "      <td>16.670000</td>\n",
       "      <td>164.789993</td>\n",
       "      <td>1.26</td>\n",
       "      <td>16.740000</td>\n",
       "      <td>5.12</td>\n",
       "      <td>4.37</td>\n",
       "      <td>0.116000</td>\n",
       "      <td>7.01</td>\n",
       "      <td>NaN</td>\n",
       "      <td>7.30</td>\n",
       "    </tr>\n",
       "    <tr>\n",
       "      <th>2023-10-25</th>\n",
       "      <td>10.69</td>\n",
       "      <td>4.22</td>\n",
       "      <td>11.04</td>\n",
       "      <td>1.800000</td>\n",
       "      <td>7.12</td>\n",
       "      <td>53.340000</td>\n",
       "      <td>171.100006</td>\n",
       "      <td>35.169998</td>\n",
       "      <td>4.06</td>\n",
       "      <td>3.84</td>\n",
       "      <td>...</td>\n",
       "      <td>16.000000</td>\n",
       "      <td>157.610001</td>\n",
       "      <td>1.25</td>\n",
       "      <td>16.770000</td>\n",
       "      <td>5.26</td>\n",
       "      <td>4.39</td>\n",
       "      <td>0.115000</td>\n",
       "      <td>6.97</td>\n",
       "      <td>NaN</td>\n",
       "      <td>7.10</td>\n",
       "    </tr>\n",
       "    <tr>\n",
       "      <th>2023-10-26</th>\n",
       "      <td>10.68</td>\n",
       "      <td>4.28</td>\n",
       "      <td>11.15</td>\n",
       "      <td>1.880000</td>\n",
       "      <td>6.87</td>\n",
       "      <td>53.820000</td>\n",
       "      <td>166.889999</td>\n",
       "      <td>36.180000</td>\n",
       "      <td>4.14</td>\n",
       "      <td>3.84</td>\n",
       "      <td>...</td>\n",
       "      <td>16.030001</td>\n",
       "      <td>154.610001</td>\n",
       "      <td>1.24</td>\n",
       "      <td>16.700001</td>\n",
       "      <td>5.16</td>\n",
       "      <td>4.50</td>\n",
       "      <td>0.116000</td>\n",
       "      <td>6.68</td>\n",
       "      <td>NaN</td>\n",
       "      <td>7.15</td>\n",
       "    </tr>\n",
       "    <tr>\n",
       "      <th>2023-10-27</th>\n",
       "      <td>10.65</td>\n",
       "      <td>4.25</td>\n",
       "      <td>10.92</td>\n",
       "      <td>1.880000</td>\n",
       "      <td>7.04</td>\n",
       "      <td>53.740002</td>\n",
       "      <td>168.220001</td>\n",
       "      <td>35.939999</td>\n",
       "      <td>3.91</td>\n",
       "      <td>3.71</td>\n",
       "      <td>...</td>\n",
       "      <td>16.200001</td>\n",
       "      <td>154.369995</td>\n",
       "      <td>1.27</td>\n",
       "      <td>16.000000</td>\n",
       "      <td>4.95</td>\n",
       "      <td>4.34</td>\n",
       "      <td>0.110000</td>\n",
       "      <td>6.65</td>\n",
       "      <td>NaN</td>\n",
       "      <td>8.34</td>\n",
       "    </tr>\n",
       "    <tr>\n",
       "      <th>2023-10-30</th>\n",
       "      <td>10.68</td>\n",
       "      <td>4.17</td>\n",
       "      <td>11.18</td>\n",
       "      <td>1.690000</td>\n",
       "      <td>7.08</td>\n",
       "      <td>54.459999</td>\n",
       "      <td>170.289993</td>\n",
       "      <td>37.000000</td>\n",
       "      <td>4.04</td>\n",
       "      <td>3.79</td>\n",
       "      <td>...</td>\n",
       "      <td>16.000000</td>\n",
       "      <td>156.809998</td>\n",
       "      <td>1.29</td>\n",
       "      <td>16.309999</td>\n",
       "      <td>4.91</td>\n",
       "      <td>4.33</td>\n",
       "      <td>0.103576</td>\n",
       "      <td>6.99</td>\n",
       "      <td>NaN</td>\n",
       "      <td>8.58</td>\n",
       "    </tr>\n",
       "  </tbody>\n",
       "</table>\n",
       "<p>65 rows × 2952 columns</p>\n",
       "</div>"
      ],
      "text/plain": [
       "             AACI  AADI    AAL      AAME   AAOI       AAON        AAPL  \\\n",
       "Date                                                                     \n",
       "2023-07-31  10.57  5.33  16.75  1.809667   6.75  70.087311  196.185074   \n",
       "2023-08-01  10.50  5.25  16.23  1.750333   7.03  70.899643  195.346207   \n",
       "2023-08-02  10.56  5.26  15.95  1.740444   7.39  70.939590  192.320297   \n",
       "2023-08-03  10.57  5.66  15.98  1.789889   6.59  69.334900  190.912201   \n",
       "2023-08-04  10.50  5.73  15.84  1.898667  11.01  65.253242  181.744583   \n",
       "...           ...   ...    ...       ...    ...        ...         ...   \n",
       "2023-10-24  10.69  4.29  11.21  1.940000   7.44  53.209999  173.440002   \n",
       "2023-10-25  10.69  4.22  11.04  1.800000   7.12  53.340000  171.100006   \n",
       "2023-10-26  10.68  4.28  11.15  1.880000   6.87  53.820000  166.889999   \n",
       "2023-10-27  10.65  4.25  10.92  1.880000   7.04  53.740002  168.220001   \n",
       "2023-10-30  10.68  4.17  11.18  1.690000   7.08  54.459999  170.289993   \n",
       "\n",
       "                 ABCB  ABCL  ABEO  ...       ZNTL          ZS  ZTEK  \\\n",
       "Date                               ...                                \n",
       "2023-07-31  43.474133  7.73  3.42  ...  26.709999  160.380005  1.59   \n",
       "2023-08-01  43.474133  7.27  3.31  ...  26.250000  162.800003  1.63   \n",
       "2023-08-02  43.603607  6.94  3.20  ...  26.110001  150.539993  1.63   \n",
       "2023-08-03  44.181274  6.97  3.17  ...  26.129999  150.770004  1.60   \n",
       "2023-08-04  44.370506  6.04  3.14  ...  26.280001  146.160004  1.59   \n",
       "...               ...   ...   ...  ...        ...         ...   ...   \n",
       "2023-10-24  35.450001  4.45  4.00  ...  16.670000  164.789993  1.26   \n",
       "2023-10-25  35.169998  4.06  3.84  ...  16.000000  157.610001  1.25   \n",
       "2023-10-26  36.180000  4.14  3.84  ...  16.030001  154.610001  1.24   \n",
       "2023-10-27  35.939999  3.91  3.71  ...  16.200001  154.369995  1.27   \n",
       "2023-10-30  37.000000  4.04  3.79  ...  16.000000  156.809998  1.29   \n",
       "\n",
       "                 ZUMZ  ZURA  ZVRA      ZVSA  ZYME    ZYNE  ZYXI  \n",
       "Date                                                             \n",
       "2023-07-31  18.860001  6.88  4.88  0.173000  7.46  0.3650  9.76  \n",
       "2023-08-01  18.780001  6.88  4.90  0.170000  7.45  0.3550  8.62  \n",
       "2023-08-02  18.780001  6.53  4.81  0.170000  7.32  0.3688  8.29  \n",
       "2023-08-03  19.030001  6.37  4.84  0.160000  7.32  0.3520  8.50  \n",
       "2023-08-04  18.719999  6.22  4.82  0.170000  7.39  0.3530  8.33  \n",
       "...               ...   ...   ...       ...   ...     ...   ...  \n",
       "2023-10-24  16.740000  5.12  4.37  0.116000  7.01     NaN  7.30  \n",
       "2023-10-25  16.770000  5.26  4.39  0.115000  6.97     NaN  7.10  \n",
       "2023-10-26  16.700001  5.16  4.50  0.116000  6.68     NaN  7.15  \n",
       "2023-10-27  16.000000  4.95  4.34  0.110000  6.65     NaN  8.34  \n",
       "2023-10-30  16.309999  4.91  4.33  0.103576  6.99     NaN  8.58  \n",
       "\n",
       "[65 rows x 2952 columns]"
      ]
     },
     "execution_count": 9,
     "metadata": {},
     "output_type": "execute_result"
    }
   ],
   "source": [
    "df"
   ]
  },
  {
   "cell_type": "code",
   "execution_count": null,
   "metadata": {},
   "outputs": [],
   "source": []
  }
 ],
 "metadata": {
  "kernelspec": {
   "display_name": "Python 3 (ipykernel)",
   "language": "python",
   "name": "python3"
  },
  "language_info": {
   "codemirror_mode": {
    "name": "ipython",
    "version": 3
   },
   "file_extension": ".py",
   "mimetype": "text/x-python",
   "name": "python",
   "nbconvert_exporter": "python",
   "pygments_lexer": "ipython3",
   "version": "3.9.12"
  },
  "orig_nbformat": 4
 },
 "nbformat": 4,
 "nbformat_minor": 2
}
