{
 "cells": [
  {
   "cell_type": "code",
   "execution_count": 158,
   "metadata": {},
   "outputs": [],
   "source": [
    "# ライブラリのインポート\n",
    "import numpy as np\n",
    "import pandas as pd\n",
    "from matplotlib import pyplot as plt\n",
    "\n",
    "from sklearn.preprocessing import MinMaxScaler\n",
    "from sklearn.model_selection import train_test_split\n",
    "\n",
    "import torch\n",
    "from torch import nn,optim\n",
    "from torch.utils.data import DataLoader, TensorDataset, Dataset\n",
    "from torchvision import transforms\n",
    "from torchinfo import summary\n",
    "from torch.autograd import Variable"
   ]
  },
  {
   "cell_type": "markdown",
   "metadata": {},
   "source": [
    "tutorial2に対して一次元で予測させたやつ"
   ]
  },
  {
   "cell_type": "code",
   "execution_count": 159,
   "metadata": {},
   "outputs": [],
   "source": [
    "import yfinance as yf\n",
    "import matplotlib.pyplot as plt\n",
    "from scipy.optimize import curve_fit\n",
    "import numpy as np\n",
    "import seaborn as sns\n",
    "import pandas as pd\n",
    "import sys\n",
    "import time\n",
    "import stockpy as st\n",
    "from datetime import datetime\n",
    "from tqdm import tqdm"
   ]
  },
  {
   "cell_type": "code",
   "execution_count": 160,
   "metadata": {},
   "outputs": [
    {
     "name": "stdout",
     "output_type": "stream",
     "text": [
      "[*********************100%%**********************]  4 of 4 completed\n"
     ]
    }
   ],
   "source": [
    "df = yf.download(['AVAV', 'AACI', 'AADI', 'AAL'], period='max')['Adj Close']"
   ]
  },
  {
   "cell_type": "code",
   "execution_count": null,
   "metadata": {},
   "outputs": [],
   "source": []
  },
  {
   "cell_type": "code",
   "execution_count": 161,
   "metadata": {},
   "outputs": [
    {
     "data": {
      "text/plain": [
       "array([[0.04959987],\n",
       "       [0.04934978],\n",
       "       [0.04684896],\n",
       "       ...,\n",
       "       [0.85795265],\n",
       "       [0.80576857],\n",
       "       [0.79984994]])"
      ]
     },
     "execution_count": 161,
     "metadata": {},
     "output_type": "execute_result"
    }
   ],
   "source": [
    "scaler = MinMaxScaler()\n",
    "df_scaled = scaler.fit_transform(df['AVAV'].dropna().values.reshape(-1, 1))\n",
    "df_scaled"
   ]
  },
  {
   "cell_type": "code",
   "execution_count": 162,
   "metadata": {},
   "outputs": [],
   "source": [
    "# テスト用と訓練用で分割\n",
    "df_train, df_test = train_test_split(df_scaled, test_size=0.3, shuffle=False)\n",
    "\n",
    "window_size = 20\n",
    "n_data = len(df) - window_size + 1 -1\n",
    "\n",
    "n_dim = df_train.shape[1]\n",
    "n_train = len(df_train) - window_size + 1 - 1\n",
    "n_test = len(df_test) - window_size + 1 - 1\n",
    "\n",
    "# 正解データを準備\n",
    "train = np.zeros((n_train, window_size, n_dim))\n",
    "train_labels = np.zeros((n_train, n_dim))\n",
    "for i in range(n_train):\n",
    "    train[i] = df_train[i:i+window_size]\n",
    "    train_labels[i] = df_train[i+window_size]\n",
    "\n",
    "# テストデータを準備\n",
    "test = np.zeros((n_test, window_size, n_dim))\n",
    "test_labels = np.zeros((n_test, n_dim))\n",
    "for i in range(n_test):\n",
    "    test[i] = df_test[i:i+window_size]\n",
    "    test_labels[i] = df_test[i+window_size]\n",
    "\n",
    "# 訓練ラベルの用意。今回は平均気温を予測する\n",
    "train_labels = train_labels[:, 0]"
   ]
  },
  {
   "cell_type": "code",
   "execution_count": null,
   "metadata": {},
   "outputs": [],
   "source": []
  },
  {
   "cell_type": "code",
   "execution_count": 163,
   "metadata": {},
   "outputs": [],
   "source": [
    "train = torch.tensor(train, dtype=torch.float)\n",
    "labels = torch.tensor(train_labels, dtype=torch.float)\n",
    "dataset = torch.utils.data.TensorDataset(train, labels)\n",
    "train_loader = DataLoader(dataset, batch_size=4, shuffle=True)"
   ]
  },
  {
   "cell_type": "code",
   "execution_count": 164,
   "metadata": {},
   "outputs": [],
   "source": [
    "# 多変量を入力して、１変数の予測結果を返すLSTNモデル.\n",
    "class MyLSTM(nn.Module):\n",
    "    def __init__(self, feature_size, hidden_dim, n_layers):\n",
    "        super(MyLSTM, self).__init__()\n",
    "\n",
    "        self.feature_size = feature_size\n",
    "        self.hidden_dim = hidden_dim\n",
    "        self.n_layers = n_layers\n",
    "        self.n_output = 1\n",
    "\n",
    "        self.lstm = nn.LSTM(feature_size, hidden_dim, n_layers, batch_first=True)\n",
    "        self.fc = nn.Linear(hidden_dim, self.n_output)\n",
    "\n",
    "    def forward(self, x):\n",
    "        h_0 = torch.zeros(self.n_layers, x.size(0), self.hidden_dim).to(device)\n",
    "        c_0 = torch.zeros(self.n_layers, x.size(0), self.hidden_dim).to(device)\n",
    "        \n",
    "        output, (hn, cn) = self.lstm(x, (h_0, c_0)) # (input, hidden, and internal state)\n",
    "        hn = hn.view(-1, self.hidden_dim) \n",
    "        y = self.fc(hn)\n",
    "        y = y.reshape(self.n_output, -1)\n",
    "\n",
    "        return y\n",
    "\n",
    "\n",
    "feature_size  = 1\n",
    "n_hidden  = 64\n",
    "n_layers  = 1\n",
    "device = torch.device('cuda' if torch.cuda.is_available() else 'cpu')\n",
    "net = MyLSTM(feature_size, n_hidden, n_layers).to(device)"
   ]
  },
  {
   "cell_type": "code",
   "execution_count": 165,
   "metadata": {},
   "outputs": [
    {
     "data": {
      "text/plain": [
       "=================================================================\n",
       "Layer (type:depth-idx)                   Param #\n",
       "=================================================================\n",
       "MyLSTM                                   --\n",
       "├─LSTM: 1-1                              17,152\n",
       "├─Linear: 1-2                            65\n",
       "=================================================================\n",
       "Total params: 17,217\n",
       "Trainable params: 17,217\n",
       "Non-trainable params: 0\n",
       "================================================================="
      ]
     },
     "execution_count": 165,
     "metadata": {},
     "output_type": "execute_result"
    }
   ],
   "source": [
    "summary(net)"
   ]
  },
  {
   "cell_type": "code",
   "execution_count": 166,
   "metadata": {},
   "outputs": [
    {
     "name": "stdout",
     "output_type": "stream",
     "text": [
      "run with cuda\n"
     ]
    },
    {
     "data": {
      "text/plain": [
       "MyLSTM(\n",
       "  (lstm): LSTM(1, 64, batch_first=True)\n",
       "  (fc): Linear(in_features=64, out_features=1, bias=True)\n",
       ")"
      ]
     },
     "execution_count": 166,
     "metadata": {},
     "output_type": "execute_result"
    }
   ],
   "source": [
    "func_loss = nn.MSELoss()\n",
    "optimizer = optim.Adam(net.parameters(), lr=0.001)\n",
    "loss_history = []\n",
    "\n",
    "print(f\"run with {device}\")\n",
    "epochs = 200\n",
    "\n",
    "net.to(device)"
   ]
  },
  {
   "cell_type": "code",
   "execution_count": 167,
   "metadata": {},
   "outputs": [
    {
     "name": "stderr",
     "output_type": "stream",
     "text": [
      "C:\\Users\\drryu\\anaconda3\\lib\\site-packages\\torch\\nn\\modules\\loss.py:536: UserWarning: Using a target size (torch.Size([4])) that is different to the input size (torch.Size([1, 4])). This will likely lead to incorrect results due to broadcasting. Please ensure they have the same size.\n",
      "  return F.mse_loss(input, target, reduction=self.reduction)\n",
      "C:\\Users\\drryu\\anaconda3\\lib\\site-packages\\torch\\nn\\modules\\loss.py:536: UserWarning: Using a target size (torch.Size([3])) that is different to the input size (torch.Size([1, 3])). This will likely lead to incorrect results due to broadcasting. Please ensure they have the same size.\n",
      "  return F.mse_loss(input, target, reduction=self.reduction)\n"
     ]
    },
    {
     "name": "stdout",
     "output_type": "stream",
     "text": [
      "Epoch: 0 Loss_Train: 0.0020837629028419517\n",
      "Epoch: 1 Loss_Train: 0.0003976939340466864\n",
      "Epoch: 2 Loss_Train: 0.0003435289088255799\n",
      "Epoch: 3 Loss_Train: 0.0002214600631464608\n",
      "Epoch: 4 Loss_Train: 0.00019001422123233664\n",
      "Epoch: 5 Loss_Train: 0.00016903599827427834\n",
      "Epoch: 6 Loss_Train: 0.00014206419710633507\n",
      "Epoch: 7 Loss_Train: 0.00010644485753355382\n",
      "Epoch: 8 Loss_Train: 0.00011130307260620738\n",
      "Epoch: 9 Loss_Train: 9.793121895972449e-05\n",
      "Epoch: 10 Loss_Train: 0.00010384404452506975\n",
      "Epoch: 11 Loss_Train: 8.973949890323749e-05\n",
      "Epoch: 12 Loss_Train: 8.4103494201807e-05\n",
      "Epoch: 13 Loss_Train: 7.898086899629249e-05\n",
      "Epoch: 14 Loss_Train: 8.105666244655268e-05\n",
      "Epoch: 15 Loss_Train: 8.40000900676992e-05\n",
      "Epoch: 16 Loss_Train: 8.626174291088174e-05\n",
      "Epoch: 17 Loss_Train: 8.206488132770874e-05\n",
      "Epoch: 18 Loss_Train: 8.447295186353424e-05\n",
      "Epoch: 19 Loss_Train: 7.749355257458759e-05\n",
      "Epoch: 20 Loss_Train: 7.87469220141837e-05\n",
      "Epoch: 21 Loss_Train: 8.126000636309991e-05\n",
      "Epoch: 22 Loss_Train: 7.562636435918754e-05\n",
      "Epoch: 23 Loss_Train: 8.088529692742993e-05\n",
      "Epoch: 24 Loss_Train: 7.546103487961791e-05\n",
      "Epoch: 25 Loss_Train: 7.326102548899396e-05\n",
      "Epoch: 26 Loss_Train: 7.616031410304387e-05\n",
      "Epoch: 27 Loss_Train: 7.506047511491344e-05\n",
      "Epoch: 28 Loss_Train: 7.269969131460821e-05\n",
      "Epoch: 29 Loss_Train: 7.08964193795686e-05\n",
      "Epoch: 30 Loss_Train: 7.676784122927045e-05\n",
      "Epoch: 31 Loss_Train: 7.425496869380204e-05\n",
      "Epoch: 32 Loss_Train: 7.216178374920576e-05\n",
      "Epoch: 33 Loss_Train: 7.292198021614888e-05\n",
      "Epoch: 34 Loss_Train: 7.145339314551554e-05\n",
      "Epoch: 35 Loss_Train: 7.832145989053228e-05\n",
      "Epoch: 36 Loss_Train: 6.91027806079597e-05\n",
      "Epoch: 37 Loss_Train: 7.249354319170671e-05\n",
      "Epoch: 38 Loss_Train: 7.181143359062348e-05\n",
      "Epoch: 39 Loss_Train: 7.130925190546851e-05\n",
      "Epoch: 40 Loss_Train: 7.274354490652317e-05\n",
      "Epoch: 41 Loss_Train: 7.199566375560588e-05\n",
      "Epoch: 42 Loss_Train: 6.929500527995671e-05\n",
      "Epoch: 43 Loss_Train: 7.217322835441115e-05\n",
      "Epoch: 44 Loss_Train: 7.279863908688243e-05\n",
      "Epoch: 45 Loss_Train: 6.860517926682403e-05\n",
      "Epoch: 46 Loss_Train: 6.906335847654998e-05\n",
      "Epoch: 47 Loss_Train: 7.114957394597672e-05\n",
      "Epoch: 48 Loss_Train: 6.971726217729185e-05\n",
      "Epoch: 49 Loss_Train: 7.45616895617251e-05\n",
      "Epoch: 50 Loss_Train: 6.926301616748244e-05\n",
      "Epoch: 51 Loss_Train: 7.00559165858248e-05\n",
      "Epoch: 52 Loss_Train: 6.935337672689519e-05\n",
      "Epoch: 53 Loss_Train: 6.581072827386047e-05\n",
      "Epoch: 54 Loss_Train: 6.903844106387427e-05\n",
      "Epoch: 55 Loss_Train: 7.108337301713256e-05\n",
      "Epoch: 56 Loss_Train: 7.214407599512465e-05\n",
      "Epoch: 57 Loss_Train: 6.961460793624117e-05\n",
      "Epoch: 58 Loss_Train: 6.920525058285916e-05\n",
      "Epoch: 59 Loss_Train: 6.968694675453119e-05\n",
      "Epoch: 60 Loss_Train: 6.965658015081581e-05\n",
      "Epoch: 61 Loss_Train: 6.954523432558372e-05\n",
      "Epoch: 62 Loss_Train: 6.803913530061077e-05\n",
      "Epoch: 63 Loss_Train: 6.836221459611274e-05\n",
      "Epoch: 64 Loss_Train: 7.257532738631434e-05\n",
      "Epoch: 65 Loss_Train: 7.040203015800112e-05\n",
      "Epoch: 66 Loss_Train: 6.850696285429036e-05\n",
      "Epoch: 67 Loss_Train: 6.98720584183185e-05\n",
      "Epoch: 68 Loss_Train: 6.809339102071634e-05\n",
      "Epoch: 69 Loss_Train: 6.953699898933426e-05\n",
      "Epoch: 70 Loss_Train: 6.760077017680631e-05\n",
      "Epoch: 71 Loss_Train: 7.109708239347576e-05\n",
      "Epoch: 72 Loss_Train: 6.93702080105584e-05\n",
      "Epoch: 73 Loss_Train: 6.845461420285308e-05\n",
      "Epoch: 74 Loss_Train: 6.86941119563527e-05\n",
      "Epoch: 75 Loss_Train: 6.864023419781955e-05\n",
      "Epoch: 76 Loss_Train: 6.912054367126818e-05\n",
      "Epoch: 77 Loss_Train: 7.037204653639438e-05\n",
      "Epoch: 78 Loss_Train: 6.802752711499246e-05\n",
      "Epoch: 79 Loss_Train: 6.858524331116812e-05\n",
      "Epoch: 80 Loss_Train: 6.77739566284637e-05\n",
      "Epoch: 81 Loss_Train: 6.665347484977433e-05\n",
      "Epoch: 82 Loss_Train: 7.161693363181436e-05\n",
      "Epoch: 83 Loss_Train: 6.77741538156313e-05\n",
      "Epoch: 84 Loss_Train: 7.027857867252246e-05\n",
      "Epoch: 85 Loss_Train: 6.911527781558813e-05\n",
      "Epoch: 86 Loss_Train: 6.674154788907732e-05\n",
      "Epoch: 87 Loss_Train: 6.718035522362573e-05\n",
      "Epoch: 88 Loss_Train: 6.858697170122287e-05\n",
      "Epoch: 89 Loss_Train: 6.699305433118416e-05\n",
      "Epoch: 90 Loss_Train: 6.980785550876479e-05\n",
      "Epoch: 91 Loss_Train: 6.731529256598156e-05\n",
      "Epoch: 92 Loss_Train: 6.66177484205019e-05\n",
      "Epoch: 93 Loss_Train: 6.685344867521378e-05\n",
      "Epoch: 94 Loss_Train: 6.80021981136414e-05\n",
      "Epoch: 95 Loss_Train: 6.695897913633796e-05\n",
      "Epoch: 96 Loss_Train: 6.977038904611068e-05\n",
      "Epoch: 97 Loss_Train: 6.537884658324929e-05\n",
      "Epoch: 98 Loss_Train: 6.498829990592374e-05\n",
      "Epoch: 99 Loss_Train: 6.5909217692247e-05\n",
      "Epoch: 100 Loss_Train: 6.641022730251311e-05\n",
      "Epoch: 101 Loss_Train: 6.684415707784639e-05\n",
      "Epoch: 102 Loss_Train: 6.526937258802517e-05\n",
      "Epoch: 103 Loss_Train: 6.910568791542018e-05\n",
      "Epoch: 104 Loss_Train: 6.633165486894972e-05\n",
      "Epoch: 105 Loss_Train: 6.612752606916204e-05\n",
      "Epoch: 106 Loss_Train: 6.756066622159784e-05\n",
      "Epoch: 107 Loss_Train: 6.65239292486966e-05\n",
      "Epoch: 108 Loss_Train: 6.637954002253592e-05\n",
      "Epoch: 109 Loss_Train: 6.712716811565205e-05\n",
      "Epoch: 110 Loss_Train: 6.818578401627279e-05\n",
      "Epoch: 111 Loss_Train: 6.772743260359132e-05\n",
      "Epoch: 112 Loss_Train: 6.397567437203923e-05\n",
      "Epoch: 113 Loss_Train: 6.681929786961768e-05\n",
      "Epoch: 114 Loss_Train: 6.769438356858159e-05\n",
      "Epoch: 115 Loss_Train: 6.775844775017432e-05\n",
      "Epoch: 116 Loss_Train: 6.666249717905341e-05\n",
      "Epoch: 117 Loss_Train: 6.644739803295346e-05\n",
      "Epoch: 118 Loss_Train: 6.62664593684928e-05\n",
      "Epoch: 119 Loss_Train: 6.608148047683725e-05\n",
      "Epoch: 120 Loss_Train: 6.674403533060104e-05\n",
      "Epoch: 121 Loss_Train: 6.836650775363704e-05\n",
      "Epoch: 122 Loss_Train: 6.585730598246303e-05\n",
      "Epoch: 123 Loss_Train: 6.585110352605684e-05\n",
      "Epoch: 124 Loss_Train: 6.347734178217804e-05\n",
      "Epoch: 125 Loss_Train: 6.967918160198964e-05\n",
      "Epoch: 126 Loss_Train: 6.668980271022046e-05\n",
      "Epoch: 127 Loss_Train: 6.584669929474961e-05\n",
      "Epoch: 128 Loss_Train: 6.516834956274004e-05\n",
      "Epoch: 129 Loss_Train: 6.751731629149268e-05\n",
      "Epoch: 130 Loss_Train: 6.626386141701245e-05\n",
      "Epoch: 131 Loss_Train: 6.481511949074314e-05\n",
      "Epoch: 132 Loss_Train: 6.857958999570174e-05\n",
      "Epoch: 133 Loss_Train: 6.703322918270114e-05\n",
      "Epoch: 134 Loss_Train: 6.846574686972984e-05\n",
      "Epoch: 135 Loss_Train: 6.673838179928069e-05\n",
      "Epoch: 136 Loss_Train: 6.514227971855533e-05\n",
      "Epoch: 137 Loss_Train: 6.574021960204382e-05\n",
      "Epoch: 138 Loss_Train: 6.451635314661723e-05\n",
      "Epoch: 139 Loss_Train: 6.904623643802487e-05\n",
      "Epoch: 140 Loss_Train: 6.802372732426879e-05\n",
      "Epoch: 141 Loss_Train: 6.370357341339521e-05\n",
      "Epoch: 142 Loss_Train: 6.555589107174188e-05\n",
      "Epoch: 143 Loss_Train: 6.547275154536496e-05\n",
      "Epoch: 144 Loss_Train: 6.530214921171463e-05\n",
      "Epoch: 145 Loss_Train: 6.671599095088278e-05\n",
      "Epoch: 146 Loss_Train: 6.733362718556858e-05\n",
      "Epoch: 147 Loss_Train: 6.564620877444282e-05\n",
      "Epoch: 148 Loss_Train: 6.728588527317724e-05\n",
      "Epoch: 149 Loss_Train: 6.640037545931357e-05\n",
      "Epoch: 150 Loss_Train: 6.636735437873946e-05\n",
      "Epoch: 151 Loss_Train: 6.44698850962106e-05\n",
      "Epoch: 152 Loss_Train: 6.573630155319508e-05\n",
      "Epoch: 153 Loss_Train: 6.765154806893894e-05\n",
      "Epoch: 154 Loss_Train: 6.540069805563621e-05\n",
      "Epoch: 155 Loss_Train: 6.636789786763125e-05\n",
      "Epoch: 156 Loss_Train: 6.47582154206514e-05\n",
      "Epoch: 157 Loss_Train: 6.780518707135428e-05\n",
      "Epoch: 158 Loss_Train: 6.569284645409138e-05\n",
      "Epoch: 159 Loss_Train: 6.579664468799771e-05\n",
      "Epoch: 160 Loss_Train: 6.604656956282535e-05\n",
      "Epoch: 161 Loss_Train: 6.467336291486554e-05\n",
      "Epoch: 162 Loss_Train: 6.434916677450659e-05\n",
      "Epoch: 163 Loss_Train: 6.505302756645704e-05\n",
      "Epoch: 164 Loss_Train: 6.587833458084485e-05\n",
      "Epoch: 165 Loss_Train: 6.532323684252905e-05\n",
      "Epoch: 166 Loss_Train: 6.594017331587121e-05\n",
      "Epoch: 167 Loss_Train: 6.543155864039415e-05\n",
      "Epoch: 168 Loss_Train: 6.371257739789355e-05\n",
      "Epoch: 169 Loss_Train: 6.67300177962489e-05\n",
      "Epoch: 170 Loss_Train: 7.212199997481526e-05\n",
      "Epoch: 171 Loss_Train: 6.723213628582007e-05\n",
      "Epoch: 172 Loss_Train: 6.364915206450012e-05\n",
      "Epoch: 173 Loss_Train: 6.479556713585208e-05\n",
      "Epoch: 174 Loss_Train: 6.682566882254064e-05\n",
      "Epoch: 175 Loss_Train: 6.563224461714518e-05\n",
      "Epoch: 176 Loss_Train: 6.685148251161611e-05\n",
      "Epoch: 177 Loss_Train: 6.699045303204078e-05\n",
      "Epoch: 178 Loss_Train: 6.553912484912757e-05\n",
      "Epoch: 179 Loss_Train: 6.407015456240988e-05\n",
      "Epoch: 180 Loss_Train: 6.621194858669097e-05\n",
      "Epoch: 181 Loss_Train: 6.465770321878858e-05\n",
      "Epoch: 182 Loss_Train: 6.770180471807247e-05\n",
      "Epoch: 183 Loss_Train: 6.449384803651961e-05\n",
      "Epoch: 184 Loss_Train: 6.656632935373302e-05\n",
      "Epoch: 185 Loss_Train: 6.556792608413758e-05\n",
      "Epoch: 186 Loss_Train: 6.350959922077053e-05\n",
      "Epoch: 187 Loss_Train: 6.492009227006832e-05\n",
      "Epoch: 188 Loss_Train: 6.486541706891945e-05\n",
      "Epoch: 189 Loss_Train: 6.577010968064131e-05\n",
      "Epoch: 190 Loss_Train: 6.740357139774423e-05\n",
      "Epoch: 191 Loss_Train: 6.520186312966135e-05\n",
      "Epoch: 192 Loss_Train: 6.412852536385804e-05\n",
      "Epoch: 193 Loss_Train: 6.373076842914589e-05\n",
      "Epoch: 194 Loss_Train: 6.462659560279351e-05\n",
      "Epoch: 195 Loss_Train: 6.316319958033279e-05\n",
      "Epoch: 196 Loss_Train: 6.380654639911567e-05\n",
      "Epoch: 197 Loss_Train: 6.427046464656503e-05\n",
      "Epoch: 198 Loss_Train: 6.544084222822179e-05\n",
      "Epoch: 199 Loss_Train: 6.329299179789978e-05\n",
      "Epoch: 200 Loss_Train: 6.33467514084323e-05\n"
     ]
    }
   ],
   "source": [
    "for i in range(epochs+1):\n",
    "    net.train()\n",
    "    tmp_loss = 0.0\n",
    "    for j, (x, t) in enumerate(train_loader):\n",
    "        x = x.to(device)\n",
    "        optimizer.zero_grad()\n",
    "        y = net(x).to('cpu')\n",
    "        loss = func_loss(y, t)\n",
    "        loss.backward()\n",
    "        optimizer.step() \n",
    "        tmp_loss += loss.item()\n",
    "    tmp_loss /= j+1\n",
    "    loss_history.append(tmp_loss)\n",
    "    print('Epoch:', i, 'Loss_Train:', tmp_loss)"
   ]
  },
  {
   "cell_type": "code",
   "execution_count": 33,
   "metadata": {},
   "outputs": [],
   "source": [
    "torch.save(net.state_dict(), f'./lstm.pth')"
   ]
  },
  {
   "cell_type": "code",
   "execution_count": 144,
   "metadata": {},
   "outputs": [
    {
     "data": {
      "image/png": "[encoded data removed]",
      "text/plain": [
       "<Figure size 432x288 with 1 Axes>"
      ]
     },
     "metadata": {
      "needs_background": "light"
     },
     "output_type": "display_data"
    }
   ],
   "source": [
    "plt.plot(range(len(loss_history)), loss_history, label='train')\n",
    "plt.legend()\n",
    "\n",
    "plt.xlabel(\"epochs\")\n",
    "plt.ylabel(\"loss\")\n",
    "plt.show()"
   ]
  },
  {
   "cell_type": "code",
   "execution_count": 145,
   "metadata": {},
   "outputs": [
    {
     "name": "stderr",
     "output_type": "stream",
     "text": [
      "C:\\Users\\drryu\\AppData\\Local\\Temp\\ipykernel_17948\\1814804422.py:5: UserWarning: To copy construct from a tensor, it is recommended to use sourceTensor.clone().detach() or sourceTensor.clone().detach().requires_grad_(True), rather than torch.tensor(sourceTensor).\n",
      "  x = torch.tensor(train[k])\n"
     ]
    }
   ],
   "source": [
    "predicted_train_plot = []\n",
    "net.eval()\n",
    "\n",
    "for k in range(n_train):\n",
    "    x = torch.tensor(train[k])\n",
    "    x = x.reshape(1, window_size, feature_size)\n",
    "    x = x.to(device).float()\n",
    "    y = net(x)\n",
    "    y = y.to('cpu')\n",
    "    predicted_train_plot.append(y[0].item())\n",
    "    "
   ]
  },
  {
   "cell_type": "code",
   "execution_count": 146,
   "metadata": {},
   "outputs": [
    {
     "data": {
      "image/png": "[encoded data removed]",
      "text/plain": [
       "<Figure size 432x288 with 1 Axes>"
      ]
     },
     "metadata": {
      "needs_background": "light"
     },
     "output_type": "display_data"
    }
   ],
   "source": [
    "\n",
    "plt.plot(range(len(df_train)), df_train[:, 0], label='Correct')\n",
    "plt.plot(range(window_size, window_size+len(predicted_train_plot)), predicted_train_plot, label='Test result')\n",
    "plt.legend()\n",
    "plt.show()"
   ]
  },
  {
   "cell_type": "code",
   "execution_count": 147,
   "metadata": {},
   "outputs": [],
   "source": [
    "predicted_test_plot = []\n",
    "net.eval()\n",
    "\n",
    "for k in range(n_test):\n",
    "    x = torch.tensor(test[k])\n",
    "    x = x.reshape(1, window_size, feature_size)\n",
    "    x = x.to(device).float()\n",
    "    y = net(x)\n",
    "    predicted_test_plot.append(y[0].item())"
   ]
  },
  {
   "cell_type": "code",
   "execution_count": 154,
   "metadata": {},
   "outputs": [
    {
     "name": "stdout",
     "output_type": "stream",
     "text": [
      "20\n",
      "20\n",
      "20\n",
      "20\n",
      "20\n",
      "20\n",
      "20\n",
      "20\n",
      "20\n",
      "20\n",
      "20\n",
      "20\n",
      "20\n",
      "20\n",
      "20\n",
      "20\n",
      "20\n",
      "20\n",
      "20\n",
      "20\n",
      "20\n",
      "20\n",
      "20\n",
      "20\n",
      "20\n",
      "20\n",
      "20\n",
      "20\n",
      "20\n",
      "20\n",
      "20\n",
      "20\n",
      "20\n",
      "20\n",
      "20\n",
      "20\n",
      "20\n",
      "20\n",
      "20\n",
      "20\n",
      "20\n",
      "20\n",
      "20\n",
      "20\n",
      "20\n",
      "20\n",
      "20\n",
      "20\n",
      "20\n",
      "20\n",
      "20\n",
      "20\n",
      "20\n",
      "20\n",
      "20\n",
      "20\n",
      "20\n",
      "20\n",
      "20\n",
      "20\n",
      "20\n",
      "20\n",
      "20\n",
      "20\n",
      "20\n",
      "20\n",
      "20\n",
      "20\n",
      "20\n",
      "20\n",
      "20\n",
      "20\n",
      "20\n",
      "20\n",
      "20\n",
      "20\n",
      "20\n",
      "20\n",
      "20\n",
      "20\n",
      "20\n",
      "20\n",
      "20\n",
      "20\n",
      "20\n",
      "20\n",
      "20\n",
      "20\n",
      "20\n",
      "20\n",
      "20\n",
      "20\n",
      "20\n",
      "20\n",
      "20\n",
      "20\n",
      "20\n",
      "20\n",
      "20\n",
      "20\n",
      "20\n",
      "20\n",
      "20\n",
      "20\n",
      "20\n",
      "20\n",
      "20\n",
      "20\n",
      "20\n",
      "20\n",
      "20\n",
      "20\n",
      "20\n",
      "20\n",
      "20\n",
      "20\n",
      "20\n",
      "20\n",
      "20\n",
      "20\n",
      "20\n",
      "20\n",
      "20\n",
      "20\n",
      "20\n",
      "20\n",
      "20\n",
      "20\n",
      "20\n",
      "20\n",
      "20\n",
      "20\n",
      "20\n",
      "20\n",
      "20\n",
      "20\n",
      "20\n",
      "20\n",
      "20\n",
      "20\n",
      "20\n",
      "20\n",
      "20\n",
      "20\n",
      "20\n",
      "20\n",
      "20\n",
      "20\n",
      "20\n",
      "20\n",
      "20\n",
      "20\n",
      "20\n",
      "20\n",
      "20\n",
      "20\n",
      "20\n",
      "20\n",
      "20\n",
      "20\n",
      "20\n",
      "20\n",
      "20\n",
      "20\n",
      "20\n",
      "20\n",
      "20\n",
      "20\n",
      "20\n",
      "20\n",
      "20\n",
      "20\n",
      "20\n",
      "20\n",
      "20\n",
      "20\n",
      "20\n",
      "20\n",
      "20\n",
      "20\n",
      "20\n",
      "20\n",
      "20\n",
      "20\n",
      "20\n",
      "20\n",
      "20\n",
      "20\n",
      "20\n",
      "20\n",
      "20\n",
      "20\n",
      "20\n",
      "20\n",
      "20\n",
      "20\n",
      "20\n",
      "20\n",
      "20\n",
      "20\n",
      "20\n",
      "20\n",
      "20\n",
      "20\n",
      "20\n",
      "20\n",
      "20\n",
      "20\n",
      "20\n",
      "20\n",
      "20\n",
      "20\n",
      "20\n",
      "20\n",
      "20\n",
      "20\n",
      "20\n",
      "20\n",
      "20\n",
      "20\n",
      "20\n",
      "20\n",
      "20\n",
      "20\n",
      "20\n",
      "20\n",
      "20\n",
      "20\n",
      "20\n",
      "20\n",
      "20\n",
      "20\n",
      "20\n",
      "20\n",
      "20\n",
      "20\n",
      "20\n",
      "20\n",
      "20\n",
      "20\n",
      "20\n",
      "20\n",
      "20\n",
      "20\n",
      "20\n",
      "20\n",
      "20\n",
      "20\n",
      "20\n",
      "20\n",
      "20\n",
      "20\n",
      "20\n",
      "20\n",
      "20\n",
      "20\n",
      "20\n",
      "20\n",
      "20\n",
      "20\n",
      "20\n",
      "20\n",
      "20\n",
      "20\n",
      "20\n",
      "20\n",
      "20\n",
      "20\n",
      "20\n",
      "20\n",
      "20\n",
      "20\n",
      "20\n",
      "20\n",
      "20\n",
      "20\n",
      "20\n",
      "20\n",
      "20\n",
      "20\n",
      "20\n",
      "20\n",
      "20\n",
      "20\n",
      "20\n",
      "20\n",
      "20\n",
      "20\n",
      "20\n",
      "20\n",
      "20\n",
      "20\n",
      "20\n",
      "20\n",
      "20\n",
      "20\n",
      "20\n",
      "20\n",
      "20\n",
      "20\n"
     ]
    }
   ],
   "source": [
    "# テストデータの最後のデータポイントを取得\n",
    "last_data_point = torch.tensor(test[-1])\n",
    "last_data_point = last_data_point.reshape(1, window_size, feature_size)\n",
    "last_data_point = last_data_point.to(device).float()\n",
    "\n",
    "n_future=300\n",
    "\n",
    "for k in range(n_future):\n",
    "    # LSTMモデルを使用して、未来の値を予測\n",
    "    y = net(last_data_point)\n",
    "    predicted_test_plot.append(y[0].item())\n",
    "\n",
    "    # 予測された値をテストデータに追加\n",
    "    last_data_point = torch.cat((last_data_point[:, 1:, :], y.reshape(1, 1, 1)), axis=1)\n",
    "    print(len(last_data_point[0]))\n",
    "# 予測された値を出力"
   ]
  },
  {
   "cell_type": "code",
   "execution_count": 155,
   "metadata": {},
   "outputs": [
    {
     "data": {
      "text/plain": [
       "array([[0.66022006],\n",
       "       [0.64629877],\n",
       "       [0.62779259],\n",
       "       ...,\n",
       "       [0.85795265],\n",
       "       [0.80576857],\n",
       "       [0.79984994]])"
      ]
     },
     "execution_count": 155,
     "metadata": {},
     "output_type": "execute_result"
    }
   ],
   "source": [
    "df_test"
   ]
  },
  {
   "cell_type": "code",
   "execution_count": 156,
   "metadata": {},
   "outputs": [
    {
     "data": {
      "image/png": "[encoded data removed]",
      "text/plain": [
       "<Figure size 432x288 with 1 Axes>"
      ]
     },
     "metadata": {
      "needs_background": "light"
     },
     "output_type": "display_data"
    }
   ],
   "source": [
    "plt.plot(range(len(df_test)), df_test[:, 0], label='Correct')\n",
    "plt.plot(range(window_size, window_size+len(predicted_test_plot)), predicted_test_plot, label='Test result')\n",
    "plt.legend()\n",
    "plt.show()"
   ]
  },
  {
   "cell_type": "code",
   "execution_count": 157,
   "metadata": {},
   "outputs": [
    {
     "data": {
      "text/plain": [
       "[<matplotlib.lines.Line2D at 0x23f234bd5b0>]"
      ]
     },
     "execution_count": 157,
     "metadata": {},
     "output_type": "execute_result"
    },
    {
     "data": {
      "image/png": "[encoded data removed]",
      "text/plain": [
       "<Figure size 432x288 with 1 Axes>"
      ]
     },
     "metadata": {
      "needs_background": "light"
     },
     "output_type": "display_data"
    }
   ],
   "source": [
    "plt.plot(range(len(df_test)), df_test[:, 0], label='Correct')"
   ]
  },
  {
   "cell_type": "code",
   "execution_count": 88,
   "metadata": {},
   "outputs": [
    {
     "data": {
      "text/plain": [
       "76"
      ]
     },
     "execution_count": 88,
     "metadata": {},
     "output_type": "execute_result"
    }
   ],
   "source": [
    "window_size+len(predicted_test_plot)"
   ]
  },
  {
   "cell_type": "code",
   "execution_count": 123,
   "metadata": {},
   "outputs": [
    {
     "name": "stdout",
     "output_type": "stream",
     "text": [
      "20\n",
      "20\n",
      "20\n",
      "20\n",
      "20\n",
      "20\n",
      "20\n",
      "20\n",
      "20\n",
      "20\n",
      "20\n",
      "20\n",
      "20\n",
      "20\n",
      "20\n",
      "20\n",
      "20\n",
      "20\n",
      "20\n",
      "20\n",
      "20\n",
      "20\n",
      "20\n",
      "20\n",
      "20\n",
      "20\n",
      "20\n",
      "20\n",
      "20\n",
      "20\n",
      "20\n",
      "20\n",
      "20\n",
      "20\n",
      "20\n",
      "20\n",
      "20\n",
      "20\n",
      "20\n",
      "20\n"
     ]
    }
   ],
   "source": [
    "predicted_test_plot = []\n",
    "net.eval()\n",
    "\n",
    "# テストデータの最後のデータポイントを取得\n",
    "last_data_point = torch.tensor(test[0])\n",
    "last_data_point = last_data_point.reshape(1, window_size, feature_size)\n",
    "last_data_point = last_data_point.to(device).float()\n",
    "\n",
    "n_future=40\n",
    "\n",
    "for k in range(n_future):\n",
    "    # LSTMモデルを使用して、未来の値を予測\n",
    "    y = net(last_data_point)\n",
    "    predicted_test_plot.append(y[0].item())\n",
    "\n",
    "    # 予測された値をテストデータに追加\n",
    "    last_data_point = torch.cat((last_data_point[:, 1:, :], y.reshape(1, 1, 1)), axis=1)\n",
    "    print(len(last_data_point[0]))\n",
    "# 予測された値を出力"
   ]
  },
  {
   "cell_type": "code",
   "execution_count": 125,
   "metadata": {},
   "outputs": [
    {
     "data": {
      "image/png": "[encoded data removed]",
      "text/plain": [
       "<Figure size 432x288 with 1 Axes>"
      ]
     },
     "metadata": {
      "needs_background": "light"
     },
     "output_type": "display_data"
    }
   ],
   "source": [
    "plt.plot(range(len(df_test)), df_test[:, 0], label='Correct')\n",
    "plt.plot(range(window_size, window_size+len(predicted_test_plot)), predicted_test_plot, label='Test result')\n",
    "plt.legend()\n",
    "plt.show()"
   ]
  },
  {
   "cell_type": "code",
   "execution_count": 124,
   "metadata": {},
   "outputs": [
    {
     "data": {
      "text/plain": [
       "[<matplotlib.lines.Line2D at 0x23f21e17550>]"
      ]
     },
     "execution_count": 124,
     "metadata": {},
     "output_type": "execute_result"
    },
    {
     "data": {
      "image/png": "[encoded data removed]",
      "text/plain": [
       "<Figure size 432x288 with 1 Axes>"
      ]
     },
     "metadata": {
      "needs_background": "light"
     },
     "output_type": "display_data"
    }
   ],
   "source": [
    "x = range(n_future)\n",
    "y = predicted_test_plot\n",
    "plt.plot(x, y, label='Correct')"
   ]
  },
  {
   "cell_type": "code",
   "execution_count": null,
   "metadata": {},
   "outputs": [],
   "source": []
  }
 ],
 "metadata": {
  "kernelspec": {
   "display_name": "Python 3 (ipykernel)",
   "language": "python",
   "name": "python3"
  },
  "language_info": {
   "codemirror_mode": {
    "name": "ipython",
    "version": 3
   },
   "file_extension": ".py",
   "mimetype": "text/x-python",
   "name": "python",
   "nbconvert_exporter": "python",
   "pygments_lexer": "ipython3",
   "version": "3.9.12"
  }
 },
 "nbformat": 4,
 "nbformat_minor": 2
}
