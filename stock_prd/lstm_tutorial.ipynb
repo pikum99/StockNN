{
 "cells": [
  {
   "cell_type": "code",
   "execution_count": 1,
   "metadata": {},
   "outputs": [],
   "source": [
    "# ライブラリのインポート\n",
    "import numpy as np\n",
    "import pandas as pd\n",
    "from matplotlib import pyplot as plt\n",
    "\n",
    "from sklearn.preprocessing import MinMaxScaler\n",
    "from sklearn.model_selection import train_test_split\n",
    "\n",
    "import torch\n",
    "from torch import nn,optim\n",
    "from torch.utils.data import DataLoader, TensorDataset, Dataset\n",
    "from torchvision import transforms\n",
    "from torchinfo import summary\n",
    "from torch.autograd import Variable"
   ]
  },
  {
   "cell_type": "markdown",
   "metadata": {},
   "source": [
    "# https://disassemble-channel.com/lstm-multivariate-time-series/\n",
    "を参考にやっていくやつ"
   ]
  },
  {
   "cell_type": "code",
   "execution_count": 2,
   "metadata": {},
   "outputs": [
    {
     "data": {
      "text/html": [
       "<div>\n",
       "<style scoped>\n",
       "    .dataframe tbody tr th:only-of-type {\n",
       "        vertical-align: middle;\n",
       "    }\n",
       "\n",
       "    .dataframe tbody tr th {\n",
       "        vertical-align: top;\n",
       "    }\n",
       "\n",
       "    .dataframe thead th {\n",
       "        text-align: right;\n",
       "    }\n",
       "</style>\n",
       "<table border=\"1\" class=\"dataframe\">\n",
       "  <thead>\n",
       "    <tr style=\"text-align: right;\">\n",
       "      <th></th>\n",
       "      <th>cloud</th>\n",
       "      <th>wind</th>\n",
       "      <th>ave_tmp</th>\n",
       "      <th>max_tmp</th>\n",
       "      <th>min_tmp</th>\n",
       "      <th>rain</th>\n",
       "    </tr>\n",
       "  </thead>\n",
       "  <tbody>\n",
       "    <tr>\n",
       "      <th>2018-05-17</th>\n",
       "      <td>9.0</td>\n",
       "      <td>3.7</td>\n",
       "      <td>24.0</td>\n",
       "      <td>28.4</td>\n",
       "      <td>21.4</td>\n",
       "      <td>0.0</td>\n",
       "    </tr>\n",
       "    <tr>\n",
       "      <th>2018-05-18</th>\n",
       "      <td>7.8</td>\n",
       "      <td>3.0</td>\n",
       "      <td>23.4</td>\n",
       "      <td>27.1</td>\n",
       "      <td>20.0</td>\n",
       "      <td>0.0</td>\n",
       "    </tr>\n",
       "    <tr>\n",
       "      <th>2018-05-19</th>\n",
       "      <td>7.5</td>\n",
       "      <td>3.9</td>\n",
       "      <td>21.5</td>\n",
       "      <td>26.3</td>\n",
       "      <td>15.3</td>\n",
       "      <td>0.0</td>\n",
       "    </tr>\n",
       "    <tr>\n",
       "      <th>2018-05-20</th>\n",
       "      <td>4.3</td>\n",
       "      <td>3.5</td>\n",
       "      <td>16.8</td>\n",
       "      <td>22.1</td>\n",
       "      <td>13.1</td>\n",
       "      <td>0.0</td>\n",
       "    </tr>\n",
       "    <tr>\n",
       "      <th>2018-05-21</th>\n",
       "      <td>10.0</td>\n",
       "      <td>2.4</td>\n",
       "      <td>20.3</td>\n",
       "      <td>27.2</td>\n",
       "      <td>13.7</td>\n",
       "      <td>0.0</td>\n",
       "    </tr>\n",
       "    <tr>\n",
       "      <th>...</th>\n",
       "      <td>...</td>\n",
       "      <td>...</td>\n",
       "      <td>...</td>\n",
       "      <td>...</td>\n",
       "      <td>...</td>\n",
       "      <td>...</td>\n",
       "    </tr>\n",
       "    <tr>\n",
       "      <th>2023-05-13</th>\n",
       "      <td>10.0</td>\n",
       "      <td>3.0</td>\n",
       "      <td>16.7</td>\n",
       "      <td>18.1</td>\n",
       "      <td>15.4</td>\n",
       "      <td>5.0</td>\n",
       "    </tr>\n",
       "    <tr>\n",
       "      <th>2023-05-14</th>\n",
       "      <td>10.0</td>\n",
       "      <td>3.6</td>\n",
       "      <td>16.9</td>\n",
       "      <td>21.2</td>\n",
       "      <td>14.3</td>\n",
       "      <td>3.0</td>\n",
       "    </tr>\n",
       "    <tr>\n",
       "      <th>2023-05-15</th>\n",
       "      <td>9.8</td>\n",
       "      <td>2.0</td>\n",
       "      <td>16.1</td>\n",
       "      <td>18.1</td>\n",
       "      <td>14.6</td>\n",
       "      <td>15.5</td>\n",
       "    </tr>\n",
       "    <tr>\n",
       "      <th>2023-05-16</th>\n",
       "      <td>2.8</td>\n",
       "      <td>2.6</td>\n",
       "      <td>19.9</td>\n",
       "      <td>27.5</td>\n",
       "      <td>13.1</td>\n",
       "      <td>0.0</td>\n",
       "    </tr>\n",
       "    <tr>\n",
       "      <th>2023-05-17</th>\n",
       "      <td>0.0</td>\n",
       "      <td>2.3</td>\n",
       "      <td>22.8</td>\n",
       "      <td>31.6</td>\n",
       "      <td>15.1</td>\n",
       "      <td>0.0</td>\n",
       "    </tr>\n",
       "  </tbody>\n",
       "</table>\n",
       "<p>1827 rows × 6 columns</p>\n",
       "</div>"
      ],
      "text/plain": [
       "            cloud  wind  ave_tmp  max_tmp  min_tmp  rain\n",
       "2018-05-17    9.0   3.7     24.0     28.4     21.4   0.0\n",
       "2018-05-18    7.8   3.0     23.4     27.1     20.0   0.0\n",
       "2018-05-19    7.5   3.9     21.5     26.3     15.3   0.0\n",
       "2018-05-20    4.3   3.5     16.8     22.1     13.1   0.0\n",
       "2018-05-21   10.0   2.4     20.3     27.2     13.7   0.0\n",
       "...           ...   ...      ...      ...      ...   ...\n",
       "2023-05-13   10.0   3.0     16.7     18.1     15.4   5.0\n",
       "2023-05-14   10.0   3.6     16.9     21.2     14.3   3.0\n",
       "2023-05-15    9.8   2.0     16.1     18.1     14.6  15.5\n",
       "2023-05-16    2.8   2.6     19.9     27.5     13.1   0.0\n",
       "2023-05-17    0.0   2.3     22.8     31.6     15.1   0.0\n",
       "\n",
       "[1827 rows x 6 columns]"
      ]
     },
     "execution_count": 2,
     "metadata": {},
     "output_type": "execute_result"
    }
   ],
   "source": [
    "df = pd.read_csv(\"https://raw.githubusercontent.com/aweglteo/tokyo_weather_data/main/data.csv\", parse_dates=True, index_col=0)\n",
    "df"
   ]
  },
  {
   "cell_type": "code",
   "execution_count": 3,
   "metadata": {},
   "outputs": [
    {
     "data": {
      "text/plain": [
       "array([[0.9       , 0.40322581, 0.74769231, 0.70879121, 0.778125  ,\n",
       "        0.        ],\n",
       "       [0.78      , 0.29032258, 0.72923077, 0.67307692, 0.734375  ,\n",
       "        0.        ],\n",
       "       [0.75      , 0.43548387, 0.67076923, 0.6510989 , 0.5875    ,\n",
       "        0.        ],\n",
       "       ...,\n",
       "       [0.98      , 0.12903226, 0.50461538, 0.42582418, 0.565625  ,\n",
       "        0.07398568],\n",
       "       [0.28      , 0.22580645, 0.62153846, 0.68406593, 0.51875   ,\n",
       "        0.        ],\n",
       "       [0.        , 0.17741935, 0.71076923, 0.7967033 , 0.58125   ,\n",
       "        0.        ]])"
      ]
     },
     "execution_count": 3,
     "metadata": {},
     "output_type": "execute_result"
    }
   ],
   "source": [
    "scaler = MinMaxScaler()\n",
    "df_scaled = scaler.fit_transform(df[['cloud', 'wind', 'ave_tmp', 'max_tmp', 'min_tmp', 'rain']])\n",
    "df_scaled"
   ]
  },
  {
   "cell_type": "code",
   "execution_count": 4,
   "metadata": {},
   "outputs": [],
   "source": [
    "# テスト用と訓練用で分割\n",
    "df_train, df_test = train_test_split(df_scaled, test_size=0.3, shuffle=False)\n",
    "\n",
    "window_size = 20\n",
    "n_data = len(df) - window_size + 1 -1\n",
    "\n",
    "n_dim = df_train.shape[1]\n",
    "n_train = len(df_train) - window_size + 1 - 1\n",
    "n_test = len(df_test) - window_size + 1 - 1\n",
    "\n",
    "# 正解データを準備\n",
    "train = np.zeros((n_train, window_size, n_dim))\n",
    "train_labels = np.zeros((n_train, n_dim))\n",
    "for i in range(n_train):\n",
    "    train[i] = df_train[i:i+window_size]\n",
    "    train_labels[i] = df_train[i+window_size]\n",
    "\n",
    "# テストデータを準備\n",
    "test = np.zeros((n_test, window_size, n_dim))\n",
    "test_labels = np.zeros((n_test, n_dim))\n",
    "for i in range(n_test):\n",
    "    test[i] = df_test[i:i+window_size]\n",
    "    test_labels[i] = df_test[i+window_size]\n",
    "\n",
    "# 訓練ラベルの用意。今回は平均気温を予測する\n",
    "train_labels =train_labels[:, 2]"
   ]
  },
  {
   "cell_type": "code",
   "execution_count": 5,
   "metadata": {},
   "outputs": [],
   "source": [
    "train = torch.tensor(train, dtype=torch.float)\n",
    "labels = torch.tensor(train_labels, dtype=torch.float)\n",
    "dataset = torch.utils.data.TensorDataset(train, labels)\n",
    "train_loader = DataLoader(dataset, batch_size=4, shuffle=True)"
   ]
  },
  {
   "cell_type": "code",
   "execution_count": 10,
   "metadata": {},
   "outputs": [],
   "source": [
    "# 多変量を入力して、１変数の予測結果を返すLSTNモデル.\n",
    "class MyLSTM(nn.Module):\n",
    "    def __init__(self, feature_size, hidden_dim, n_layers):\n",
    "        super(MyLSTM, self).__init__()\n",
    "\n",
    "        self.feature_size = feature_size\n",
    "        self.hidden_dim = hidden_dim\n",
    "        self.n_layers = n_layers\n",
    "        self.n_output = 1\n",
    "\n",
    "        self.lstm = nn.LSTM(feature_size, hidden_dim, n_layers, batch_first=True)\n",
    "        self.fc = nn.Linear(hidden_dim, self.n_output)\n",
    "\n",
    "    def forward(self, x):\n",
    "        h_0 = torch.zeros(self.n_layers, x.size(0), self.hidden_dim).to(device)\n",
    "        c_0 = torch.zeros(self.n_layers, x.size(0), self.hidden_dim).to(device)\n",
    "        \n",
    "        output, (hn, cn) = self.lstm(x, (h_0, c_0)) # (input, hidden, and internal state)\n",
    "        hn = hn.view(-1, self.hidden_dim) \n",
    "        y = self.fc(hn)\n",
    "        y = y.reshape(self.n_output, -1)\n",
    "\n",
    "        return y\n",
    "\n",
    "\n",
    "feature_size  = 6\n",
    "n_hidden  = 64\n",
    "n_layers  = 1\n",
    "device = torch.device('cuda' if torch.cuda.is_available() else 'cpu')\n",
    "net = MyLSTM(feature_size, n_hidden, n_layers).to(device)"
   ]
  },
  {
   "cell_type": "code",
   "execution_count": 11,
   "metadata": {},
   "outputs": [
    {
     "data": {
      "text/plain": [
       "=================================================================\n",
       "Layer (type:depth-idx)                   Param #\n",
       "=================================================================\n",
       "MyLSTM                                   --\n",
       "├─LSTM: 1-1                              18,432\n",
       "├─Linear: 1-2                            65\n",
       "=================================================================\n",
       "Total params: 18,497\n",
       "Trainable params: 18,497\n",
       "Non-trainable params: 0\n",
       "================================================================="
      ]
     },
     "execution_count": 11,
     "metadata": {},
     "output_type": "execute_result"
    }
   ],
   "source": [
    "summary(net)"
   ]
  },
  {
   "cell_type": "code",
   "execution_count": 12,
   "metadata": {},
   "outputs": [
    {
     "name": "stdout",
     "output_type": "stream",
     "text": [
      "run with cuda\n"
     ]
    },
    {
     "data": {
      "text/plain": [
       "MyLSTM(\n",
       "  (lstm): LSTM(6, 64, batch_first=True)\n",
       "  (fc): Linear(in_features=64, out_features=1, bias=True)\n",
       ")"
      ]
     },
     "execution_count": 12,
     "metadata": {},
     "output_type": "execute_result"
    }
   ],
   "source": [
    "func_loss = nn.MSELoss()\n",
    "optimizer = optim.Adam(net.parameters(), lr=0.001)\n",
    "loss_history = []\n",
    "\n",
    "print(f\"run with {device}\")\n",
    "epochs = 200\n",
    "\n",
    "net.to(device)"
   ]
  },
  {
   "cell_type": "code",
   "execution_count": 13,
   "metadata": {},
   "outputs": [
    {
     "name": "stderr",
     "output_type": "stream",
     "text": [
      "C:\\Users\\drryu\\anaconda3\\lib\\site-packages\\torch\\nn\\modules\\loss.py:536: UserWarning: Using a target size (torch.Size([4])) that is different to the input size (torch.Size([1, 4])). This will likely lead to incorrect results due to broadcasting. Please ensure they have the same size.\n",
      "  return F.mse_loss(input, target, reduction=self.reduction)\n",
      "C:\\Users\\drryu\\anaconda3\\lib\\site-packages\\torch\\nn\\modules\\loss.py:536: UserWarning: Using a target size (torch.Size([2])) that is different to the input size (torch.Size([1, 2])). This will likely lead to incorrect results due to broadcasting. Please ensure they have the same size.\n",
      "  return F.mse_loss(input, target, reduction=self.reduction)\n"
     ]
    },
    {
     "name": "stdout",
     "output_type": "stream",
     "text": [
      "Epoch: 0 Loss_Train: 0.025464073266272272\n",
      "Epoch: 1 Loss_Train: 0.005945993493503285\n",
      "Epoch: 2 Loss_Train: 0.005523430860332502\n",
      "Epoch: 3 Loss_Train: 0.00491882666401724\n",
      "Epoch: 4 Loss_Train: 0.0046603025212543945\n",
      "Epoch: 5 Loss_Train: 0.004488793900698453\n",
      "Epoch: 6 Loss_Train: 0.004333870101878087\n",
      "Epoch: 7 Loss_Train: 0.004185104495217462\n",
      "Epoch: 8 Loss_Train: 0.00403946091669024\n",
      "Epoch: 9 Loss_Train: 0.004088354502556964\n",
      "Epoch: 10 Loss_Train: 0.004195399012690085\n",
      "Epoch: 11 Loss_Train: 0.003881661823764998\n",
      "Epoch: 12 Loss_Train: 0.0038284551938265812\n",
      "Epoch: 13 Loss_Train: 0.0038754336650729075\n",
      "Epoch: 14 Loss_Train: 0.003957668563678107\n",
      "Epoch: 15 Loss_Train: 0.003789008840584078\n",
      "Epoch: 16 Loss_Train: 0.0038060608071862675\n",
      "Epoch: 17 Loss_Train: 0.0038766175042606876\n",
      "Epoch: 18 Loss_Train: 0.0038241104561916833\n",
      "Epoch: 19 Loss_Train: 0.003697933172825576\n",
      "Epoch: 20 Loss_Train: 0.0037987022762074104\n",
      "Epoch: 21 Loss_Train: 0.0038305248446126898\n",
      "Epoch: 22 Loss_Train: 0.003651777453584752\n",
      "Epoch: 23 Loss_Train: 0.0036597301019586637\n",
      "Epoch: 24 Loss_Train: 0.003749443460643912\n",
      "Epoch: 25 Loss_Train: 0.003677276372036431\n",
      "Epoch: 26 Loss_Train: 0.003799983750038322\n",
      "Epoch: 27 Loss_Train: 0.003606116172444932\n",
      "Epoch: 28 Loss_Train: 0.003650149742292891\n",
      "Epoch: 29 Loss_Train: 0.0036736360093599946\n",
      "Epoch: 30 Loss_Train: 0.0036505169310470276\n",
      "Epoch: 31 Loss_Train: 0.0035521989492403845\n",
      "Epoch: 32 Loss_Train: 0.0036255708062699773\n",
      "Epoch: 33 Loss_Train: 0.0036039395854690127\n",
      "Epoch: 34 Loss_Train: 0.0036802948318562278\n",
      "Epoch: 35 Loss_Train: 0.0035254090938935173\n",
      "Epoch: 36 Loss_Train: 0.003516075243094256\n",
      "Epoch: 37 Loss_Train: 0.0034816223138477652\n",
      "Epoch: 38 Loss_Train: 0.00359770583031821\n",
      "Epoch: 39 Loss_Train: 0.0035572708448550353\n",
      "Epoch: 40 Loss_Train: 0.0034593060087423685\n",
      "Epoch: 41 Loss_Train: 0.0034723082459383894\n",
      "Epoch: 42 Loss_Train: 0.0034982919066567863\n",
      "Epoch: 43 Loss_Train: 0.003448633741428484\n",
      "Epoch: 44 Loss_Train: 0.003521319143536467\n",
      "Epoch: 45 Loss_Train: 0.0033845336906822574\n",
      "Epoch: 46 Loss_Train: 0.0034966670464315927\n",
      "Epoch: 47 Loss_Train: 0.0034584241772083464\n",
      "Epoch: 48 Loss_Train: 0.0034854593537313613\n",
      "Epoch: 49 Loss_Train: 0.0034613677648834824\n",
      "Epoch: 50 Loss_Train: 0.0033890500099727117\n",
      "Epoch: 51 Loss_Train: 0.0033737501119344778\n",
      "Epoch: 52 Loss_Train: 0.003408659809053735\n",
      "Epoch: 53 Loss_Train: 0.0033853285243071337\n",
      "Epoch: 54 Loss_Train: 0.0033974520461578367\n",
      "Epoch: 55 Loss_Train: 0.003256153041094501\n",
      "Epoch: 56 Loss_Train: 0.0032723576738221925\n",
      "Epoch: 57 Loss_Train: 0.003220924288625755\n",
      "Epoch: 58 Loss_Train: 0.0033122412558960995\n",
      "Epoch: 59 Loss_Train: 0.0032137803956940178\n",
      "Epoch: 60 Loss_Train: 0.0031773314747538064\n",
      "Epoch: 61 Loss_Train: 0.0032780710475644953\n",
      "Epoch: 62 Loss_Train: 0.0031271698871268966\n",
      "Epoch: 63 Loss_Train: 0.003092763152265448\n",
      "Epoch: 64 Loss_Train: 0.0031678284810844897\n",
      "Epoch: 65 Loss_Train: 0.0030512553667658864\n",
      "Epoch: 66 Loss_Train: 0.0030957761544471844\n",
      "Epoch: 67 Loss_Train: 0.0030772209808457686\n",
      "Epoch: 68 Loss_Train: 0.0030331479161326397\n",
      "Epoch: 69 Loss_Train: 0.002933965319636396\n",
      "Epoch: 70 Loss_Train: 0.003085024901670367\n",
      "Epoch: 71 Loss_Train: 0.002917501238675507\n",
      "Epoch: 72 Loss_Train: 0.002943218533769213\n",
      "Epoch: 73 Loss_Train: 0.0028571416649414\n",
      "Epoch: 74 Loss_Train: 0.0029065753374385487\n",
      "Epoch: 75 Loss_Train: 0.002849955692571322\n",
      "Epoch: 76 Loss_Train: 0.0028475302024393357\n",
      "Epoch: 77 Loss_Train: 0.002828411702186771\n",
      "Epoch: 78 Loss_Train: 0.0027911530195509956\n",
      "Epoch: 79 Loss_Train: 0.0028284378809783246\n",
      "Epoch: 80 Loss_Train: 0.0027684767247780065\n",
      "Epoch: 81 Loss_Train: 0.0027035208566332353\n",
      "Epoch: 82 Loss_Train: 0.0027183401105474563\n",
      "Epoch: 83 Loss_Train: 0.0026986053220868582\n",
      "Epoch: 84 Loss_Train: 0.0026729505245817737\n",
      "Epoch: 85 Loss_Train: 0.0026009884887672444\n",
      "Epoch: 86 Loss_Train: 0.002574299761077522\n",
      "Epoch: 87 Loss_Train: 0.0024757679449745437\n",
      "Epoch: 88 Loss_Train: 0.002641752569419738\n",
      "Epoch: 89 Loss_Train: 0.002545558618629233\n",
      "Epoch: 90 Loss_Train: 0.0025445870611812485\n",
      "Epoch: 91 Loss_Train: 0.002485152243244802\n",
      "Epoch: 92 Loss_Train: 0.0024241126429842552\n",
      "Epoch: 93 Loss_Train: 0.002415217944103966\n",
      "Epoch: 94 Loss_Train: 0.0024370371788603414\n",
      "Epoch: 95 Loss_Train: 0.002420232588811482\n",
      "Epoch: 96 Loss_Train: 0.002399878499365138\n",
      "Epoch: 97 Loss_Train: 0.0023436167285826597\n",
      "Epoch: 98 Loss_Train: 0.00236580886666493\n",
      "Epoch: 99 Loss_Train: 0.0023820557441684375\n",
      "Epoch: 100 Loss_Train: 0.0022829725410528703\n",
      "Epoch: 101 Loss_Train: 0.002234383533632065\n",
      "Epoch: 102 Loss_Train: 0.0022408360816096695\n",
      "Epoch: 103 Loss_Train: 0.002173739392171791\n",
      "Epoch: 104 Loss_Train: 0.002241892082857371\n",
      "Epoch: 105 Loss_Train: 0.0021017114538110383\n",
      "Epoch: 106 Loss_Train: 0.002071922353836329\n",
      "Epoch: 107 Loss_Train: 0.002066120374319513\n",
      "Epoch: 108 Loss_Train: 0.0020416086088747734\n",
      "Epoch: 109 Loss_Train: 0.0020384941395374\n",
      "Epoch: 110 Loss_Train: 0.0019822986828835886\n",
      "Epoch: 111 Loss_Train: 0.0019337742002717856\n",
      "Epoch: 112 Loss_Train: 0.0019152871503643433\n",
      "Epoch: 113 Loss_Train: 0.0019026175106456134\n",
      "Epoch: 114 Loss_Train: 0.0018629496568691036\n",
      "Epoch: 115 Loss_Train: 0.0018389059945923417\n",
      "Epoch: 116 Loss_Train: 0.0018258163496197779\n",
      "Epoch: 117 Loss_Train: 0.0017637147623833106\n",
      "Epoch: 118 Loss_Train: 0.001731645726399692\n",
      "Epoch: 119 Loss_Train: 0.001655513813267813\n",
      "Epoch: 120 Loss_Train: 0.001669943599779164\n",
      "Epoch: 121 Loss_Train: 0.001660262770134963\n",
      "Epoch: 122 Loss_Train: 0.0017003565279342832\n",
      "Epoch: 123 Loss_Train: 0.001632877415781083\n",
      "Epoch: 124 Loss_Train: 0.001580145415752509\n",
      "Epoch: 125 Loss_Train: 0.001507362576457025\n",
      "Epoch: 126 Loss_Train: 0.0014464820618741215\n",
      "Epoch: 127 Loss_Train: 0.0014686859176609212\n",
      "Epoch: 128 Loss_Train: 0.0014329124612332735\n",
      "Epoch: 129 Loss_Train: 0.0014531140580878682\n",
      "Epoch: 130 Loss_Train: 0.0013087538093266573\n",
      "Epoch: 131 Loss_Train: 0.0013328163070827797\n",
      "Epoch: 132 Loss_Train: 0.0013396916128205327\n",
      "Epoch: 133 Loss_Train: 0.0012802549098278322\n",
      "Epoch: 134 Loss_Train: 0.0012693147149317185\n",
      "Epoch: 135 Loss_Train: 0.0013004098912504213\n",
      "Epoch: 136 Loss_Train: 0.001217988674392155\n",
      "Epoch: 137 Loss_Train: 0.0011583395872707663\n",
      "Epoch: 138 Loss_Train: 0.00109642576971387\n",
      "Epoch: 139 Loss_Train: 0.0011521688649072386\n",
      "Epoch: 140 Loss_Train: 0.0011175613644664982\n",
      "Epoch: 141 Loss_Train: 0.0010816589137931938\n",
      "Epoch: 142 Loss_Train: 0.0010857722844414797\n",
      "Epoch: 143 Loss_Train: 0.0010789365935731136\n",
      "Epoch: 144 Loss_Train: 0.001051719031169168\n",
      "Epoch: 145 Loss_Train: 0.0009290436965192573\n",
      "Epoch: 146 Loss_Train: 0.0010386154123388845\n",
      "Epoch: 147 Loss_Train: 0.0009730935216447549\n",
      "Epoch: 148 Loss_Train: 0.0009176433911119284\n",
      "Epoch: 149 Loss_Train: 0.0008972476700335623\n",
      "Epoch: 150 Loss_Train: 0.0008866932887492964\n",
      "Epoch: 151 Loss_Train: 0.0009271816876496323\n",
      "Epoch: 152 Loss_Train: 0.0009191512520792747\n",
      "Epoch: 153 Loss_Train: 0.0007951587885766039\n",
      "Epoch: 154 Loss_Train: 0.000786484801372151\n",
      "Epoch: 155 Loss_Train: 0.0007839385026027375\n",
      "Epoch: 156 Loss_Train: 0.0007842274125857603\n",
      "Epoch: 157 Loss_Train: 0.0006851134956089062\n",
      "Epoch: 158 Loss_Train: 0.000781226424141861\n",
      "Epoch: 159 Loss_Train: 0.0007056959655730882\n",
      "Epoch: 160 Loss_Train: 0.000739690852603258\n",
      "Epoch: 161 Loss_Train: 0.0006713861570056502\n",
      "Epoch: 162 Loss_Train: 0.0006179705391130281\n",
      "Epoch: 163 Loss_Train: 0.0006220331433319694\n",
      "Epoch: 164 Loss_Train: 0.0006143041835139951\n",
      "Epoch: 165 Loss_Train: 0.0006393912857184039\n",
      "Epoch: 166 Loss_Train: 0.0005399807009419578\n",
      "Epoch: 167 Loss_Train: 0.0006076635688302866\n",
      "Epoch: 168 Loss_Train: 0.0006057992498643303\n",
      "Epoch: 169 Loss_Train: 0.0005249837683044866\n",
      "Epoch: 170 Loss_Train: 0.0005184631514162498\n",
      "Epoch: 171 Loss_Train: 0.0004954198702040547\n",
      "Epoch: 172 Loss_Train: 0.0005636465515347063\n",
      "Epoch: 173 Loss_Train: 0.0004913848791826269\n",
      "Epoch: 174 Loss_Train: 0.0004508064839221391\n",
      "Epoch: 175 Loss_Train: 0.00048546749767916075\n",
      "Epoch: 176 Loss_Train: 0.0004675399028403465\n",
      "Epoch: 177 Loss_Train: 0.0004444892795286178\n",
      "Epoch: 178 Loss_Train: 0.00047367753524870044\n",
      "Epoch: 179 Loss_Train: 0.00042659468846746704\n",
      "Epoch: 180 Loss_Train: 0.0004069467929949742\n",
      "Epoch: 181 Loss_Train: 0.00045279070433198716\n",
      "Epoch: 182 Loss_Train: 0.00042549821279415427\n",
      "Epoch: 183 Loss_Train: 0.000457732675062693\n",
      "Epoch: 184 Loss_Train: 0.00037583415020875805\n",
      "Epoch: 185 Loss_Train: 0.00033123324639803734\n",
      "Epoch: 186 Loss_Train: 0.0004269901647401437\n",
      "Epoch: 187 Loss_Train: 0.0004932411589976482\n",
      "Epoch: 188 Loss_Train: 0.0003614596883308545\n",
      "Epoch: 189 Loss_Train: 0.0004261570267281347\n",
      "Epoch: 190 Loss_Train: 0.00033318199277836976\n",
      "Epoch: 191 Loss_Train: 0.00037845076626076156\n",
      "Epoch: 192 Loss_Train: 0.0003329904826127209\n",
      "Epoch: 193 Loss_Train: 0.0003004701653682989\n",
      "Epoch: 194 Loss_Train: 0.00031613380895809286\n",
      "Epoch: 195 Loss_Train: 0.0003084817519699018\n",
      "Epoch: 196 Loss_Train: 0.0003694092684218915\n",
      "Epoch: 197 Loss_Train: 0.0003305488336832602\n",
      "Epoch: 198 Loss_Train: 0.000313732504308439\n",
      "Epoch: 199 Loss_Train: 0.00039484664893756245\n",
      "Epoch: 200 Loss_Train: 0.00032015910188160237\n"
     ]
    }
   ],
   "source": [
    "for i in range(epochs+1):\n",
    "    net.train()\n",
    "    tmp_loss = 0.0\n",
    "    for j, (x, t) in enumerate(train_loader):\n",
    "        x = x.to(device)\n",
    "        optimizer.zero_grad()\n",
    "        y = net(x) \n",
    "        loss = func_loss(y, t)\n",
    "        loss.backward()\n",
    "        optimizer.step() \n",
    "        tmp_loss += loss.item()\n",
    "    tmp_loss /= j+1\n",
    "    loss_history.append(tmp_loss)\n",
    "    print('Epoch:', i, 'Loss_Train:', tmp_loss)"
   ]
  },
  {
   "cell_type": "code",
   "execution_count": 14,
   "metadata": {},
   "outputs": [
    {
     "data": {
      "image/png": "[encoded data removed]",
      "text/plain": [
       "<Figure size 432x288 with 1 Axes>"
      ]
     },
     "metadata": {
      "needs_background": "light"
     },
     "output_type": "display_data"
    }
   ],
   "source": [
    "plt.plot(range(len(loss_history)), loss_history, label='train')\n",
    "plt.legend()\n",
    "\n",
    "plt.xlabel(\"epochs\")\n",
    "plt.ylabel(\"loss\")\n",
    "plt.show()"
   ]
  },
  {
   "cell_type": "code",
   "execution_count": 18,
   "metadata": {},
   "outputs": [
    {
     "name": "stderr",
     "output_type": "stream",
     "text": [
      "C:\\Users\\drryu\\AppData\\Local\\Temp\\ipykernel_7944\\1814804422.py:5: UserWarning: To copy construct from a tensor, it is recommended to use sourceTensor.clone().detach() or sourceTensor.clone().detach().requires_grad_(True), rather than torch.tensor(sourceTensor).\n",
      "  x = torch.tensor(train[k])\n"
     ]
    }
   ],
   "source": [
    "predicted_train_plot = []\n",
    "net.eval()\n",
    "\n",
    "for k in range(n_train):\n",
    "    x = torch.tensor(train[k])\n",
    "    x = x.reshape(1, window_size, feature_size)\n",
    "    x = x.to(device).float()\n",
    "    y = net(x)\n",
    "    y = y.to('cpu')\n",
    "    predicted_train_plot.append(y[0].item())\n",
    "    "
   ]
  },
  {
   "cell_type": "code",
   "execution_count": 21,
   "metadata": {},
   "outputs": [
    {
     "data": {
      "image/png": "[encoded data removed]",
      "text/plain": [
       "<Figure size 432x288 with 1 Axes>"
      ]
     },
     "metadata": {
      "needs_background": "light"
     },
     "output_type": "display_data"
    }
   ],
   "source": [
    "\n",
    "plt.plot(range(len(df_train)), df_train[:, 2], label='Correct')\n",
    "plt.plot(range(window_size, window_size+len(predicted_train_plot)), predicted_train_plot, label='Test result')\n",
    "plt.legend()\n",
    "plt.show()"
   ]
  },
  {
   "cell_type": "code",
   "execution_count": 25,
   "metadata": {},
   "outputs": [],
   "source": [
    "predicted_test_plot = []\n",
    "net.eval()\n",
    "\n",
    "for k in range(n_test):\n",
    "    x = torch.tensor(test[k])\n",
    "    x = x.reshape(1, window_size, feature_size)\n",
    "    x = x.to(device).float()\n",
    "    y = net(x)\n",
    "    predicted_test_plot.append(y[0].item())"
   ]
  },
  {
   "cell_type": "code",
   "execution_count": 26,
   "metadata": {},
   "outputs": [
    {
     "data": {
      "image/png": "[encoded data removed]",
      "text/plain": [
       "<Figure size 432x288 with 1 Axes>"
      ]
     },
     "metadata": {
      "needs_background": "light"
     },
     "output_type": "display_data"
    }
   ],
   "source": [
    "plt.plot(range(len(df_test)), df_test[:, 2], label='Correct')\n",
    "plt.plot(range(window_size, window_size+len(predicted_test_plot)), predicted_test_plot, label='Test result')\n",
    "plt.legend()\n",
    "plt.show()"
   ]
  },
  {
   "cell_type": "code",
   "execution_count": null,
   "metadata": {},
   "outputs": [],
   "source": []
  }
 ],
 "metadata": {
  "kernelspec": {
   "display_name": "Python 3 (ipykernel)",
   "language": "python",
   "name": "python3"
  },
  "language_info": {
   "codemirror_mode": {
    "name": "ipython",
    "version": 3
   },
   "file_extension": ".py",
   "mimetype": "text/x-python",
   "name": "python",
   "nbconvert_exporter": "python",
   "pygments_lexer": "ipython3",
   "version": "3.9.12"
  }
 },
 "nbformat": 4,
 "nbformat_minor": 2
}
