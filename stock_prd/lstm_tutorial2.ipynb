{
 "cells": [
  {
   "cell_type": "code",
   "execution_count": 34,
   "metadata": {},
   "outputs": [],
   "source": [
    "# ライブラリのインポート\n",
    "import numpy as np\n",
    "import pandas as pd\n",
    "from matplotlib import pyplot as plt\n",
    "\n",
    "from sklearn.preprocessing import MinMaxScaler\n",
    "from sklearn.model_selection import train_test_split\n",
    "\n",
    "import torch\n",
    "from torch import nn,optim\n",
    "from torch.utils.data import DataLoader, TensorDataset, Dataset\n",
    "from torchvision import transforms\n",
    "from torchinfo import summary\n",
    "from torch.autograd import Variable"
   ]
  },
  {
   "cell_type": "markdown",
   "metadata": {},
   "source": [
    "https://disassemble-channel.com/lstm-multivariate-time-series/  \n",
    "に対して株価を予測させたやつ"
   ]
  },
  {
   "cell_type": "code",
   "execution_count": 35,
   "metadata": {},
   "outputs": [
    {
     "data": {
      "text/html": [
       "<div>\n",
       "<style scoped>\n",
       "    .dataframe tbody tr th:only-of-type {\n",
       "        vertical-align: middle;\n",
       "    }\n",
       "\n",
       "    .dataframe tbody tr th {\n",
       "        vertical-align: top;\n",
       "    }\n",
       "\n",
       "    .dataframe thead th {\n",
       "        text-align: right;\n",
       "    }\n",
       "</style>\n",
       "<table border=\"1\" class=\"dataframe\">\n",
       "  <thead>\n",
       "    <tr style=\"text-align: right;\">\n",
       "      <th></th>\n",
       "      <th>Date</th>\n",
       "      <th>AACI</th>\n",
       "      <th>AADI</th>\n",
       "      <th>AAL</th>\n",
       "      <th>AAME</th>\n",
       "    </tr>\n",
       "  </thead>\n",
       "  <tbody>\n",
       "    <tr>\n",
       "      <th>0</th>\n",
       "      <td>2022-10-27</td>\n",
       "      <td>9.980</td>\n",
       "      <td>12.700</td>\n",
       "      <td>13.97</td>\n",
       "      <td>3.016111</td>\n",
       "    </tr>\n",
       "    <tr>\n",
       "      <th>1</th>\n",
       "      <td>2022-10-28</td>\n",
       "      <td>9.980</td>\n",
       "      <td>12.950</td>\n",
       "      <td>14.00</td>\n",
       "      <td>2.956778</td>\n",
       "    </tr>\n",
       "    <tr>\n",
       "      <th>2</th>\n",
       "      <td>2022-10-31</td>\n",
       "      <td>9.960</td>\n",
       "      <td>12.915</td>\n",
       "      <td>14.18</td>\n",
       "      <td>2.838111</td>\n",
       "    </tr>\n",
       "    <tr>\n",
       "      <th>3</th>\n",
       "      <td>2022-11-01</td>\n",
       "      <td>9.965</td>\n",
       "      <td>12.880</td>\n",
       "      <td>14.11</td>\n",
       "      <td>2.808444</td>\n",
       "    </tr>\n",
       "    <tr>\n",
       "      <th>4</th>\n",
       "      <td>2022-11-02</td>\n",
       "      <td>9.965</td>\n",
       "      <td>12.440</td>\n",
       "      <td>13.58</td>\n",
       "      <td>2.966667</td>\n",
       "    </tr>\n",
       "    <tr>\n",
       "      <th>...</th>\n",
       "      <td>...</td>\n",
       "      <td>...</td>\n",
       "      <td>...</td>\n",
       "      <td>...</td>\n",
       "      <td>...</td>\n",
       "    </tr>\n",
       "    <tr>\n",
       "      <th>246</th>\n",
       "      <td>2023-10-20</td>\n",
       "      <td>10.690</td>\n",
       "      <td>4.090</td>\n",
       "      <td>11.08</td>\n",
       "      <td>1.810000</td>\n",
       "    </tr>\n",
       "    <tr>\n",
       "      <th>247</th>\n",
       "      <td>2023-10-23</td>\n",
       "      <td>10.690</td>\n",
       "      <td>3.940</td>\n",
       "      <td>11.29</td>\n",
       "      <td>1.940000</td>\n",
       "    </tr>\n",
       "    <tr>\n",
       "      <th>248</th>\n",
       "      <td>2023-10-24</td>\n",
       "      <td>10.690</td>\n",
       "      <td>4.290</td>\n",
       "      <td>11.21</td>\n",
       "      <td>1.940000</td>\n",
       "    </tr>\n",
       "    <tr>\n",
       "      <th>249</th>\n",
       "      <td>2023-10-25</td>\n",
       "      <td>10.690</td>\n",
       "      <td>4.220</td>\n",
       "      <td>11.04</td>\n",
       "      <td>1.800000</td>\n",
       "    </tr>\n",
       "    <tr>\n",
       "      <th>250</th>\n",
       "      <td>2023-10-26</td>\n",
       "      <td>10.680</td>\n",
       "      <td>4.280</td>\n",
       "      <td>11.15</td>\n",
       "      <td>1.875600</td>\n",
       "    </tr>\n",
       "  </tbody>\n",
       "</table>\n",
       "<p>251 rows × 5 columns</p>\n",
       "</div>"
      ],
      "text/plain": [
       "           Date    AACI    AADI    AAL      AAME\n",
       "0    2022-10-27   9.980  12.700  13.97  3.016111\n",
       "1    2022-10-28   9.980  12.950  14.00  2.956778\n",
       "2    2022-10-31   9.960  12.915  14.18  2.838111\n",
       "3    2022-11-01   9.965  12.880  14.11  2.808444\n",
       "4    2022-11-02   9.965  12.440  13.58  2.966667\n",
       "..          ...     ...     ...    ...       ...\n",
       "246  2023-10-20  10.690   4.090  11.08  1.810000\n",
       "247  2023-10-23  10.690   3.940  11.29  1.940000\n",
       "248  2023-10-24  10.690   4.290  11.21  1.940000\n",
       "249  2023-10-25  10.690   4.220  11.04  1.800000\n",
       "250  2023-10-26  10.680   4.280  11.15  1.875600\n",
       "\n",
       "[251 rows x 5 columns]"
      ]
     },
     "execution_count": 35,
     "metadata": {},
     "output_type": "execute_result"
    }
   ],
   "source": [
    "df = pd.read_csv(\"https://raw.githubusercontent.com/aweglteo/tokyo_weather_data/main/data.csv\", parse_dates=True, index_col=0)\n",
    "df = pd.read_csv('./lstm_temp.csv')\n",
    "df"
   ]
  },
  {
   "cell_type": "code",
   "execution_count": 36,
   "metadata": {},
   "outputs": [
    {
     "data": {
      "text/plain": [
       "['AACI', 'AADI', 'AAL', 'AAME']"
      ]
     },
     "execution_count": 36,
     "metadata": {},
     "output_type": "execute_result"
    }
   ],
   "source": [
    "columns"
   ]
  },
  {
   "cell_type": "code",
   "execution_count": 37,
   "metadata": {},
   "outputs": [
    {
     "data": {
      "text/plain": [
       "'Date'"
      ]
     },
     "execution_count": 37,
     "metadata": {},
     "output_type": "execute_result"
    }
   ],
   "source": [
    "columns = list(df.columns)\n",
    "columns.pop(0)"
   ]
  },
  {
   "cell_type": "code",
   "execution_count": 38,
   "metadata": {},
   "outputs": [
    {
     "data": {
      "text/plain": [
       "array([[0.02409579, 0.89754098, 0.37757739, 0.97777778],\n",
       "       [0.02409579, 0.92315574, 0.38144334, 0.93333351],\n",
       "       [0.        , 0.91956969, 0.40463926, 0.84444444],\n",
       "       ...,\n",
       "       [0.8795176 , 0.03586065, 0.02190723, 0.17170212],\n",
       "       [0.8795176 , 0.0286885 , 0.        , 0.06683311],\n",
       "       [0.86747028, 0.03483608, 0.01417521, 0.12346236]])"
      ]
     },
     "execution_count": 38,
     "metadata": {},
     "output_type": "execute_result"
    }
   ],
   "source": [
    "scaler = MinMaxScaler()\n",
    "df_scaled = scaler.fit_transform(df[columns])\n",
    "df_scaled"
   ]
  },
  {
   "cell_type": "code",
   "execution_count": 39,
   "metadata": {},
   "outputs": [],
   "source": [
    "# テスト用と訓練用で分割\n",
    "df_train, df_test = train_test_split(df_scaled, test_size=0.3, shuffle=False)\n",
    "\n",
    "window_size = 20\n",
    "n_data = len(df) - window_size + 1 -1\n",
    "\n",
    "n_dim = df_train.shape[1]\n",
    "n_train = len(df_train) - window_size + 1 - 1\n",
    "n_test = len(df_test) - window_size + 1 - 1\n",
    "\n",
    "# 正解データを準備\n",
    "train = np.zeros((n_train, window_size, n_dim))\n",
    "train_labels = np.zeros((n_train, n_dim))\n",
    "for i in range(n_train):\n",
    "    train[i] = df_train[i:i+window_size]\n",
    "    train_labels[i] = df_train[i+window_size]\n",
    "\n",
    "# テストデータを準備\n",
    "test = np.zeros((n_test, window_size, n_dim))\n",
    "test_labels = np.zeros((n_test, n_dim))\n",
    "for i in range(n_test):\n",
    "    test[i] = df_test[i:i+window_size]\n",
    "    test_labels[i] = df_test[i+window_size]\n",
    "\n",
    "# 訓練ラベルの用意。今回は平均気温を予測する\n",
    "train_labels =train_labels[:, 2]"
   ]
  },
  {
   "cell_type": "code",
   "execution_count": 40,
   "metadata": {},
   "outputs": [],
   "source": [
    "train = torch.tensor(train, dtype=torch.float)\n",
    "labels = torch.tensor(train_labels, dtype=torch.float)\n",
    "dataset = torch.utils.data.TensorDataset(train, labels)\n",
    "train_loader = DataLoader(dataset, batch_size=4, shuffle=True)"
   ]
  },
  {
   "cell_type": "code",
   "execution_count": 41,
   "metadata": {},
   "outputs": [],
   "source": [
    "# 多変量を入力して、１変数の予測結果を返すLSTNモデル.\n",
    "class MyLSTM(nn.Module):\n",
    "    def __init__(self, feature_size, hidden_dim, n_layers):\n",
    "        super(MyLSTM, self).__init__()\n",
    "\n",
    "        self.feature_size = feature_size\n",
    "        self.hidden_dim = hidden_dim\n",
    "        self.n_layers = n_layers\n",
    "        self.n_output = 1\n",
    "\n",
    "        self.lstm = nn.LSTM(feature_size, hidden_dim, n_layers, batch_first=True)\n",
    "        self.fc = nn.Linear(hidden_dim, self.n_output)\n",
    "\n",
    "    def forward(self, x):\n",
    "        h_0 = torch.zeros(self.n_layers, x.size(0), self.hidden_dim).to(device)\n",
    "        c_0 = torch.zeros(self.n_layers, x.size(0), self.hidden_dim).to(device)\n",
    "        \n",
    "        output, (hn, cn) = self.lstm(x, (h_0, c_0)) # (input, hidden, and internal state)\n",
    "        hn = hn.view(-1, self.hidden_dim) \n",
    "        y = self.fc(hn)\n",
    "        y = y.reshape(self.n_output, -1)\n",
    "\n",
    "        return y\n",
    "\n",
    "\n",
    "feature_size  = 4\n",
    "n_hidden  = 64\n",
    "n_layers  = 1\n",
    "device = torch.device('cuda' if torch.cuda.is_available() else 'cpu')\n",
    "net = MyLSTM(feature_size, n_hidden, n_layers).to(device)"
   ]
  },
  {
   "cell_type": "code",
   "execution_count": 42,
   "metadata": {},
   "outputs": [
    {
     "data": {
      "text/plain": [
       "=================================================================\n",
       "Layer (type:depth-idx)                   Param #\n",
       "=================================================================\n",
       "MyLSTM                                   --\n",
       "├─LSTM: 1-1                              17,920\n",
       "├─Linear: 1-2                            65\n",
       "=================================================================\n",
       "Total params: 17,985\n",
       "Trainable params: 17,985\n",
       "Non-trainable params: 0\n",
       "================================================================="
      ]
     },
     "execution_count": 42,
     "metadata": {},
     "output_type": "execute_result"
    }
   ],
   "source": [
    "summary(net)"
   ]
  },
  {
   "cell_type": "code",
   "execution_count": 43,
   "metadata": {},
   "outputs": [
    {
     "name": "stdout",
     "output_type": "stream",
     "text": [
      "run with cuda\n"
     ]
    },
    {
     "data": {
      "text/plain": [
       "MyLSTM(\n",
       "  (lstm): LSTM(4, 64, batch_first=True)\n",
       "  (fc): Linear(in_features=64, out_features=1, bias=True)\n",
       ")"
      ]
     },
     "execution_count": 43,
     "metadata": {},
     "output_type": "execute_result"
    }
   ],
   "source": [
    "func_loss = nn.MSELoss()\n",
    "optimizer = optim.Adam(net.parameters(), lr=0.001)\n",
    "loss_history = []\n",
    "\n",
    "print(f\"run with {device}\")\n",
    "epochs = 200\n",
    "\n",
    "net.to(device)"
   ]
  },
  {
   "cell_type": "code",
   "execution_count": 44,
   "metadata": {},
   "outputs": [
    {
     "name": "stderr",
     "output_type": "stream",
     "text": [
      "C:\\Users\\drryu\\anaconda3\\lib\\site-packages\\torch\\nn\\modules\\loss.py:536: UserWarning: Using a target size (torch.Size([4])) that is different to the input size (torch.Size([1, 4])). This will likely lead to incorrect results due to broadcasting. Please ensure they have the same size.\n",
      "  return F.mse_loss(input, target, reduction=self.reduction)\n",
      "C:\\Users\\drryu\\anaconda3\\lib\\site-packages\\torch\\nn\\modules\\loss.py:536: UserWarning: Using a target size (torch.Size([3])) that is different to the input size (torch.Size([1, 3])). This will likely lead to incorrect results due to broadcasting. Please ensure they have the same size.\n",
      "  return F.mse_loss(input, target, reduction=self.reduction)\n"
     ]
    },
    {
     "name": "stdout",
     "output_type": "stream",
     "text": [
      "Epoch: 0 Loss_Train: 0.06850821988131756\n",
      "Epoch: 1 Loss_Train: 0.019918264271930244\n",
      "Epoch: 2 Loss_Train: 0.008791196706274955\n",
      "Epoch: 3 Loss_Train: 0.007677561394535961\n",
      "Epoch: 4 Loss_Train: 0.006937436654250353\n",
      "Epoch: 5 Loss_Train: 0.0061383144422553675\n",
      "Epoch: 6 Loss_Train: 0.006611913372464\n",
      "Epoch: 7 Loss_Train: 0.005893157195084943\n",
      "Epoch: 8 Loss_Train: 0.005233529578291405\n",
      "Epoch: 9 Loss_Train: 0.005651253656161806\n",
      "Epoch: 10 Loss_Train: 0.00614184231007806\n",
      "Epoch: 11 Loss_Train: 0.004935362063593064\n",
      "Epoch: 12 Loss_Train: 0.005256387773746003\n",
      "Epoch: 13 Loss_Train: 0.004281441738921552\n",
      "Epoch: 14 Loss_Train: 0.004106155932486917\n",
      "Epoch: 15 Loss_Train: 0.004083057522970753\n",
      "Epoch: 16 Loss_Train: 0.004045373765014422\n",
      "Epoch: 17 Loss_Train: 0.004254115115588483\n",
      "Epoch: 18 Loss_Train: 0.0037748581813409543\n",
      "Epoch: 19 Loss_Train: 0.0035565442805632185\n",
      "Epoch: 20 Loss_Train: 0.003378220596716393\n",
      "Epoch: 21 Loss_Train: 0.0032437434263276653\n",
      "Epoch: 22 Loss_Train: 0.0032138021268063965\n",
      "Epoch: 23 Loss_Train: 0.0037082024179816916\n",
      "Epoch: 24 Loss_Train: 0.0034505445196723137\n",
      "Epoch: 25 Loss_Train: 0.002969274671228889\n",
      "Epoch: 26 Loss_Train: 0.0030992504318232816\n",
      "Epoch: 27 Loss_Train: 0.002806239372987945\n",
      "Epoch: 28 Loss_Train: 0.0033095214054740677\n",
      "Epoch: 29 Loss_Train: 0.003042047752294307\n",
      "Epoch: 30 Loss_Train: 0.0028848116030880753\n",
      "Epoch: 31 Loss_Train: 0.002885743793740403\n",
      "Epoch: 32 Loss_Train: 0.002627273577486332\n",
      "Epoch: 33 Loss_Train: 0.0026167158883673926\n",
      "Epoch: 34 Loss_Train: 0.0026513650679053404\n",
      "Epoch: 35 Loss_Train: 0.002590323308817087\n",
      "Epoch: 36 Loss_Train: 0.0029427377165307123\n",
      "Epoch: 37 Loss_Train: 0.002328354234729583\n",
      "Epoch: 38 Loss_Train: 0.002797834181901402\n",
      "Epoch: 39 Loss_Train: 0.002808736628279663\n",
      "Epoch: 40 Loss_Train: 0.002506327595209512\n",
      "Epoch: 41 Loss_Train: 0.002599715783454042\n",
      "Epoch: 42 Loss_Train: 0.002462374968066191\n",
      "Epoch: 43 Loss_Train: 0.0026660785224521533\n",
      "Epoch: 44 Loss_Train: 0.0022559584855722883\n",
      "Epoch: 45 Loss_Train: 0.002485924642547989\n",
      "Epoch: 46 Loss_Train: 0.0021706647791851982\n",
      "Epoch: 47 Loss_Train: 0.002505333908349992\n",
      "Epoch: 48 Loss_Train: 0.00220174459368886\n",
      "Epoch: 49 Loss_Train: 0.002173971069845347\n",
      "Epoch: 50 Loss_Train: 0.002353110156269768\n",
      "Epoch: 51 Loss_Train: 0.002387308308150237\n",
      "Epoch: 52 Loss_Train: 0.002172489184886217\n",
      "Epoch: 53 Loss_Train: 0.0021504559710872574\n",
      "Epoch: 54 Loss_Train: 0.0021826737091685524\n",
      "Epoch: 55 Loss_Train: 0.001993888698612304\n",
      "Epoch: 56 Loss_Train: 0.0020303486283713332\n",
      "Epoch: 57 Loss_Train: 0.002114823911725603\n",
      "Epoch: 58 Loss_Train: 0.002253793876615162\n",
      "Epoch: 59 Loss_Train: 0.0019523087498666241\n",
      "Epoch: 60 Loss_Train: 0.002059927358715914\n",
      "Epoch: 61 Loss_Train: 0.0020298707158639072\n",
      "Epoch: 62 Loss_Train: 0.00188920505547102\n",
      "Epoch: 63 Loss_Train: 0.002307114085385528\n",
      "Epoch: 64 Loss_Train: 0.002420055002380067\n",
      "Epoch: 65 Loss_Train: 0.0018986287356640857\n",
      "Epoch: 66 Loss_Train: 0.0020171253750166404\n",
      "Epoch: 67 Loss_Train: 0.0019443663182662418\n",
      "Epoch: 68 Loss_Train: 0.001863860367731645\n",
      "Epoch: 69 Loss_Train: 0.0019643506442289203\n",
      "Epoch: 70 Loss_Train: 0.0020063460467962357\n",
      "Epoch: 71 Loss_Train: 0.0020162124233021853\n",
      "Epoch: 72 Loss_Train: 0.0017870374791434584\n",
      "Epoch: 73 Loss_Train: 0.0018901619328878438\n",
      "Epoch: 74 Loss_Train: 0.0019207828669235683\n",
      "Epoch: 75 Loss_Train: 0.001748886318334068\n",
      "Epoch: 76 Loss_Train: 0.0019008767797062413\n",
      "Epoch: 77 Loss_Train: 0.0019519522525698473\n",
      "Epoch: 78 Loss_Train: 0.001918224326054303\n",
      "Epoch: 79 Loss_Train: 0.001755809411406517\n",
      "Epoch: 80 Loss_Train: 0.001818233033051141\n",
      "Epoch: 81 Loss_Train: 0.0018556801832090013\n",
      "Epoch: 82 Loss_Train: 0.0018608476436780526\n",
      "Epoch: 83 Loss_Train: 0.0018793782381600556\n",
      "Epoch: 84 Loss_Train: 0.0016972276605837322\n",
      "Epoch: 85 Loss_Train: 0.0017611720171631672\n",
      "Epoch: 86 Loss_Train: 0.0015930162033048244\n",
      "Epoch: 87 Loss_Train: 0.0015883637186981593\n",
      "Epoch: 88 Loss_Train: 0.00186529611192572\n",
      "Epoch: 89 Loss_Train: 0.0017117154361002552\n",
      "Epoch: 90 Loss_Train: 0.0016972989490172134\n",
      "Epoch: 91 Loss_Train: 0.0016952989086022195\n",
      "Epoch: 92 Loss_Train: 0.0016400719062240126\n",
      "Epoch: 93 Loss_Train: 0.0019675526791849197\n",
      "Epoch: 94 Loss_Train: 0.0021225208109125304\n",
      "Epoch: 95 Loss_Train: 0.0015165901568252593\n",
      "Epoch: 96 Loss_Train: 0.0016654348728479818\n",
      "Epoch: 97 Loss_Train: 0.001876303316422332\n",
      "Epoch: 98 Loss_Train: 0.0018338328009122051\n",
      "Epoch: 99 Loss_Train: 0.001897394068342132\n",
      "Epoch: 100 Loss_Train: 0.0019126421091361688\n",
      "Epoch: 101 Loss_Train: 0.00171842552308823\n",
      "Epoch: 102 Loss_Train: 0.0017550744128246338\n",
      "Epoch: 103 Loss_Train: 0.0016095392661204992\n",
      "Epoch: 104 Loss_Train: 0.0017434720428308281\n",
      "Epoch: 105 Loss_Train: 0.001524434088750217\n",
      "Epoch: 106 Loss_Train: 0.0017579069229750298\n",
      "Epoch: 107 Loss_Train: 0.0016981678461142553\n",
      "Epoch: 108 Loss_Train: 0.0015669499006411897\n",
      "Epoch: 109 Loss_Train: 0.0014580171510505562\n",
      "Epoch: 110 Loss_Train: 0.0017400402448868428\n",
      "Epoch: 111 Loss_Train: 0.0014903534025413534\n",
      "Epoch: 112 Loss_Train: 0.0015104955356293477\n",
      "Epoch: 113 Loss_Train: 0.0013756253002868153\n",
      "Epoch: 114 Loss_Train: 0.0016507441733921997\n",
      "Epoch: 115 Loss_Train: 0.001447199019588506\n",
      "Epoch: 116 Loss_Train: 0.0016141026978566048\n",
      "Epoch: 117 Loss_Train: 0.0015678326401543112\n",
      "Epoch: 118 Loss_Train: 0.0014528488874277219\n",
      "Epoch: 119 Loss_Train: 0.0015128110188435619\n",
      "Epoch: 120 Loss_Train: 0.0015568228543718131\n",
      "Epoch: 121 Loss_Train: 0.0016935752560712923\n",
      "Epoch: 122 Loss_Train: 0.0016501605151018177\n",
      "Epoch: 123 Loss_Train: 0.0018517469967870663\n",
      "Epoch: 124 Loss_Train: 0.0013950030634311051\n",
      "Epoch: 125 Loss_Train: 0.0014110512882978537\n",
      "Epoch: 126 Loss_Train: 0.0015557720445287533\n",
      "Epoch: 127 Loss_Train: 0.001504216260517028\n",
      "Epoch: 128 Loss_Train: 0.0014385449512001986\n",
      "Epoch: 129 Loss_Train: 0.0018768758626463704\n",
      "Epoch: 130 Loss_Train: 0.0014721780304777592\n",
      "Epoch: 131 Loss_Train: 0.0015105045225563794\n",
      "Epoch: 132 Loss_Train: 0.0017080338580760723\n",
      "Epoch: 133 Loss_Train: 0.0014245506812212393\n",
      "Epoch: 134 Loss_Train: 0.001383054483971463\n",
      "Epoch: 135 Loss_Train: 0.0014007150354863813\n",
      "Epoch: 136 Loss_Train: 0.0014284204457325335\n",
      "Epoch: 137 Loss_Train: 0.001376668599475987\n",
      "Epoch: 138 Loss_Train: 0.0014779760792570857\n",
      "Epoch: 139 Loss_Train: 0.0015153171560273338\n",
      "Epoch: 140 Loss_Train: 0.001350423907682013\n",
      "Epoch: 141 Loss_Train: 0.001261215095814222\n",
      "Epoch: 142 Loss_Train: 0.0014009081091782532\n",
      "Epoch: 143 Loss_Train: 0.0015253787263272665\n",
      "Epoch: 144 Loss_Train: 0.0014441684482638568\n",
      "Epoch: 145 Loss_Train: 0.0012520044163885848\n",
      "Epoch: 146 Loss_Train: 0.0013395112018303897\n",
      "Epoch: 147 Loss_Train: 0.0015109987536375113\n",
      "Epoch: 148 Loss_Train: 0.0013364838919071003\n",
      "Epoch: 149 Loss_Train: 0.0012657283025477321\n",
      "Epoch: 150 Loss_Train: 0.0013111243278194123\n",
      "Epoch: 151 Loss_Train: 0.0013278996820400397\n",
      "Epoch: 152 Loss_Train: 0.0013256326904714417\n",
      "Epoch: 153 Loss_Train: 0.0012756264455114992\n",
      "Epoch: 154 Loss_Train: 0.00148533179741114\n",
      "Epoch: 155 Loss_Train: 0.001210007213768012\n",
      "Epoch: 156 Loss_Train: 0.0012357364730866184\n",
      "Epoch: 157 Loss_Train: 0.0015315945302763095\n",
      "Epoch: 158 Loss_Train: 0.0011376403615427895\n",
      "Epoch: 159 Loss_Train: 0.0012965967952578256\n",
      "Epoch: 160 Loss_Train: 0.001281148025485051\n",
      "Epoch: 161 Loss_Train: 0.001086301864677061\n",
      "Epoch: 162 Loss_Train: 0.0014669014292452724\n",
      "Epoch: 163 Loss_Train: 0.0012687031203546585\n",
      "Epoch: 164 Loss_Train: 0.0013304664518308039\n",
      "Epoch: 165 Loss_Train: 0.0014012070958135435\n",
      "Epoch: 166 Loss_Train: 0.0011649521693470888\n",
      "Epoch: 167 Loss_Train: 0.0012083175474216635\n",
      "Epoch: 168 Loss_Train: 0.0013469257403183011\n",
      "Epoch: 169 Loss_Train: 0.001117582631988439\n",
      "Epoch: 170 Loss_Train: 0.001183821649204056\n",
      "Epoch: 171 Loss_Train: 0.0011148722290109175\n",
      "Epoch: 172 Loss_Train: 0.0011660530282638203\n",
      "Epoch: 173 Loss_Train: 0.001134153068774023\n",
      "Epoch: 174 Loss_Train: 0.0011244520167402255\n",
      "Epoch: 175 Loss_Train: 0.0009877923286508005\n",
      "Epoch: 176 Loss_Train: 0.0011344047688441768\n",
      "Epoch: 177 Loss_Train: 0.0009846152043349158\n",
      "Epoch: 178 Loss_Train: 0.001168901031353296\n",
      "Epoch: 179 Loss_Train: 0.0014300709933591767\n",
      "Epoch: 180 Loss_Train: 0.0012800107513799164\n",
      "Epoch: 181 Loss_Train: 0.0012253555536377602\n",
      "Epoch: 182 Loss_Train: 0.0010999638743203085\n",
      "Epoch: 183 Loss_Train: 0.0011575408891822475\n",
      "Epoch: 184 Loss_Train: 0.0012743348466196598\n",
      "Epoch: 185 Loss_Train: 0.0010609739230205424\n",
      "Epoch: 186 Loss_Train: 0.0010008206247734146\n",
      "Epoch: 187 Loss_Train: 0.0012099587784644265\n",
      "Epoch: 188 Loss_Train: 0.0010286876748954782\n",
      "Epoch: 189 Loss_Train: 0.0011086314900752862\n",
      "Epoch: 190 Loss_Train: 0.0011420067898236597\n",
      "Epoch: 191 Loss_Train: 0.0011762357854212706\n",
      "Epoch: 192 Loss_Train: 0.0013363929623991656\n",
      "Epoch: 193 Loss_Train: 0.0011418813082855195\n",
      "Epoch: 194 Loss_Train: 0.0009960000050994449\n",
      "Epoch: 195 Loss_Train: 0.0010459041487849436\n",
      "Epoch: 196 Loss_Train: 0.001106529999957181\n",
      "Epoch: 197 Loss_Train: 0.0010826925983261997\n",
      "Epoch: 198 Loss_Train: 0.0011502225851216235\n",
      "Epoch: 199 Loss_Train: 0.0011475477751959355\n",
      "Epoch: 200 Loss_Train: 0.0012140080395441216\n"
     ]
    }
   ],
   "source": [
    "for i in range(epochs+1):\n",
    "    net.train()\n",
    "    tmp_loss = 0.0\n",
    "    for j, (x, t) in enumerate(train_loader):\n",
    "        x = x.to(device)\n",
    "        optimizer.zero_grad()\n",
    "        y = net(x).to('cpu')\n",
    "        loss = func_loss(y, t)\n",
    "        loss.backward()\n",
    "        optimizer.step() \n",
    "        tmp_loss += loss.item()\n",
    "    tmp_loss /= j+1\n",
    "    loss_history.append(tmp_loss)\n",
    "    print('Epoch:', i, 'Loss_Train:', tmp_loss)"
   ]
  },
  {
   "cell_type": "code",
   "execution_count": 33,
   "metadata": {},
   "outputs": [],
   "source": [
    "torch.save(net.state_dict(), f'./lstm.pth')"
   ]
  },
  {
   "cell_type": "code",
   "execution_count": 45,
   "metadata": {},
   "outputs": [
    {
     "data": {
      "image/png": "[encoded data removed]",
      "text/plain": [
       "<Figure size 432x288 with 1 Axes>"
      ]
     },
     "metadata": {
      "needs_background": "light"
     },
     "output_type": "display_data"
    }
   ],
   "source": [
    "plt.plot(range(len(loss_history)), loss_history, label='train')\n",
    "plt.legend()\n",
    "\n",
    "plt.xlabel(\"epochs\")\n",
    "plt.ylabel(\"loss\")\n",
    "plt.show()"
   ]
  },
  {
   "cell_type": "code",
   "execution_count": 46,
   "metadata": {},
   "outputs": [
    {
     "name": "stderr",
     "output_type": "stream",
     "text": [
      "C:\\Users\\drryu\\AppData\\Local\\Temp\\ipykernel_16708\\1814804422.py:5: UserWarning: To copy construct from a tensor, it is recommended to use sourceTensor.clone().detach() or sourceTensor.clone().detach().requires_grad_(True), rather than torch.tensor(sourceTensor).\n",
      "  x = torch.tensor(train[k])\n"
     ]
    }
   ],
   "source": [
    "predicted_train_plot = []\n",
    "net.eval()\n",
    "\n",
    "for k in range(n_train):\n",
    "    x = torch.tensor(train[k])\n",
    "    x = x.reshape(1, window_size, feature_size)\n",
    "    x = x.to(device).float()\n",
    "    y = net(x)\n",
    "    y = y.to('cpu')\n",
    "    predicted_train_plot.append(y[0].item())\n",
    "    "
   ]
  },
  {
   "cell_type": "code",
   "execution_count": 47,
   "metadata": {},
   "outputs": [
    {
     "data": {
      "image/png": "[encoded data removed]",
      "text/plain": [
       "<Figure size 432x288 with 1 Axes>"
      ]
     },
     "metadata": {
      "needs_background": "light"
     },
     "output_type": "display_data"
    }
   ],
   "source": [
    "\n",
    "plt.plot(range(len(df_train)), df_train[:, 2], label='Correct')\n",
    "plt.plot(range(window_size, window_size+len(predicted_train_plot)), predicted_train_plot, label='Test result')\n",
    "plt.legend()\n",
    "plt.show()"
   ]
  },
  {
   "cell_type": "code",
   "execution_count": 48,
   "metadata": {},
   "outputs": [],
   "source": [
    "predicted_test_plot = []\n",
    "net.eval()\n",
    "\n",
    "for k in range(n_test):\n",
    "    x = torch.tensor(test[k])\n",
    "    x = x.reshape(1, window_size, feature_size)\n",
    "    x = x.to(device).float()\n",
    "    y = net(x)\n",
    "    predicted_test_plot.append(y[0].item())"
   ]
  },
  {
   "cell_type": "code",
   "execution_count": 49,
   "metadata": {},
   "outputs": [
    {
     "data": {
      "image/png": "[encoded data removed]",
      "text/plain": [
       "<Figure size 432x288 with 1 Axes>"
      ]
     },
     "metadata": {
      "needs_background": "light"
     },
     "output_type": "display_data"
    }
   ],
   "source": [
    "plt.plot(range(len(df_test)), df_test[:, 2], label='Correct')\n",
    "plt.plot(range(window_size, window_size+len(predicted_test_plot)), predicted_test_plot, label='Test result')\n",
    "plt.legend()\n",
    "plt.show()"
   ]
  },
  {
   "cell_type": "code",
   "execution_count": null,
   "metadata": {},
   "outputs": [],
   "source": []
  }
 ],
 "metadata": {
  "kernelspec": {
   "display_name": "Python 3 (ipykernel)",
   "language": "python",
   "name": "python3"
  },
  "language_info": {
   "codemirror_mode": {
    "name": "ipython",
    "version": 3
   },
   "file_extension": ".py",
   "mimetype": "text/x-python",
   "name": "python",
   "nbconvert_exporter": "python",
   "pygments_lexer": "ipython3",
   "version": "3.9.12"
  }
 },
 "nbformat": 4,
 "nbformat_minor": 2
}
